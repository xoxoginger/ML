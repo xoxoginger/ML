{
 "cells": [
  {
   "cell_type": "markdown",
   "metadata": {},
   "source": [
    "# Лабораторная работа 1\n",
    "#### Выполнила Алексюнина Юлия, группа М8О-407\n",
    "\n",
    "### Условие"
   ]
  },
  {
   "cell_type": "markdown",
   "metadata": {},
   "source": [
    "- Необходимо реализовать алгоритмы машинного обучения.\n",
    "    - 1) ЛОГИСТИЧЕСКАЯ РЕГРЕССИЯ\n",
    "    - 2) KNN\n",
    "    - 3) SVM\n",
    "    - 4) ДЕРЕВО РЕШЕНИЙ\n",
    "    - 5) RANDOM FOREST\n",
    "- Применить данные алгоритмы на наборы данных, подготовленных в первой лабораторной работе.\n",
    "- Провести анализ полученных моделей, вычислить метрики классификатора.\n",
    "- Произвести тюнинг параметров в случае необходимости.\n",
    "- Сравнить полученные результаты с моделями реализованными в scikit-learn.\n",
    "- Аналогично построить метрики классификации.\n",
    "- Показать, что полученные модели не переобучились.\n",
    "- Также необходимо сделать выводы о применимости данных моделей к вашей задаче.\n",
    "\n",
    "\n",
    "Обязательно:\n",
    "\n",
    "1) ЛОГИСТИЧЕСКАЯ РЕГРЕССИЯ\n",
    "\n",
    "2) KNN\n",
    "\n",
    "3) ДЕРЕВО РЕШЕНИЙ\n",
    "\n",
    "4) RANDOM FOREST"
   ]
  },
  {
   "cell_type": "markdown",
   "metadata": {},
   "source": [
    "Полезные ссылки:\n",
    "https://scikit-learn.org/stable/modules/generated/sklearn.model_selection.train_test_split.html https://tproger.ru/translations/top-machine-learning-algorithms/ \n",
    "https://tproger.ru/translations/hitchhikers-guide-to-ml/"
   ]
  },
  {
   "cell_type": "markdown",
   "metadata": {},
   "source": [
    "### Первый датасет"
   ]
  },
  {
   "cell_type": "markdown",
   "metadata": {},
   "source": [
    "Для выполнения данной лабораторной я выбрала датасет болезней сердца, так как он наиболее подходит для задачи классификации. База данных содержит 76 атрибутов, таких как возраст, пол, тип боли в груди, артериальное давление в покое и другие."
   ]
  },
  {
   "cell_type": "markdown",
   "metadata": {},
   "source": [
    "Импортируем необходимые для работы библиотеки."
   ]
  },
  {
   "cell_type": "code",
   "execution_count": 1,
   "metadata": {},
   "outputs": [],
   "source": [
    "import matplotlib.pyplot as plt\n",
    "import seaborn as sns\n",
    "import pandas as pd\n",
    "import numpy as np\n",
    "import os"
   ]
  },
  {
   "cell_type": "markdown",
   "metadata": {},
   "source": [
    "Считываем данные и выведем первые 5 строк для визуализации."
   ]
  },
  {
   "cell_type": "code",
   "execution_count": 2,
   "metadata": {},
   "outputs": [
    {
     "data": {
      "text/html": [
       "<div>\n",
       "<style scoped>\n",
       "    .dataframe tbody tr th:only-of-type {\n",
       "        vertical-align: middle;\n",
       "    }\n",
       "\n",
       "    .dataframe tbody tr th {\n",
       "        vertical-align: top;\n",
       "    }\n",
       "\n",
       "    .dataframe thead th {\n",
       "        text-align: right;\n",
       "    }\n",
       "</style>\n",
       "<table border=\"1\" class=\"dataframe\">\n",
       "  <thead>\n",
       "    <tr style=\"text-align: right;\">\n",
       "      <th></th>\n",
       "      <th>age</th>\n",
       "      <th>sex</th>\n",
       "      <th>cp</th>\n",
       "      <th>trestbps</th>\n",
       "      <th>chol</th>\n",
       "      <th>fbs</th>\n",
       "      <th>restecg</th>\n",
       "      <th>thalach</th>\n",
       "      <th>exang</th>\n",
       "      <th>oldpeak</th>\n",
       "      <th>slope</th>\n",
       "      <th>ca</th>\n",
       "      <th>thal</th>\n",
       "      <th>target</th>\n",
       "    </tr>\n",
       "  </thead>\n",
       "  <tbody>\n",
       "    <tr>\n",
       "      <th>0</th>\n",
       "      <td>63</td>\n",
       "      <td>1</td>\n",
       "      <td>3</td>\n",
       "      <td>145</td>\n",
       "      <td>233</td>\n",
       "      <td>1</td>\n",
       "      <td>0</td>\n",
       "      <td>150</td>\n",
       "      <td>0</td>\n",
       "      <td>2.3</td>\n",
       "      <td>0</td>\n",
       "      <td>0</td>\n",
       "      <td>1</td>\n",
       "      <td>1</td>\n",
       "    </tr>\n",
       "    <tr>\n",
       "      <th>1</th>\n",
       "      <td>37</td>\n",
       "      <td>1</td>\n",
       "      <td>2</td>\n",
       "      <td>130</td>\n",
       "      <td>250</td>\n",
       "      <td>0</td>\n",
       "      <td>1</td>\n",
       "      <td>187</td>\n",
       "      <td>0</td>\n",
       "      <td>3.5</td>\n",
       "      <td>0</td>\n",
       "      <td>0</td>\n",
       "      <td>2</td>\n",
       "      <td>1</td>\n",
       "    </tr>\n",
       "    <tr>\n",
       "      <th>2</th>\n",
       "      <td>41</td>\n",
       "      <td>0</td>\n",
       "      <td>1</td>\n",
       "      <td>130</td>\n",
       "      <td>204</td>\n",
       "      <td>0</td>\n",
       "      <td>0</td>\n",
       "      <td>172</td>\n",
       "      <td>0</td>\n",
       "      <td>1.4</td>\n",
       "      <td>2</td>\n",
       "      <td>0</td>\n",
       "      <td>2</td>\n",
       "      <td>1</td>\n",
       "    </tr>\n",
       "    <tr>\n",
       "      <th>3</th>\n",
       "      <td>56</td>\n",
       "      <td>1</td>\n",
       "      <td>1</td>\n",
       "      <td>120</td>\n",
       "      <td>236</td>\n",
       "      <td>0</td>\n",
       "      <td>1</td>\n",
       "      <td>178</td>\n",
       "      <td>0</td>\n",
       "      <td>0.8</td>\n",
       "      <td>2</td>\n",
       "      <td>0</td>\n",
       "      <td>2</td>\n",
       "      <td>1</td>\n",
       "    </tr>\n",
       "    <tr>\n",
       "      <th>4</th>\n",
       "      <td>57</td>\n",
       "      <td>0</td>\n",
       "      <td>0</td>\n",
       "      <td>120</td>\n",
       "      <td>354</td>\n",
       "      <td>0</td>\n",
       "      <td>1</td>\n",
       "      <td>163</td>\n",
       "      <td>1</td>\n",
       "      <td>0.6</td>\n",
       "      <td>2</td>\n",
       "      <td>0</td>\n",
       "      <td>2</td>\n",
       "      <td>1</td>\n",
       "    </tr>\n",
       "  </tbody>\n",
       "</table>\n",
       "</div>"
      ],
      "text/plain": [
       "   age  sex  cp  trestbps  chol  fbs  restecg  thalach  exang  oldpeak  slope  \\\n",
       "0   63    1   3       145   233    1        0      150      0      2.3      0   \n",
       "1   37    1   2       130   250    0        1      187      0      3.5      0   \n",
       "2   41    0   1       130   204    0        0      172      0      1.4      2   \n",
       "3   56    1   1       120   236    0        1      178      0      0.8      2   \n",
       "4   57    0   0       120   354    0        1      163      1      0.6      2   \n",
       "\n",
       "   ca  thal  target  \n",
       "0   0     1       1  \n",
       "1   0     2       1  \n",
       "2   0     2       1  \n",
       "3   0     2       1  \n",
       "4   0     2       1  "
      ]
     },
     "execution_count": 2,
     "metadata": {},
     "output_type": "execute_result"
    }
   ],
   "source": [
    "ds = pd.read_csv('/Users/linuxoid/Desktop/VUZICH/ML/input_data/heart.csv')\n",
    "\n",
    "ds.head()"
   ]
  },
  {
   "cell_type": "markdown",
   "metadata": {},
   "source": [
    "Проверим имеются ли в наших данных пропуски."
   ]
  },
  {
   "cell_type": "code",
   "execution_count": 3,
   "metadata": {},
   "outputs": [],
   "source": [
    "ds.drop([48, 92, 158, 163, 164, 251, 281], inplace = True)"
   ]
  },
  {
   "cell_type": "markdown",
   "metadata": {},
   "source": [
    "Я исправила данные, теперь можно изменить заголовки колонок в более читабельный вид."
   ]
  },
  {
   "cell_type": "code",
   "execution_count": 4,
   "metadata": {},
   "outputs": [
    {
     "data": {
      "text/html": [
       "<div>\n",
       "<style scoped>\n",
       "    .dataframe tbody tr th:only-of-type {\n",
       "        vertical-align: middle;\n",
       "    }\n",
       "\n",
       "    .dataframe tbody tr th {\n",
       "        vertical-align: top;\n",
       "    }\n",
       "\n",
       "    .dataframe thead th {\n",
       "        text-align: right;\n",
       "    }\n",
       "</style>\n",
       "<table border=\"1\" class=\"dataframe\">\n",
       "  <thead>\n",
       "    <tr style=\"text-align: right;\">\n",
       "      <th></th>\n",
       "      <th>Age</th>\n",
       "      <th>Sex</th>\n",
       "      <th>Chest Pain Type</th>\n",
       "      <th>Resting Blood Pressure</th>\n",
       "      <th>Cholesterol</th>\n",
       "      <th>Fasting Blood Sugar</th>\n",
       "      <th>Rest ECG</th>\n",
       "      <th>Max Heart Rate Achieved</th>\n",
       "      <th>Exercise Induced Angina</th>\n",
       "      <th>ST Depression</th>\n",
       "      <th>ST Slope</th>\n",
       "      <th>Number Major Vessels</th>\n",
       "      <th>Thalassemia</th>\n",
       "      <th>Heart Disease</th>\n",
       "    </tr>\n",
       "  </thead>\n",
       "  <tbody>\n",
       "    <tr>\n",
       "      <th>0</th>\n",
       "      <td>63</td>\n",
       "      <td>Male</td>\n",
       "      <td>Typical Angina</td>\n",
       "      <td>145</td>\n",
       "      <td>233</td>\n",
       "      <td>&gt; 120 mg/dl</td>\n",
       "      <td>Left Ventricular Hypertrophy</td>\n",
       "      <td>150</td>\n",
       "      <td>No</td>\n",
       "      <td>2.3</td>\n",
       "      <td>Downsloping</td>\n",
       "      <td>0</td>\n",
       "      <td>Fixed Defect</td>\n",
       "      <td>No</td>\n",
       "    </tr>\n",
       "    <tr>\n",
       "      <th>1</th>\n",
       "      <td>37</td>\n",
       "      <td>Male</td>\n",
       "      <td>Non-Anginal Pain</td>\n",
       "      <td>130</td>\n",
       "      <td>250</td>\n",
       "      <td>&lt; 120 mg/dl</td>\n",
       "      <td>Normal</td>\n",
       "      <td>187</td>\n",
       "      <td>No</td>\n",
       "      <td>3.5</td>\n",
       "      <td>Downsloping</td>\n",
       "      <td>0</td>\n",
       "      <td>Normal</td>\n",
       "      <td>No</td>\n",
       "    </tr>\n",
       "    <tr>\n",
       "      <th>2</th>\n",
       "      <td>41</td>\n",
       "      <td>Female</td>\n",
       "      <td>Atypical Angina</td>\n",
       "      <td>130</td>\n",
       "      <td>204</td>\n",
       "      <td>&lt; 120 mg/dl</td>\n",
       "      <td>Left Ventricular Hypertrophy</td>\n",
       "      <td>172</td>\n",
       "      <td>No</td>\n",
       "      <td>1.4</td>\n",
       "      <td>Upsloping</td>\n",
       "      <td>0</td>\n",
       "      <td>Normal</td>\n",
       "      <td>No</td>\n",
       "    </tr>\n",
       "    <tr>\n",
       "      <th>3</th>\n",
       "      <td>56</td>\n",
       "      <td>Male</td>\n",
       "      <td>Atypical Angina</td>\n",
       "      <td>120</td>\n",
       "      <td>236</td>\n",
       "      <td>&lt; 120 mg/dl</td>\n",
       "      <td>Normal</td>\n",
       "      <td>178</td>\n",
       "      <td>No</td>\n",
       "      <td>0.8</td>\n",
       "      <td>Upsloping</td>\n",
       "      <td>0</td>\n",
       "      <td>Normal</td>\n",
       "      <td>No</td>\n",
       "    </tr>\n",
       "    <tr>\n",
       "      <th>4</th>\n",
       "      <td>57</td>\n",
       "      <td>Female</td>\n",
       "      <td>Asymptomatic</td>\n",
       "      <td>120</td>\n",
       "      <td>354</td>\n",
       "      <td>&lt; 120 mg/dl</td>\n",
       "      <td>Normal</td>\n",
       "      <td>163</td>\n",
       "      <td>Yes</td>\n",
       "      <td>0.6</td>\n",
       "      <td>Upsloping</td>\n",
       "      <td>0</td>\n",
       "      <td>Normal</td>\n",
       "      <td>No</td>\n",
       "    </tr>\n",
       "  </tbody>\n",
       "</table>\n",
       "</div>"
      ],
      "text/plain": [
       "   Age     Sex   Chest Pain Type  Resting Blood Pressure  Cholesterol  \\\n",
       "0   63    Male    Typical Angina                     145          233   \n",
       "1   37    Male  Non-Anginal Pain                     130          250   \n",
       "2   41  Female   Atypical Angina                     130          204   \n",
       "3   56    Male   Atypical Angina                     120          236   \n",
       "4   57  Female      Asymptomatic                     120          354   \n",
       "\n",
       "  Fasting Blood Sugar                      Rest ECG  Max Heart Rate Achieved  \\\n",
       "0         > 120 mg/dl  Left Ventricular Hypertrophy                      150   \n",
       "1         < 120 mg/dl                        Normal                      187   \n",
       "2         < 120 mg/dl  Left Ventricular Hypertrophy                      172   \n",
       "3         < 120 mg/dl                        Normal                      178   \n",
       "4         < 120 mg/dl                        Normal                      163   \n",
       "\n",
       "  Exercise Induced Angina  ST Depression     ST Slope  Number Major Vessels  \\\n",
       "0                      No            2.3  Downsloping                     0   \n",
       "1                      No            3.5  Downsloping                     0   \n",
       "2                      No            1.4    Upsloping                     0   \n",
       "3                      No            0.8    Upsloping                     0   \n",
       "4                     Yes            0.6    Upsloping                     0   \n",
       "\n",
       "    Thalassemia Heart Disease  \n",
       "0  Fixed Defect            No  \n",
       "1        Normal            No  \n",
       "2        Normal            No  \n",
       "3        Normal            No  \n",
       "4        Normal            No  "
      ]
     },
     "execution_count": 4,
     "metadata": {},
     "output_type": "execute_result"
    }
   ],
   "source": [
    "ds.columns = ['Age', 'Sex', 'Chest Pain Type',\n",
    "              'Resting Blood Pressure', 'Cholesterol', 'Fasting Blood Sugar',\n",
    "              'Rest ECG', 'Max Heart Rate Achieved', 'Exercise Induced Angina',\n",
    "              'ST Depression', 'ST Slope', 'Number Major Vessels',\n",
    "              'Thalassemia', 'Heart Disease']\n",
    "\n",
    "ds.replace({'Sex':{0:'Female', 1:'Male'},\n",
    "            'Chest Pain Type':{0:'Asymptomatic', 1:'Atypical Angina', 2:'Non-Anginal Pain', 3:'Typical Angina'},\n",
    "            'Fasting Blood Sugar':{1:'> 120 mg/dl',0:'< 120 mg/dl'},\n",
    "            'Rest ECG':{0:'Left Ventricular Hypertrophy', 1:'Normal', 2:'ST-T wave abnormality'},\n",
    "            'Exercise Induced Angina':{1:'Yes', 0:'No'},\n",
    "            'ST Slope':{0:'Downsloping', 1:'Flat', 2:'Upsloping'},\n",
    "            'Thalassemia':{1:'Fixed Defect', 2:'Normal', 3:'Reversible Defect'},\n",
    "            'Heart Disease':{0:'Yes', 1:'No'}}, inplace = True)\n",
    "ds.head()"
   ]
  },
  {
   "cell_type": "markdown",
   "metadata": {},
   "source": [
    "Так как анализ данных проводился в предыдущей лабораторной, то я сразу добавлю факторы, влияющие на наличие болезней сердца в список impacts."
   ]
  },
  {
   "cell_type": "code",
   "execution_count": 5,
   "metadata": {},
   "outputs": [],
   "source": [
    "impacts = []\n",
    "impacts.append('Sex')\n",
    "impacts.append('Chest Pain Type')\n",
    "impacts.append('Rest ECG')\n",
    "impacts.append('Exercise Induced Angina')\n",
    "impacts.append('ST Depression')\n",
    "impacts.append('ST Slope')\n",
    "impacts.append('Number Major Vessels')"
   ]
  },
  {
   "cell_type": "code",
   "execution_count": 6,
   "metadata": {},
   "outputs": [
    {
     "name": "stdout",
     "output_type": "stream",
     "text": [
      "['Sex', 'Chest Pain Type', 'Rest ECG', 'Exercise Induced Angina', 'ST Depression', 'ST Slope', 'Number Major Vessels']\n"
     ]
    }
   ],
   "source": [
    "print(impacts)"
   ]
  },
  {
   "cell_type": "markdown",
   "metadata": {},
   "source": [
    "Удалим колонки, которые не влияют на наличие сердечной болезни."
   ]
  },
  {
   "cell_type": "code",
   "execution_count": 7,
   "metadata": {},
   "outputs": [],
   "source": [
    "ds.drop(['Resting Blood Pressure', 'Cholesterol', 'Fasting Blood Sugar'], axis = 1, inplace = True)\n",
    "y = ds['Heart Disease']\n",
    "\n",
    "ds.drop(['Heart Disease'], axis = 1, inplace = True)\n",
    "\n",
    "x = ds\n"
   ]
  },
  {
   "cell_type": "code",
   "execution_count": 8,
   "metadata": {},
   "outputs": [],
   "source": [
    "my_y = y\n",
    "my_y.replace({'Yes':1, 'No':0}, inplace = True)"
   ]
  },
  {
   "cell_type": "markdown",
   "metadata": {},
   "source": [
    "Преобразуем категориальные признаки в количественные, применив векторизацию с помощью метода get_dummies."
   ]
  },
  {
   "cell_type": "code",
   "execution_count": 9,
   "metadata": {},
   "outputs": [],
   "source": [
    "x = pd.get_dummies(x)\n",
    "\n",
    "my_x = x"
   ]
  },
  {
   "cell_type": "markdown",
   "metadata": {},
   "source": [
    "Разделим данные на тренировочные и тестировочные."
   ]
  },
  {
   "cell_type": "code",
   "execution_count": 10,
   "metadata": {},
   "outputs": [
    {
     "name": "stdout",
     "output_type": "stream",
     "text": [
      "Train set:   (236, 22) (236,)\n",
      "Test set:    (60, 22) (60,)\n"
     ]
    }
   ],
   "source": [
    "from sklearn.model_selection import train_test_split, cross_val_score\n",
    "from sklearn import preprocessing\n",
    "from sklearn.metrics import accuracy_score, confusion_matrix, precision_score, recall_score, f1_score\n",
    "from sklearn.svm import LinearSVC\n",
    "from sklearn.linear_model import LogisticRegression\n",
    "from sklearn.neighbors import KNeighborsClassifier\n",
    "from sklearn.tree import DecisionTreeClassifier\n",
    "from sklearn.ensemble import RandomForestClassifier\n",
    "from sklearn.model_selection import RandomizedSearchCV\n",
    "\n",
    "\n",
    "\n",
    "x_train, x_test, y_train, y_test = train_test_split(x, y, test_size=0.2)\n",
    "print ('Train set:  ', x_train.shape,  y_train.shape)\n",
    "print ('Test set:   ', x_test.shape,  y_test.shape)"
   ]
  },
  {
   "cell_type": "markdown",
   "metadata": {},
   "source": [
    "Нормализуем данные."
   ]
  },
  {
   "cell_type": "code",
   "execution_count": 11,
   "metadata": {},
   "outputs": [],
   "source": [
    "x_train = preprocessing.scale(x_train)\n",
    "x_test = preprocessing.scale(x_test)"
   ]
  },
  {
   "cell_type": "markdown",
   "metadata": {},
   "source": [
    "Определим функцию печати, где вычисляется точность и матрица ошибок как для тренировочных данных, так и для тестовых.\n",
    "\n",
    "- (TN) True Negative: фактическое значение было False, а модель предсказывала False.\n",
    "    - Правильно определено, что у человека нет болезни сердца.\n",
    "- (FP) False Positive: Фактическое значение было False, и модель предсказывала True. Это также известно как ошибка типа I.\n",
    "    - Было предсказано, что у человека есть болезнь сердца, но на самом деле это не так.\n",
    "- (FN) False Negative: фактическим значением было True, и модель предсказывала False. Это также известно как ошибка типа II.\n",
    "    - Предсказано, что у человека нет болезни сердца, но на самом деле она есть.\n",
    "- (TP) True Positive: фактическое значение было True, и модель предсказывала True\n",
    "    - Он правильно определил, что у человека есть болезнь сердца.\n",
    "\n",
    "#### Precision, Recall, F1-score, Accuracy\n",
    "\n",
    "\n",
    "##### Precision = TP / (TP + FP)\n",
    "\n",
    "Когда предсказано, что у человека есть болезнь сердца, как часто это действительно корректно?\n",
    "  \n",
    "\n",
    "##### Recall = TP / (TP + FN)\n",
    "\n",
    "Когда действительно у человека есть болезнь сердца, как часто это предсказано правильно?\n",
    "\n",
    "\n",
    "##### F1 = 2 / (  (1 / Recall) + (1 / Precision) ) = 2 * (Precision * Recall) / (Precision + Recall)\n",
    "\n",
    "Средневзвешенное значение между Precision и Recall. Полезно при работе с несбалансированными образцами.\n",
    "\n",
    "\n",
    "##### Accuracy = (TP + TN) / (TP + TN + FP + FN)\n",
    "\n",
    "Сумма истинных положительных и отрицательных значений, деленная на общее количество образцов. Это верно только в том случае, если модель сбалансирована. Это даст неточные результаты, если будет дисбаланс классов."
   ]
  },
  {
   "cell_type": "code",
   "execution_count": 12,
   "metadata": {},
   "outputs": [],
   "source": [
    "def print_score(clf, x_train, y_train, x_test, y_test, train = True):\n",
    "    if train:\n",
    "        pred = clf.predict(x_train)\n",
    "        print(\"Train Result:\\n================================================\")\n",
    "        print(f\"Accuracy Score: {accuracy_score(y_train, pred) * 100:.2f}%\")\n",
    "        print(\"_______________________________________________\")\n",
    "        print(\"Classification Report:\", end='')\n",
    "        print(f\"\\tPrecision Score: {precision_score(y_train, pred, pos_label='Yes') * 100:.2f}%\")\n",
    "        print(f\"\\t\\t\\tRecall Score: {recall_score(y_train, pred, pos_label='Yes') * 100:.2f}%\")\n",
    "        print(f\"\\t\\t\\tF1 score: {f1_score(y_train, pred, pos_label='Yes') * 100:.2f}%\")\n",
    "        print(\"_______________________________________________\")\n",
    "        print(f\"Confusion Matrix: \\n {confusion_matrix(y_train, pred)}\\n\")\n",
    "        \n",
    "    elif train == False:\n",
    "        pred = clf.predict(x_test)\n",
    "        print(\"Test Result:\\n================================================\")        \n",
    "        print(f\"Accuracy Score: {accuracy_score(y_test, pred) * 100:.2f}%\")\n",
    "        print(\"_______________________________________________\")\n",
    "        print(\"Classification Report:\", end='')\n",
    "        print(f\"\\tPrecision Score: {precision_score(y_test, pred, pos_label='Yes') * 100:.2f}%\")\n",
    "        print(f\"\\t\\t\\tRecall Score: {recall_score(y_test, pred, pos_label='Yes') * 100:.2f}%\")\n",
    "        print(f\"\\t\\t\\tF1 score: {f1_score(y_test, pred, pos_label='Yes') * 100:.2f}%\")\n",
    "        print(\"_______________________________________________\")\n",
    "        print(f\"Confusion Matrix: \\n {confusion_matrix(y_test, pred)}\\n\")"
   ]
  },
  {
   "cell_type": "markdown",
   "metadata": {},
   "source": [
    "Обучение и тестирование модели машинного обучение осуществляется при использовании ряда алгоритмов машинного обучения.\n",
    "\n",
    "### 1. Логистическая регрессия.\n",
    "\n",
    "Значение термина регрессия очень простое: любой процесс, который пытается найти связь между переменными, называется регрессией. Логистическая регрессия - это регрессия, поскольку она находит связи между переменными. А логистическая она потому, что использует логистическую функцию в качестве функции связи."
   ]
  },
  {
   "cell_type": "markdown",
   "metadata": {},
   "source": [
    "Построим классификационную модель, используя логистическую регрессию и выведем значения полученных метрик."
   ]
  },
  {
   "cell_type": "code",
   "execution_count": 13,
   "metadata": {},
   "outputs": [
    {
     "name": "stdout",
     "output_type": "stream",
     "text": [
      "Train Result:\n",
      "================================================\n",
      "Accuracy Score: 85.59%\n",
      "_______________________________________________\n",
      "Classification Report:\tPrecision Score: 83.33%\n",
      "\t\t\tRecall Score: 83.33%\n",
      "\t\t\tF1 score: 83.33%\n",
      "_______________________________________________\n",
      "Confusion Matrix: \n",
      " [[117  17]\n",
      " [ 17  85]]\n",
      "\n",
      "Test Result:\n",
      "================================================\n",
      "Accuracy Score: 83.33%\n",
      "_______________________________________________\n",
      "Classification Report:\tPrecision Score: 92.86%\n",
      "\t\t\tRecall Score: 76.47%\n",
      "\t\t\tF1 score: 83.87%\n",
      "_______________________________________________\n",
      "Confusion Matrix: \n",
      " [[24  2]\n",
      " [ 8 26]]\n",
      "\n"
     ]
    }
   ],
   "source": [
    "accuracies = {}\n",
    "\n",
    "lr = LogisticRegression(class_weight = 'balanced', tol = 1e-10)\n",
    "\n",
    "lr.fit(x_train, y_train)\n",
    "print_score(lr, x_train, y_train, x_test, y_test, train = True)\n",
    "print_score(lr, x_train, y_train, x_test, y_test, train = False)"
   ]
  },
  {
   "cell_type": "markdown",
   "metadata": {},
   "source": [
    "В словаре accuracies будут хранится тестовая точность предсказания для каждого алгоритма машинного обучения.\n",
    "results_df - таблица, в которой для каждой модели хранится тренировочная точность предсказания и тестовая."
   ]
  },
  {
   "cell_type": "code",
   "execution_count": 14,
   "metadata": {},
   "outputs": [
    {
     "data": {
      "text/html": [
       "<div>\n",
       "<style scoped>\n",
       "    .dataframe tbody tr th:only-of-type {\n",
       "        vertical-align: middle;\n",
       "    }\n",
       "\n",
       "    .dataframe tbody tr th {\n",
       "        vertical-align: top;\n",
       "    }\n",
       "\n",
       "    .dataframe thead th {\n",
       "        text-align: right;\n",
       "    }\n",
       "</style>\n",
       "<table border=\"1\" class=\"dataframe\">\n",
       "  <thead>\n",
       "    <tr style=\"text-align: right;\">\n",
       "      <th></th>\n",
       "      <th>Model</th>\n",
       "      <th>Training Accuracy %</th>\n",
       "      <th>Testing Accuracy %</th>\n",
       "    </tr>\n",
       "  </thead>\n",
       "  <tbody>\n",
       "    <tr>\n",
       "      <th>0</th>\n",
       "      <td>Logistic Regression</td>\n",
       "      <td>85.59322</td>\n",
       "      <td>83.333333</td>\n",
       "    </tr>\n",
       "  </tbody>\n",
       "</table>\n",
       "</div>"
      ],
      "text/plain": [
       "                 Model  Training Accuracy %  Testing Accuracy %\n",
       "0  Logistic Regression             85.59322           83.333333"
      ]
     },
     "execution_count": 14,
     "metadata": {},
     "output_type": "execute_result"
    }
   ],
   "source": [
    "train_score = accuracy_score(y_train, lr.predict(x_train)) * 100\n",
    "test_score = accuracy_score(y_test, lr.predict(x_test)) * 100\n",
    "\n",
    "accuracies['Logistic Regression'] = test_score\n",
    "\n",
    "results_df = pd.DataFrame(data=[[\"Logistic Regression\", train_score, test_score]], \n",
    "                          columns=['Model', 'Training Accuracy %', 'Testing Accuracy %'])\n",
    "results_df"
   ]
  },
  {
   "cell_type": "markdown",
   "metadata": {},
   "source": [
    "Точность на тренировке:\n",
    "Тестовая точность:"
   ]
  },
  {
   "cell_type": "markdown",
   "metadata": {},
   "source": [
    "### 2. kNN\n",
    "\n",
    "Расшифровывается как k-Nearest Neighbor или k-Ближайших Соседей. Простой алгоритм, который хранит все доступные случаи и классифицирует новые случаи на основе меры сходства (например, функции расстояния).  kNN был использован в статистической оценке и распознавании образов."
   ]
  },
  {
   "cell_type": "markdown",
   "metadata": {},
   "source": [
    "Построим классификационную модель, используя алгоритм k-ближайших соседей и выведем значения полученных метрик."
   ]
  },
  {
   "cell_type": "code",
   "execution_count": 15,
   "metadata": {},
   "outputs": [
    {
     "name": "stdout",
     "output_type": "stream",
     "text": [
      "Train Result:\n",
      "================================================\n",
      "Accuracy Score: 85.59%\n",
      "_______________________________________________\n",
      "Classification Report:\tPrecision Score: 85.42%\n",
      "\t\t\tRecall Score: 80.39%\n",
      "\t\t\tF1 score: 82.83%\n",
      "_______________________________________________\n",
      "Confusion Matrix: \n",
      " [[120  14]\n",
      " [ 20  82]]\n",
      "\n",
      "Test Result:\n",
      "================================================\n",
      "Accuracy Score: 86.67%\n",
      "_______________________________________________\n",
      "Classification Report:\tPrecision Score: 93.33%\n",
      "\t\t\tRecall Score: 82.35%\n",
      "\t\t\tF1 score: 87.50%\n",
      "_______________________________________________\n",
      "Confusion Matrix: \n",
      " [[24  2]\n",
      " [ 6 28]]\n",
      "\n"
     ]
    }
   ],
   "source": [
    "knn = KNeighborsClassifier()\n",
    "knn.fit(x_train, y_train)\n",
    "\n",
    "print_score(knn, x_train, y_train, x_test, y_test, train = True)\n",
    "print_score(knn, x_train, y_train, x_test, y_test, train = False)"
   ]
  },
  {
   "cell_type": "markdown",
   "metadata": {},
   "source": [
    "Добавляем в табличку значения тестовой и тренировочной точности предсказания для kNN модели."
   ]
  },
  {
   "cell_type": "code",
   "execution_count": 16,
   "metadata": {},
   "outputs": [
    {
     "data": {
      "text/html": [
       "<div>\n",
       "<style scoped>\n",
       "    .dataframe tbody tr th:only-of-type {\n",
       "        vertical-align: middle;\n",
       "    }\n",
       "\n",
       "    .dataframe tbody tr th {\n",
       "        vertical-align: top;\n",
       "    }\n",
       "\n",
       "    .dataframe thead th {\n",
       "        text-align: right;\n",
       "    }\n",
       "</style>\n",
       "<table border=\"1\" class=\"dataframe\">\n",
       "  <thead>\n",
       "    <tr style=\"text-align: right;\">\n",
       "      <th></th>\n",
       "      <th>Model</th>\n",
       "      <th>Training Accuracy %</th>\n",
       "      <th>Testing Accuracy %</th>\n",
       "    </tr>\n",
       "  </thead>\n",
       "  <tbody>\n",
       "    <tr>\n",
       "      <th>0</th>\n",
       "      <td>Logistic Regression</td>\n",
       "      <td>85.59322</td>\n",
       "      <td>83.333333</td>\n",
       "    </tr>\n",
       "    <tr>\n",
       "      <th>1</th>\n",
       "      <td>KNN</td>\n",
       "      <td>85.59322</td>\n",
       "      <td>86.666667</td>\n",
       "    </tr>\n",
       "  </tbody>\n",
       "</table>\n",
       "</div>"
      ],
      "text/plain": [
       "                 Model  Training Accuracy %  Testing Accuracy %\n",
       "0  Logistic Regression             85.59322           83.333333\n",
       "1                  KNN             85.59322           86.666667"
      ]
     },
     "execution_count": 16,
     "metadata": {},
     "output_type": "execute_result"
    }
   ],
   "source": [
    "test_score = accuracy_score(y_test, knn.predict(x_test)) * 100\n",
    "train_score = accuracy_score(y_train, knn.predict(x_train)) * 100\n",
    "\n",
    "accuracies['KNN'] = test_score\n",
    "\n",
    "tmp = pd.DataFrame(data=[[\"KNN\", train_score, test_score]], \n",
    "                          columns=['Model', 'Training Accuracy %', 'Testing Accuracy %'])\n",
    "results_df = results_df.append(tmp, ignore_index=True)\n",
    "results_df"
   ]
  },
  {
   "cell_type": "markdown",
   "metadata": {},
   "source": [
    "### 3. Decision Tree\n",
    "\n",
    "Структура дерева представляет собой «листья» и «ветки». На рёбрах («ветках») дерева решения записаны атрибуты, от которых зависит целевая функция, в «листьях» записаны значения целевой функции, а в остальных узлах — атрибуты, по которым различаются случаи. Чтобы классифицировать новый случай, надо спуститься по дереву до листа и выдать соответствующее значение. "
   ]
  },
  {
   "cell_type": "markdown",
   "metadata": {},
   "source": [
    "Построим классификационную модель, используя дерево решений и выведем значения полученных метрик."
   ]
  },
  {
   "cell_type": "code",
   "execution_count": 17,
   "metadata": {},
   "outputs": [
    {
     "name": "stdout",
     "output_type": "stream",
     "text": [
      "Train Result:\n",
      "================================================\n",
      "Accuracy Score: 100.00%\n",
      "_______________________________________________\n",
      "Classification Report:\tPrecision Score: 100.00%\n",
      "\t\t\tRecall Score: 100.00%\n",
      "\t\t\tF1 score: 100.00%\n",
      "_______________________________________________\n",
      "Confusion Matrix: \n",
      " [[134   0]\n",
      " [  0 102]]\n",
      "\n",
      "Test Result:\n",
      "================================================\n",
      "Accuracy Score: 63.33%\n",
      "_______________________________________________\n",
      "Classification Report:\tPrecision Score: 73.08%\n",
      "\t\t\tRecall Score: 55.88%\n",
      "\t\t\tF1 score: 63.33%\n",
      "_______________________________________________\n",
      "Confusion Matrix: \n",
      " [[19  7]\n",
      " [15 19]]\n",
      "\n"
     ]
    }
   ],
   "source": [
    "dt = DecisionTreeClassifier(random_state = 42)\n",
    "\n",
    "dt.fit(x_train, y_train)\n",
    "\n",
    "print_score(dt, x_train, y_train, x_test, y_test, train = True)\n",
    "print_score(dt, x_train, y_train, x_test, y_test, train = False)"
   ]
  },
  {
   "cell_type": "markdown",
   "metadata": {},
   "source": [
    "Добавляем в табличку значения тестовой и тренировочной точности предсказания для Decision Tree модели."
   ]
  },
  {
   "cell_type": "code",
   "execution_count": 18,
   "metadata": {},
   "outputs": [
    {
     "data": {
      "text/html": [
       "<div>\n",
       "<style scoped>\n",
       "    .dataframe tbody tr th:only-of-type {\n",
       "        vertical-align: middle;\n",
       "    }\n",
       "\n",
       "    .dataframe tbody tr th {\n",
       "        vertical-align: top;\n",
       "    }\n",
       "\n",
       "    .dataframe thead th {\n",
       "        text-align: right;\n",
       "    }\n",
       "</style>\n",
       "<table border=\"1\" class=\"dataframe\">\n",
       "  <thead>\n",
       "    <tr style=\"text-align: right;\">\n",
       "      <th></th>\n",
       "      <th>Model</th>\n",
       "      <th>Training Accuracy %</th>\n",
       "      <th>Testing Accuracy %</th>\n",
       "    </tr>\n",
       "  </thead>\n",
       "  <tbody>\n",
       "    <tr>\n",
       "      <th>0</th>\n",
       "      <td>Logistic Regression</td>\n",
       "      <td>85.59322</td>\n",
       "      <td>83.333333</td>\n",
       "    </tr>\n",
       "    <tr>\n",
       "      <th>1</th>\n",
       "      <td>KNN</td>\n",
       "      <td>85.59322</td>\n",
       "      <td>86.666667</td>\n",
       "    </tr>\n",
       "    <tr>\n",
       "      <th>2</th>\n",
       "      <td>Decision Tree Classifier</td>\n",
       "      <td>100.00000</td>\n",
       "      <td>63.333333</td>\n",
       "    </tr>\n",
       "  </tbody>\n",
       "</table>\n",
       "</div>"
      ],
      "text/plain": [
       "                      Model  Training Accuracy %  Testing Accuracy %\n",
       "0       Logistic Regression             85.59322           83.333333\n",
       "1                       KNN             85.59322           86.666667\n",
       "2  Decision Tree Classifier            100.00000           63.333333"
      ]
     },
     "execution_count": 18,
     "metadata": {},
     "output_type": "execute_result"
    }
   ],
   "source": [
    "test_score = accuracy_score(y_test, dt.predict(x_test)) * 100\n",
    "train_score = accuracy_score(y_train, dt.predict(x_train)) * 100\n",
    "\n",
    "accuracies['Decision Tree Classifier'] = test_score\n",
    "\n",
    "tmp = pd.DataFrame(data=[[\"Decision Tree Classifier\", train_score, test_score]], \n",
    "                          columns=['Model', 'Training Accuracy %', 'Testing Accuracy %'])\n",
    "results_df = results_df.append(tmp, ignore_index=True)\n",
    "results_df"
   ]
  },
  {
   "cell_type": "markdown",
   "metadata": {},
   "source": [
    "### 4. Random Forest\n",
    "\n",
    "Случайные леса или леса случайных решений - это метод обучения комитета (ансамбля)  решающих деревьев для классификации, регрессии и кластеризации. Основная идея заключается в использовании большого ансамбля решающих деревьев, каждое из которых само по себе даёт очень невысокое качество классификации, но за счёт их большого количества результат получается хорошим.\n",
    "\n",
    "Наиболее важным параметром класса RandomForestClassifier является параметр n_estimators. Этот параметр определяет количество деревьев в случайном лесу."
   ]
  },
  {
   "cell_type": "markdown",
   "metadata": {},
   "source": [
    "Построим классификационную модель, используя случайный лес и выведем значения полученных метрик."
   ]
  },
  {
   "cell_type": "code",
   "execution_count": 19,
   "metadata": {},
   "outputs": [
    {
     "name": "stdout",
     "output_type": "stream",
     "text": [
      "Train Result:\n",
      "================================================\n",
      "Accuracy Score: 100.00%\n",
      "_______________________________________________\n",
      "Classification Report:\tPrecision Score: 100.00%\n",
      "\t\t\tRecall Score: 100.00%\n",
      "\t\t\tF1 score: 100.00%\n",
      "_______________________________________________\n",
      "Confusion Matrix: \n",
      " [[134   0]\n",
      " [  0 102]]\n",
      "\n",
      "Test Result:\n",
      "================================================\n",
      "Accuracy Score: 81.67%\n",
      "_______________________________________________\n",
      "Classification Report:\tPrecision Score: 96.00%\n",
      "\t\t\tRecall Score: 70.59%\n",
      "\t\t\tF1 score: 81.36%\n",
      "_______________________________________________\n",
      "Confusion Matrix: \n",
      " [[25  1]\n",
      " [10 24]]\n",
      "\n"
     ]
    }
   ],
   "source": [
    "rf = RandomForestClassifier(n_estimators = 1000, random_state = 42)\n",
    "\n",
    "rf.fit(x_train, y_train)\n",
    "\n",
    "print_score(rf, x_train, y_train, x_test, y_test, train = True)\n",
    "print_score(rf, x_train, y_train, x_test, y_test, train = False)"
   ]
  },
  {
   "cell_type": "markdown",
   "metadata": {},
   "source": [
    "98,90% - это довольно хорошая точность, так что в любом случае нет смысла увеличивать или уменьшать количество n_estimators. Чтобы повысить точность, нужно урегулировать другие параметры класса."
   ]
  },
  {
   "cell_type": "markdown",
   "metadata": {},
   "source": [
    "Добавляем в табличку значения тестовой и тренировочной точности предсказания для Random Forest модели."
   ]
  },
  {
   "cell_type": "code",
   "execution_count": 20,
   "metadata": {},
   "outputs": [],
   "source": [
    "test_score = accuracy_score(y_test, rf.predict(x_test)) * 100\n",
    "train_score = accuracy_score(y_train, rf.predict(x_train)) * 100\n",
    "\n",
    "accuracies['Random Forest'] = test_score\n",
    "\n",
    "tmp = pd.DataFrame(data=[[\"Random Forest Classifier\", train_score, test_score]], \n",
    "                          columns=['Model', 'Training Accuracy %', 'Testing Accuracy %'])\n",
    "results_df = results_df.append(tmp, ignore_index=True)"
   ]
  },
  {
   "cell_type": "markdown",
   "metadata": {},
   "source": [
    "Построим график, показывающий тестовые точности всех моделей."
   ]
  },
  {
   "cell_type": "code",
   "execution_count": 21,
   "metadata": {},
   "outputs": [
    {
     "data": {
      "image/png": "[encoded data removed]",
      "text/plain": [
       "<Figure size 1152x360 with 1 Axes>"
      ]
     },
     "metadata": {},
     "output_type": "display_data"
    }
   ],
   "source": [
    "colors = [\"purple\", \"green\", \"orange\", \"magenta\",\"#CFC60E\",\"#0FBBAE\"]\n",
    "\n",
    "sns.set_style(\"whitegrid\")\n",
    "plt.figure(figsize = (16, 5))\n",
    "plt.yticks(np.arange(0, 100, 10))\n",
    "plt.ylabel(\"Accuracy %\")\n",
    "plt.xlabel(\"Algorithms\")\n",
    "sns.barplot(x = list(accuracies.keys()), y = list(accuracies.values()), palette = colors)\n",
    "plt.show()"
   ]
  },
  {
   "cell_type": "markdown",
   "metadata": {},
   "source": [
    "На тестовых данных выигрывает . В то время как на тренировочных выигрышные позиции удерживают два алгоритма, Decision Tree Classifier и Random Forest Classifier."
   ]
  },
  {
   "cell_type": "code",
   "execution_count": 22,
   "metadata": {},
   "outputs": [
    {
     "data": {
      "text/html": [
       "<div>\n",
       "<style scoped>\n",
       "    .dataframe tbody tr th:only-of-type {\n",
       "        vertical-align: middle;\n",
       "    }\n",
       "\n",
       "    .dataframe tbody tr th {\n",
       "        vertical-align: top;\n",
       "    }\n",
       "\n",
       "    .dataframe thead th {\n",
       "        text-align: right;\n",
       "    }\n",
       "</style>\n",
       "<table border=\"1\" class=\"dataframe\">\n",
       "  <thead>\n",
       "    <tr style=\"text-align: right;\">\n",
       "      <th></th>\n",
       "      <th>Model</th>\n",
       "      <th>Training Accuracy %</th>\n",
       "      <th>Testing Accuracy %</th>\n",
       "    </tr>\n",
       "  </thead>\n",
       "  <tbody>\n",
       "    <tr>\n",
       "      <th>0</th>\n",
       "      <td>Logistic Regression</td>\n",
       "      <td>85.59322</td>\n",
       "      <td>83.333333</td>\n",
       "    </tr>\n",
       "    <tr>\n",
       "      <th>1</th>\n",
       "      <td>KNN</td>\n",
       "      <td>85.59322</td>\n",
       "      <td>86.666667</td>\n",
       "    </tr>\n",
       "    <tr>\n",
       "      <th>2</th>\n",
       "      <td>Decision Tree Classifier</td>\n",
       "      <td>100.00000</td>\n",
       "      <td>63.333333</td>\n",
       "    </tr>\n",
       "    <tr>\n",
       "      <th>3</th>\n",
       "      <td>Random Forest Classifier</td>\n",
       "      <td>100.00000</td>\n",
       "      <td>81.666667</td>\n",
       "    </tr>\n",
       "  </tbody>\n",
       "</table>\n",
       "</div>"
      ],
      "text/plain": [
       "                      Model  Training Accuracy %  Testing Accuracy %\n",
       "0       Logistic Regression             85.59322           83.333333\n",
       "1                       KNN             85.59322           86.666667\n",
       "2  Decision Tree Classifier            100.00000           63.333333\n",
       "3  Random Forest Classifier            100.00000           81.666667"
      ]
     },
     "execution_count": 22,
     "metadata": {},
     "output_type": "execute_result"
    }
   ],
   "source": [
    "results_df"
   ]
  },
  {
   "cell_type": "markdown",
   "metadata": {},
   "source": [
    "Наихудший результат и дерева решений - 63%, выигрывает алгоритм kNN на тестовых данных с точностью предсказания 86%, а на тренировочных  хорошо себя показали как дерево решений,так и случайный лес с точностью в 100%."
   ]
  },
  {
   "cell_type": "markdown",
   "metadata": {},
   "source": [
    "## Применение алгоритмов машинного обучения с использованием тюнинга гиперпараметров\n",
    "\n",
    "\n",
    "Тюнинг моделей машинного обучения является одной из задач оптимизации. У нас есть набор гиперпараметров, и мы стремимся найти правильную комбинацию их значений, которая может помочь нам найти либо минимум (например, потери), либо максимум (например, точность) функции.\n",
    "\n",
    "В Grid Search (Поиск по сетке) мы настраиваем сетку гиперпараметров и обучаем / тестируем нашу модель на каждой из возможных комбинаций.\n",
    "\n",
    "Поиск по сетке медленнее по сравнению со случайным поиском, но в целом он может быть более эффективным, поскольку может проходить через все пространство поиска. Вместо этого случайный поиск может быть быстрее, но может пропустить некоторые важные моменты в пространстве поиска."
   ]
  },
  {
   "cell_type": "markdown",
   "metadata": {},
   "source": [
    "### 1. Logistic Regression Hyperparameter Tuning"
   ]
  },
  {
   "cell_type": "markdown",
   "metadata": {},
   "source": [
    "Grid Search может быть реализован в Python с помощью scikit-learn GridSearchCV() функции. Я разделила наш тренировочный набор на 5 (cv = 5)."
   ]
  },
  {
   "cell_type": "code",
   "execution_count": 23,
   "metadata": {},
   "outputs": [
    {
     "name": "stdout",
     "output_type": "stream",
     "text": [
      "Fitting 5 folds for each of 20 candidates, totalling 100 fits\n"
     ]
    },
    {
     "name": "stderr",
     "output_type": "stream",
     "text": [
      "[Parallel(n_jobs=-1)]: Using backend LokyBackend with 4 concurrent workers.\n",
      "[Parallel(n_jobs=-1)]: Done  68 tasks      | elapsed:    1.3s\n",
      "[Parallel(n_jobs=-1)]: Done 100 out of 100 | elapsed:    1.4s finished\n",
      "/Users/linuxoid/.virtualenvs/dl4cv/lib/python3.7/site-packages/sklearn/model_selection/_search.py:823: FutureWarning: The parameter 'iid' is deprecated in 0.22 and will be removed in 0.24.\n",
      "  \"removed in 0.24.\", FutureWarning\n"
     ]
    },
    {
     "data": {
      "text/plain": [
       "GridSearchCV(cv=5, error_score=nan,\n",
       "             estimator=LogisticRegression(C=1.0, class_weight=None, dual=False,\n",
       "                                          fit_intercept=True,\n",
       "                                          intercept_scaling=1, l1_ratio=None,\n",
       "                                          max_iter=100, multi_class='auto',\n",
       "                                          n_jobs=None, penalty='l2',\n",
       "                                          random_state=None, solver='lbfgs',\n",
       "                                          tol=0.0001, verbose=0,\n",
       "                                          warm_start=False),\n",
       "             iid=True, n_jobs=-1,\n",
       "             param_grid={'C': array([1.00000000e-04, 2.63665090e-0...\n",
       "       4.83293024e-03, 1.27427499e-02, 3.35981829e-02, 8.85866790e-02,\n",
       "       2.33572147e-01, 6.15848211e-01, 1.62377674e+00, 4.28133240e+00,\n",
       "       1.12883789e+01, 2.97635144e+01, 7.84759970e+01, 2.06913808e+02,\n",
       "       5.45559478e+02, 1.43844989e+03, 3.79269019e+03, 1.00000000e+04]),\n",
       "                         'solver': ['liblinear']},\n",
       "             pre_dispatch='2*n_jobs', refit=True, return_train_score=False,\n",
       "             scoring='accuracy', verbose=1)"
      ]
     },
     "execution_count": 23,
     "metadata": {},
     "output_type": "execute_result"
    }
   ],
   "source": [
    "from sklearn.model_selection import GridSearchCV\n",
    "\n",
    "params = {\"C\": np.logspace(-4, 4, 20),\n",
    "          \"solver\": [\"liblinear\"]}\n",
    "\n",
    "log_reg = LogisticRegression()\n",
    "\n",
    "grid_search_cv = GridSearchCV(log_reg, params, scoring = \"accuracy\",\n",
    "                              n_jobs=-1, verbose=1, cv=5, iid = True)\n",
    "grid_search_cv.fit(x_train, y_train)"
   ]
  },
  {
   "cell_type": "markdown",
   "metadata": {},
   "source": [
    "Получаем набор гиперпараметров, которые лучше всего работали во время обучения, чтобы проверить нашу модель."
   ]
  },
  {
   "cell_type": "code",
   "execution_count": 24,
   "metadata": {},
   "outputs": [
    {
     "data": {
      "text/plain": [
       "LogisticRegression(C=0.615848211066026, class_weight=None, dual=False,\n",
       "                   fit_intercept=True, intercept_scaling=1, l1_ratio=None,\n",
       "                   max_iter=100, multi_class='auto', n_jobs=None, penalty='l2',\n",
       "                   random_state=None, solver='liblinear', tol=0.0001, verbose=0,\n",
       "                   warm_start=False)"
      ]
     },
     "execution_count": 24,
     "metadata": {},
     "output_type": "execute_result"
    }
   ],
   "source": [
    "grid_search_cv.best_estimator_"
   ]
  },
  {
   "cell_type": "markdown",
   "metadata": {},
   "source": [
    "Обучаем модель с помощью логистической регрессии и затем выводим полученные метрики после предсказаний."
   ]
  },
  {
   "cell_type": "code",
   "execution_count": 25,
   "metadata": {},
   "outputs": [
    {
     "name": "stdout",
     "output_type": "stream",
     "text": [
      "Train Result:\n",
      "================================================\n",
      "Accuracy Score: 85.59%\n",
      "_______________________________________________\n",
      "Classification Report:\tPrecision Score: 85.42%\n",
      "\t\t\tRecall Score: 80.39%\n",
      "\t\t\tF1 score: 82.83%\n",
      "_______________________________________________\n",
      "Confusion Matrix: \n",
      " [[120  14]\n",
      " [ 20  82]]\n",
      "\n",
      "Test Result:\n",
      "================================================\n",
      "Accuracy Score: 83.33%\n",
      "_______________________________________________\n",
      "Classification Report:\tPrecision Score: 96.15%\n",
      "\t\t\tRecall Score: 73.53%\n",
      "\t\t\tF1 score: 83.33%\n",
      "_______________________________________________\n",
      "Confusion Matrix: \n",
      " [[25  1]\n",
      " [ 9 25]]\n",
      "\n"
     ]
    }
   ],
   "source": [
    "log_reg = LogisticRegression(C=0.615848211066026, class_weight=None, dual=False,\n",
    "                   fit_intercept=True, intercept_scaling=1, l1_ratio=None,\n",
    "                   max_iter=100, multi_class='auto', n_jobs=None, penalty='l2',\n",
    "                   random_state=None, solver='liblinear', tol=0.0001, verbose=0,\n",
    "                   warm_start=False)\n",
    "\n",
    "log_reg.fit(x_train, y_train)\n",
    "\n",
    "print_score(log_reg, x_train, y_train, x_test, y_test, train = True)\n",
    "print_score(log_reg, x_train, y_train, x_test, y_test, train = False)"
   ]
  },
  {
   "cell_type": "markdown",
   "metadata": {},
   "source": [
    "Создаем табличку, в которой хранятся значения тестовой и тренировочной точности предсказания для каждой модели машинного обучения."
   ]
  },
  {
   "cell_type": "code",
   "execution_count": 26,
   "metadata": {},
   "outputs": [
    {
     "data": {
      "text/html": [
       "<div>\n",
       "<style scoped>\n",
       "    .dataframe tbody tr th:only-of-type {\n",
       "        vertical-align: middle;\n",
       "    }\n",
       "\n",
       "    .dataframe tbody tr th {\n",
       "        vertical-align: top;\n",
       "    }\n",
       "\n",
       "    .dataframe thead th {\n",
       "        text-align: right;\n",
       "    }\n",
       "</style>\n",
       "<table border=\"1\" class=\"dataframe\">\n",
       "  <thead>\n",
       "    <tr style=\"text-align: right;\">\n",
       "      <th></th>\n",
       "      <th>Model</th>\n",
       "      <th>Training Accuracy %</th>\n",
       "      <th>Testing Accuracy %</th>\n",
       "    </tr>\n",
       "  </thead>\n",
       "  <tbody>\n",
       "    <tr>\n",
       "      <th>0</th>\n",
       "      <td>Tuned Logistic Regression</td>\n",
       "      <td>85.59322</td>\n",
       "      <td>83.333333</td>\n",
       "    </tr>\n",
       "  </tbody>\n",
       "</table>\n",
       "</div>"
      ],
      "text/plain": [
       "                       Model  Training Accuracy %  Testing Accuracy %\n",
       "0  Tuned Logistic Regression             85.59322           83.333333"
      ]
     },
     "execution_count": 26,
     "metadata": {},
     "output_type": "execute_result"
    }
   ],
   "source": [
    "test_score = accuracy_score(y_test, log_reg.predict(x_test)) * 100\n",
    "train_score = accuracy_score(y_train, log_reg.predict(x_train)) * 100\n",
    "\n",
    "tuning_results_df = pd.DataFrame(data=[[\"Tuned Logistic Regression\", train_score, test_score]], \n",
    "                          columns=['Model', 'Training Accuracy %', 'Testing Accuracy %'])\n",
    "tuning_results_df"
   ]
  },
  {
   "cell_type": "markdown",
   "metadata": {},
   "source": [
    "### 2. K-Nearest Neighbors Hyperparameter Tuning\n"
   ]
  },
  {
   "cell_type": "code",
   "execution_count": 27,
   "metadata": {},
   "outputs": [],
   "source": [
    "train_score = []\n",
    "test_score = []\n",
    "neighbors = range(1, 21)\n",
    "\n",
    "for k in neighbors:\n",
    "    model = KNeighborsClassifier(n_neighbors = k)\n",
    "    model.fit(x_train, y_train)\n",
    "    train_score.append(accuracy_score(y_train, model.predict(x_train)))\n",
    "    test_score.append(accuracy_score(y_test, model.predict(x_test)))"
   ]
  },
  {
   "cell_type": "markdown",
   "metadata": {},
   "source": [
    "Построим график, чтобы увидеть при каком количестве neighbours на тестовых данных оценка будет максимальной, это и будет лучшим параметром для алгоритма KNN."
   ]
  },
  {
   "cell_type": "code",
   "execution_count": 28,
   "metadata": {},
   "outputs": [
    {
     "name": "stdout",
     "output_type": "stream",
     "text": [
      "Maximum KNN score on the test data: 90.00%\n"
     ]
    },
    {
     "data": {
      "image/png": "[encoded data removed]",
      "text/plain": [
       "<Figure size 864x576 with 1 Axes>"
      ]
     },
     "metadata": {},
     "output_type": "display_data"
    }
   ],
   "source": [
    "plt.figure(figsize=(12, 8))\n",
    "\n",
    "plt.plot(neighbors, train_score, label = \"Train score\")\n",
    "plt.plot(neighbors, test_score, label = \"Test score\")\n",
    "plt.xticks(np.arange(1, 21, 1))\n",
    "plt.xlabel(\"Number of neighbors\")\n",
    "plt.ylabel(\"Model score\")\n",
    "plt.legend()\n",
    "\n",
    "print(f\"Maximum KNN score on the test data: {max(test_score) * 100:.2f}%\")"
   ]
  },
  {
   "cell_type": "markdown",
   "metadata": {},
   "source": [
    "Обучаем модель на количестве соседей равных 7, так как при таком количестве получили максимальную точность в 90%, и затем выводим полученные метрики после предсказаний."
   ]
  },
  {
   "cell_type": "code",
   "execution_count": 29,
   "metadata": {},
   "outputs": [
    {
     "name": "stdout",
     "output_type": "stream",
     "text": [
      "Train Result:\n",
      "================================================\n",
      "Accuracy Score: 85.59%\n",
      "_______________________________________________\n",
      "Classification Report:\tPrecision Score: 83.33%\n",
      "\t\t\tRecall Score: 83.33%\n",
      "\t\t\tF1 score: 83.33%\n",
      "_______________________________________________\n",
      "Confusion Matrix: \n",
      " [[117  17]\n",
      " [ 17  85]]\n",
      "\n",
      "Test Result:\n",
      "================================================\n",
      "Accuracy Score: 90.00%\n",
      "_______________________________________________\n",
      "Classification Report:\tPrecision Score: 93.75%\n",
      "\t\t\tRecall Score: 88.24%\n",
      "\t\t\tF1 score: 90.91%\n",
      "_______________________________________________\n",
      "Confusion Matrix: \n",
      " [[24  2]\n",
      " [ 4 30]]\n",
      "\n"
     ]
    }
   ],
   "source": [
    "knn_classifier = KNeighborsClassifier(n_neighbors = 7)\n",
    "knn_classifier.fit(x_train, y_train)\n",
    "\n",
    "print_score(knn_classifier, x_train, y_train, x_test, y_test, train = True)\n",
    "print_score(knn_classifier, x_train, y_train, x_test, y_test, train = False)"
   ]
  },
  {
   "cell_type": "markdown",
   "metadata": {},
   "source": [
    "Добавляем в табличку значения тестовой и тренировочной точности предсказания для kNN модели."
   ]
  },
  {
   "cell_type": "code",
   "execution_count": 30,
   "metadata": {},
   "outputs": [
    {
     "data": {
      "text/html": [
       "<div>\n",
       "<style scoped>\n",
       "    .dataframe tbody tr th:only-of-type {\n",
       "        vertical-align: middle;\n",
       "    }\n",
       "\n",
       "    .dataframe tbody tr th {\n",
       "        vertical-align: top;\n",
       "    }\n",
       "\n",
       "    .dataframe thead th {\n",
       "        text-align: right;\n",
       "    }\n",
       "</style>\n",
       "<table border=\"1\" class=\"dataframe\">\n",
       "  <thead>\n",
       "    <tr style=\"text-align: right;\">\n",
       "      <th></th>\n",
       "      <th>Model</th>\n",
       "      <th>Training Accuracy %</th>\n",
       "      <th>Testing Accuracy %</th>\n",
       "    </tr>\n",
       "  </thead>\n",
       "  <tbody>\n",
       "    <tr>\n",
       "      <th>0</th>\n",
       "      <td>Tuned Logistic Regression</td>\n",
       "      <td>85.59322</td>\n",
       "      <td>83.333333</td>\n",
       "    </tr>\n",
       "    <tr>\n",
       "      <th>1</th>\n",
       "      <td>Tuned K-nearest neighbors</td>\n",
       "      <td>85.59322</td>\n",
       "      <td>90.000000</td>\n",
       "    </tr>\n",
       "  </tbody>\n",
       "</table>\n",
       "</div>"
      ],
      "text/plain": [
       "                       Model  Training Accuracy %  Testing Accuracy %\n",
       "0  Tuned Logistic Regression             85.59322           83.333333\n",
       "1  Tuned K-nearest neighbors             85.59322           90.000000"
      ]
     },
     "execution_count": 30,
     "metadata": {},
     "output_type": "execute_result"
    }
   ],
   "source": [
    "test_score = accuracy_score(y_test, knn_classifier.predict(x_test)) * 100\n",
    "train_score = accuracy_score(y_train, knn_classifier.predict(x_train)) * 100\n",
    "\n",
    "results_df_2 = pd.DataFrame(data = [[\"Tuned K-nearest neighbors\", train_score, test_score]], \n",
    "                          columns = ['Model', 'Training Accuracy %', 'Testing Accuracy %'])\n",
    "tuning_results_df = tuning_results_df.append(results_df_2, ignore_index = True)\n",
    "tuning_results_df"
   ]
  },
  {
   "cell_type": "markdown",
   "metadata": {},
   "source": [
    "### 3. Decision Tree Classifier Hyperparameter Tuning"
   ]
  },
  {
   "cell_type": "code",
   "execution_count": 31,
   "metadata": {},
   "outputs": [
    {
     "name": "stdout",
     "output_type": "stream",
     "text": [
      "Fitting 3 folds for each of 4332 candidates, totalling 12996 fits\n"
     ]
    },
    {
     "name": "stderr",
     "output_type": "stream",
     "text": [
      "[Parallel(n_jobs=-1)]: Using backend LokyBackend with 4 concurrent workers.\n",
      "[Parallel(n_jobs=-1)]: Done 312 tasks      | elapsed:    0.5s\n",
      "[Parallel(n_jobs=-1)]: Done 12996 out of 12996 | elapsed:   10.2s finished\n",
      "/Users/linuxoid/.virtualenvs/dl4cv/lib/python3.7/site-packages/sklearn/model_selection/_search.py:823: FutureWarning: The parameter 'iid' is deprecated in 0.22 and will be removed in 0.24.\n",
      "  \"removed in 0.24.\", FutureWarning\n"
     ]
    },
    {
     "data": {
      "text/plain": [
       "GridSearchCV(cv=3, error_score=nan,\n",
       "             estimator=DecisionTreeClassifier(ccp_alpha=0.0, class_weight=None,\n",
       "                                              criterion='gini', max_depth=None,\n",
       "                                              max_features=None,\n",
       "                                              max_leaf_nodes=None,\n",
       "                                              min_impurity_decrease=0.0,\n",
       "                                              min_impurity_split=None,\n",
       "                                              min_samples_leaf=1,\n",
       "                                              min_samples_split=2,\n",
       "                                              min_weight_fraction_leaf=0.0,\n",
       "                                              presort='deprecated',\n",
       "                                              random_state=42,\n",
       "                                              splitter='best'),\n",
       "             iid=True, n_jobs=-1,\n",
       "             param_grid={'criterion': ('gini', 'entropy'),\n",
       "                         'max_depth': [1, 2, 3, 4, 5, 6, 7, 8, 9, 10, 11, 12,\n",
       "                                       13, 14, 15, 16, 17, 18, 19],\n",
       "                         'min_samples_leaf': [1, 2, 3, 4, 5, 6, 7, 8, 9, 10, 11,\n",
       "                                              12, 13, 14, 15, 16, 17, 18, 19],\n",
       "                         'min_samples_split': [2, 3, 4],\n",
       "                         'splitter': ('best', 'random')},\n",
       "             pre_dispatch='2*n_jobs', refit=True, return_train_score=False,\n",
       "             scoring='accuracy', verbose=1)"
      ]
     },
     "execution_count": 31,
     "metadata": {},
     "output_type": "execute_result"
    }
   ],
   "source": [
    "params = {\"criterion\":(\"gini\", \"entropy\"), \n",
    "          \"splitter\":(\"best\", \"random\"), \n",
    "          \"max_depth\":(list(range(1, 20))), \n",
    "          \"min_samples_split\":[2, 3, 4], \n",
    "          \"min_samples_leaf\":list(range(1, 20))\n",
    "          }\n",
    "\n",
    "tree = DecisionTreeClassifier(random_state = 42)\n",
    "grid_search_cv = GridSearchCV(tree, params, scoring = \"accuracy\",\n",
    "                              n_jobs = -1, verbose = 1, cv = 3, iid = True)\n",
    "grid_search_cv.fit(x_train, y_train)"
   ]
  },
  {
   "cell_type": "markdown",
   "metadata": {},
   "source": [
    "Получаем набор гиперпараметров, которые лучше всего работали во время обучения, чтобы проверить нашу модель."
   ]
  },
  {
   "cell_type": "code",
   "execution_count": 32,
   "metadata": {},
   "outputs": [
    {
     "data": {
      "text/plain": [
       "DecisionTreeClassifier(ccp_alpha=0.0, class_weight=None, criterion='gini',\n",
       "                       max_depth=3, max_features=None, max_leaf_nodes=None,\n",
       "                       min_impurity_decrease=0.0, min_impurity_split=None,\n",
       "                       min_samples_leaf=7, min_samples_split=2,\n",
       "                       min_weight_fraction_leaf=0.0, presort='deprecated',\n",
       "                       random_state=42, splitter='best')"
      ]
     },
     "execution_count": 32,
     "metadata": {},
     "output_type": "execute_result"
    }
   ],
   "source": [
    "grid_search_cv.best_estimator_"
   ]
  },
  {
   "cell_type": "markdown",
   "metadata": {},
   "source": [
    "Обучаем модель и затем выводим полученные метрики после предсказаний."
   ]
  },
  {
   "cell_type": "code",
   "execution_count": 33,
   "metadata": {},
   "outputs": [
    {
     "name": "stdout",
     "output_type": "stream",
     "text": [
      "Train Result:\n",
      "================================================\n",
      "Accuracy Score: 88.56%\n",
      "_______________________________________________\n",
      "Classification Report:\tPrecision Score: 91.21%\n",
      "\t\t\tRecall Score: 81.37%\n",
      "\t\t\tF1 score: 86.01%\n",
      "_______________________________________________\n",
      "Confusion Matrix: \n",
      " [[126   8]\n",
      " [ 19  83]]\n",
      "\n",
      "Test Result:\n",
      "================================================\n",
      "Accuracy Score: 71.67%\n",
      "_______________________________________________\n",
      "Classification Report:\tPrecision Score: 84.00%\n",
      "\t\t\tRecall Score: 61.76%\n",
      "\t\t\tF1 score: 71.19%\n",
      "_______________________________________________\n",
      "Confusion Matrix: \n",
      " [[22  4]\n",
      " [13 21]]\n",
      "\n"
     ]
    }
   ],
   "source": [
    "tree = DecisionTreeClassifier(ccp_alpha=0.0, class_weight=None, criterion='gini',\n",
    "                       max_depth=3, max_features=None, max_leaf_nodes=None,\n",
    "                       min_impurity_decrease=0.0, min_impurity_split=None,\n",
    "                       min_samples_leaf=7, min_samples_split=2,\n",
    "                       min_weight_fraction_leaf=0.0, presort='deprecated',\n",
    "                       random_state=42, splitter='best')\n",
    "tree.fit(x_train, y_train)\n",
    "\n",
    "print_score(tree, x_train, y_train, x_test, y_test, train = True)\n",
    "print_score(tree, x_train, y_train, x_test, y_test, train = False)"
   ]
  },
  {
   "cell_type": "markdown",
   "metadata": {},
   "source": [
    "Добавляем в табличку значения тестовой и тренировочной точности предсказания для Decision Tree модели."
   ]
  },
  {
   "cell_type": "code",
   "execution_count": 34,
   "metadata": {},
   "outputs": [
    {
     "data": {
      "text/html": [
       "<div>\n",
       "<style scoped>\n",
       "    .dataframe tbody tr th:only-of-type {\n",
       "        vertical-align: middle;\n",
       "    }\n",
       "\n",
       "    .dataframe tbody tr th {\n",
       "        vertical-align: top;\n",
       "    }\n",
       "\n",
       "    .dataframe thead th {\n",
       "        text-align: right;\n",
       "    }\n",
       "</style>\n",
       "<table border=\"1\" class=\"dataframe\">\n",
       "  <thead>\n",
       "    <tr style=\"text-align: right;\">\n",
       "      <th></th>\n",
       "      <th>Model</th>\n",
       "      <th>Training Accuracy %</th>\n",
       "      <th>Testing Accuracy %</th>\n",
       "    </tr>\n",
       "  </thead>\n",
       "  <tbody>\n",
       "    <tr>\n",
       "      <th>0</th>\n",
       "      <td>Tuned Logistic Regression</td>\n",
       "      <td>85.593220</td>\n",
       "      <td>83.333333</td>\n",
       "    </tr>\n",
       "    <tr>\n",
       "      <th>1</th>\n",
       "      <td>Tuned K-nearest neighbors</td>\n",
       "      <td>85.593220</td>\n",
       "      <td>90.000000</td>\n",
       "    </tr>\n",
       "    <tr>\n",
       "      <th>2</th>\n",
       "      <td>Tuned Decision Tree Classifier</td>\n",
       "      <td>88.559322</td>\n",
       "      <td>71.666667</td>\n",
       "    </tr>\n",
       "  </tbody>\n",
       "</table>\n",
       "</div>"
      ],
      "text/plain": [
       "                            Model  Training Accuracy %  Testing Accuracy %\n",
       "0       Tuned Logistic Regression            85.593220           83.333333\n",
       "1       Tuned K-nearest neighbors            85.593220           90.000000\n",
       "2  Tuned Decision Tree Classifier            88.559322           71.666667"
      ]
     },
     "execution_count": 34,
     "metadata": {},
     "output_type": "execute_result"
    }
   ],
   "source": [
    "test_score = accuracy_score(y_test, tree.predict(x_test)) * 100\n",
    "train_score = accuracy_score(y_train, tree.predict(x_train)) * 100\n",
    "\n",
    "results_df_2 = pd.DataFrame(data = [[\"Tuned Decision Tree Classifier\", train_score, test_score]], \n",
    "                          columns = ['Model', 'Training Accuracy %', 'Testing Accuracy %'])\n",
    "tuning_results_df = tuning_results_df.append(results_df_2, ignore_index = True)\n",
    "tuning_results_df"
   ]
  },
  {
   "cell_type": "markdown",
   "metadata": {},
   "source": [
    "### 4. Random Forest Classifier Hyperparameter Tuning"
   ]
  },
  {
   "cell_type": "markdown",
   "metadata": {},
   "source": [
    "В случайном поиске мы создаем сетку гиперпараметров и обучаем / тестируем нашу модель только на некоторой случайной комбинации этих гиперпараметров\n",
    "сначала определив сетку гиперпараметров, которые будут случайным образом выбираться при вызове RandomizedSearchCV()."
   ]
  },
  {
   "cell_type": "code",
   "execution_count": 35,
   "metadata": {},
   "outputs": [
    {
     "name": "stdout",
     "output_type": "stream",
     "text": [
      "Fitting 3 folds for each of 100 candidates, totalling 300 fits\n"
     ]
    },
    {
     "name": "stderr",
     "output_type": "stream",
     "text": [
      "[Parallel(n_jobs=-1)]: Using backend LokyBackend with 4 concurrent workers.\n",
      "[Parallel(n_jobs=-1)]: Done  33 tasks      | elapsed:   19.2s\n",
      "[Parallel(n_jobs=-1)]: Done 154 tasks      | elapsed:  1.5min\n",
      "[Parallel(n_jobs=-1)]: Done 300 out of 300 | elapsed:  3.0min finished\n"
     ]
    },
    {
     "data": {
      "text/plain": [
       "RandomizedSearchCV(cv=3, error_score=nan,\n",
       "                   estimator=RandomForestClassifier(bootstrap=True,\n",
       "                                                    ccp_alpha=0.0,\n",
       "                                                    class_weight=None,\n",
       "                                                    criterion='gini',\n",
       "                                                    max_depth=None,\n",
       "                                                    max_features='auto',\n",
       "                                                    max_leaf_nodes=None,\n",
       "                                                    max_samples=None,\n",
       "                                                    min_impurity_decrease=0.0,\n",
       "                                                    min_impurity_split=None,\n",
       "                                                    min_samples_leaf=1,\n",
       "                                                    min_samples_split=2,\n",
       "                                                    min_weight_fraction_leaf=0.0,\n",
       "                                                    n_estimators=100,\n",
       "                                                    n_jobs...\n",
       "                   param_distributions={'bootstrap': [True, False],\n",
       "                                        'max_depth': [10, 20, 30, 40, 50, 60,\n",
       "                                                      70, 80, 90, 100, 110,\n",
       "                                                      None],\n",
       "                                        'max_features': ['auto', 'sqrt'],\n",
       "                                        'min_samples_leaf': [1, 2, 4],\n",
       "                                        'min_samples_split': [2, 5, 10],\n",
       "                                        'n_estimators': [200, 400, 600, 800,\n",
       "                                                         1000, 1200, 1400, 1600,\n",
       "                                                         1800, 2000]},\n",
       "                   pre_dispatch='2*n_jobs', random_state=42, refit=True,\n",
       "                   return_train_score=False, scoring=None, verbose=2)"
      ]
     },
     "execution_count": 35,
     "metadata": {},
     "output_type": "execute_result"
    }
   ],
   "source": [
    "from sklearn.model_selection import RandomizedSearchCV\n",
    "\n",
    "n_estimators = [int(x) for x in np.linspace(start=200, stop=2000, num=10)]\n",
    "max_features = ['auto', 'sqrt']\n",
    "max_depth = [int(x) for x in np.linspace(10, 110, num=11)]\n",
    "max_depth.append(None)\n",
    "min_samples_split = [2, 5, 10]\n",
    "min_samples_leaf = [1, 2, 4]\n",
    "bootstrap = [True, False]\n",
    "\n",
    "random_grid = {'n_estimators': n_estimators, 'max_features': max_features,\n",
    "               'max_depth': max_depth, 'min_samples_split': min_samples_split,\n",
    "               'min_samples_leaf': min_samples_leaf, 'bootstrap': bootstrap}\n",
    "\n",
    "rand_forest = RandomForestClassifier(random_state=42)\n",
    "\n",
    "rf_random = RandomizedSearchCV(estimator=rand_forest, param_distributions=random_grid, n_iter=100, cv=3, \n",
    "                               verbose=2, random_state=42, n_jobs=-1)\n",
    "\n",
    "\n",
    "rf_random.fit(x_train, y_train)"
   ]
  },
  {
   "cell_type": "markdown",
   "metadata": {},
   "source": [
    "Получаем набор гиперпараметров, которые лучше всего работали во время обучения, чтобы проверить нашу модель."
   ]
  },
  {
   "cell_type": "code",
   "execution_count": 36,
   "metadata": {},
   "outputs": [
    {
     "data": {
      "text/plain": [
       "RandomForestClassifier(bootstrap=False, ccp_alpha=0.0, class_weight=None,\n",
       "                       criterion='gini', max_depth=100, max_features='auto',\n",
       "                       max_leaf_nodes=None, max_samples=None,\n",
       "                       min_impurity_decrease=0.0, min_impurity_split=None,\n",
       "                       min_samples_leaf=4, min_samples_split=5,\n",
       "                       min_weight_fraction_leaf=0.0, n_estimators=200,\n",
       "                       n_jobs=None, oob_score=False, random_state=42, verbose=0,\n",
       "                       warm_start=False)"
      ]
     },
     "execution_count": 36,
     "metadata": {},
     "output_type": "execute_result"
    }
   ],
   "source": [
    "rf_random.best_estimator_"
   ]
  },
  {
   "cell_type": "markdown",
   "metadata": {},
   "source": [
    "Обучаем модель."
   ]
  },
  {
   "cell_type": "code",
   "execution_count": 37,
   "metadata": {},
   "outputs": [
    {
     "data": {
      "text/plain": [
       "RandomForestClassifier(bootstrap=True, ccp_alpha=0.0, class_weight=None,\n",
       "                       criterion='gini', max_depth=None, max_features='auto',\n",
       "                       max_leaf_nodes=None, max_samples=None,\n",
       "                       min_impurity_decrease=0.0, min_impurity_split=None,\n",
       "                       min_samples_leaf=1, min_samples_split=2,\n",
       "                       min_weight_fraction_leaf=0.0, n_estimators=100,\n",
       "                       n_jobs=None, oob_score=False, random_state=42, verbose=0,\n",
       "                       warm_start=False)"
      ]
     },
     "execution_count": 37,
     "metadata": {},
     "output_type": "execute_result"
    }
   ],
   "source": [
    "RandomForestClassifier(bootstrap=False, ccp_alpha=0.0, class_weight=None,\n",
    "                       criterion='gini', max_depth=100, max_features='auto',\n",
    "                       max_leaf_nodes=None, max_samples=None,\n",
    "                       min_impurity_decrease=0.0, min_impurity_split=None,\n",
    "                       min_samples_leaf=4, min_samples_split=5,\n",
    "                       min_weight_fraction_leaf=0.0, n_estimators=200,\n",
    "                       n_jobs=None, oob_score=False, random_state=42, verbose=0,\n",
    "                       warm_start=False)\n",
    "rand_forest.fit(x_train, y_train)"
   ]
  },
  {
   "cell_type": "markdown",
   "metadata": {},
   "source": [
    "Печатаем полученные метрики после предсказаний."
   ]
  },
  {
   "cell_type": "code",
   "execution_count": 38,
   "metadata": {},
   "outputs": [
    {
     "name": "stdout",
     "output_type": "stream",
     "text": [
      "Train Result:\n",
      "================================================\n",
      "Accuracy Score: 100.00%\n",
      "_______________________________________________\n",
      "Classification Report:\tPrecision Score: 100.00%\n",
      "\t\t\tRecall Score: 100.00%\n",
      "\t\t\tF1 score: 100.00%\n",
      "_______________________________________________\n",
      "Confusion Matrix: \n",
      " [[134   0]\n",
      " [  0 102]]\n",
      "\n",
      "Test Result:\n",
      "================================================\n",
      "Accuracy Score: 80.00%\n",
      "_______________________________________________\n",
      "Classification Report:\tPrecision Score: 92.31%\n",
      "\t\t\tRecall Score: 70.59%\n",
      "\t\t\tF1 score: 80.00%\n",
      "_______________________________________________\n",
      "Confusion Matrix: \n",
      " [[24  2]\n",
      " [10 24]]\n",
      "\n"
     ]
    }
   ],
   "source": [
    "print_score(rand_forest, x_train, y_train, x_test, y_test, train=True)\n",
    "print_score(rand_forest, x_train, y_train, x_test, y_test, train=False)"
   ]
  },
  {
   "cell_type": "markdown",
   "metadata": {},
   "source": [
    "Добавляем в табличку значения тестовой и тренировочной точности предсказания для модели, обученной с помощью алгоритма Random Forest."
   ]
  },
  {
   "cell_type": "code",
   "execution_count": 39,
   "metadata": {},
   "outputs": [
    {
     "data": {
      "text/html": [
       "<div>\n",
       "<style scoped>\n",
       "    .dataframe tbody tr th:only-of-type {\n",
       "        vertical-align: middle;\n",
       "    }\n",
       "\n",
       "    .dataframe tbody tr th {\n",
       "        vertical-align: top;\n",
       "    }\n",
       "\n",
       "    .dataframe thead th {\n",
       "        text-align: right;\n",
       "    }\n",
       "</style>\n",
       "<table border=\"1\" class=\"dataframe\">\n",
       "  <thead>\n",
       "    <tr style=\"text-align: right;\">\n",
       "      <th></th>\n",
       "      <th>Model</th>\n",
       "      <th>Training Accuracy %</th>\n",
       "      <th>Testing Accuracy %</th>\n",
       "    </tr>\n",
       "  </thead>\n",
       "  <tbody>\n",
       "    <tr>\n",
       "      <th>0</th>\n",
       "      <td>Tuned Logistic Regression</td>\n",
       "      <td>85.593220</td>\n",
       "      <td>83.333333</td>\n",
       "    </tr>\n",
       "    <tr>\n",
       "      <th>1</th>\n",
       "      <td>Tuned K-nearest neighbors</td>\n",
       "      <td>85.593220</td>\n",
       "      <td>90.000000</td>\n",
       "    </tr>\n",
       "    <tr>\n",
       "      <th>2</th>\n",
       "      <td>Tuned Decision Tree Classifier</td>\n",
       "      <td>88.559322</td>\n",
       "      <td>71.666667</td>\n",
       "    </tr>\n",
       "    <tr>\n",
       "      <th>3</th>\n",
       "      <td>Tuned Random Forest Classifier</td>\n",
       "      <td>100.000000</td>\n",
       "      <td>80.000000</td>\n",
       "    </tr>\n",
       "  </tbody>\n",
       "</table>\n",
       "</div>"
      ],
      "text/plain": [
       "                            Model  Training Accuracy %  Testing Accuracy %\n",
       "0       Tuned Logistic Regression            85.593220           83.333333\n",
       "1       Tuned K-nearest neighbors            85.593220           90.000000\n",
       "2  Tuned Decision Tree Classifier            88.559322           71.666667\n",
       "3  Tuned Random Forest Classifier           100.000000           80.000000"
      ]
     },
     "execution_count": 39,
     "metadata": {},
     "output_type": "execute_result"
    }
   ],
   "source": [
    "test_score = accuracy_score(y_test, rand_forest.predict(x_test)) * 100\n",
    "train_score = accuracy_score(y_train, rand_forest.predict(x_train)) * 100\n",
    "\n",
    "results_df_2 = pd.DataFrame(data = [[\"Tuned Random Forest Classifier\", train_score, test_score]], \n",
    "                          columns = ['Model', 'Training Accuracy %', 'Testing Accuracy %'])\n",
    "tuning_results_df = tuning_results_df.append(results_df_2, ignore_index = True)\n",
    "tuning_results_df"
   ]
  },
  {
   "cell_type": "markdown",
   "metadata": {},
   "source": [
    "Анализируя полученную табличку, видно, что на тренировочных данных выигрывает алгоритм Random Forest с настроенными гиперпараметрами с точностью 100%, а на тестовых алгоритм kNN с точностью предсказания в 90%."
   ]
  },
  {
   "cell_type": "markdown",
   "metadata": {},
   "source": [
    "### Собственная реализация алгоритмов"
   ]
  },
  {
   "cell_type": "markdown",
   "metadata": {},
   "source": [
    "Для работы с моделями переведем в данные в форму *numpy* массивов. Мне понадобятся эти переменные при реализации собственных алгоритмов."
   ]
  },
  {
   "cell_type": "code",
   "execution_count": 40,
   "metadata": {},
   "outputs": [],
   "source": [
    "my_x = pd.get_dummies(my_x)\n",
    "my_x = my_x.to_numpy()\n",
    "my_y = my_y.to_numpy()"
   ]
  },
  {
   "cell_type": "markdown",
   "metadata": {},
   "source": [
    "Разделим данные на тренировочные и тестировочные."
   ]
  },
  {
   "cell_type": "code",
   "execution_count": 41,
   "metadata": {},
   "outputs": [
    {
     "name": "stdout",
     "output_type": "stream",
     "text": [
      "Train set:   (236, 22) (236,)\n",
      "Test set:    (60, 22) (60,)\n"
     ]
    }
   ],
   "source": [
    "from sklearn.model_selection import train_test_split, cross_val_score\n",
    "from sklearn import preprocessing\n",
    "from sklearn.metrics import accuracy_score, confusion_matrix, precision_score, recall_score, f1_score\n",
    "from sklearn.svm import LinearSVC\n",
    "from sklearn.linear_model import LogisticRegression\n",
    "from sklearn.neighbors import KNeighborsClassifier\n",
    "from sklearn.tree import DecisionTreeClassifier\n",
    "from sklearn.ensemble import RandomForestClassifier\n",
    "from sklearn.model_selection import RandomizedSearchCV\n",
    "\n",
    "\n",
    "x_train1, x_test1, y_train1, y_test1 = train_test_split(my_x, my_y, test_size=0.2)\n",
    "print ('Train set:  ', x_train1.shape,  y_train1.shape)\n",
    "print ('Test set:   ', x_test1.shape,  y_test1.shape)"
   ]
  },
  {
   "cell_type": "markdown",
   "metadata": {},
   "source": [
    "Нормализуем данные."
   ]
  },
  {
   "cell_type": "code",
   "execution_count": 42,
   "metadata": {},
   "outputs": [],
   "source": [
    "x_train1 = preprocessing.scale(x_train1)\n",
    "x_test1 = preprocessing.scale(x_test1)"
   ]
  },
  {
   "cell_type": "markdown",
   "metadata": {},
   "source": [
    "Определим функцию печати, где вычисляется точность и матрица ошибок как для тренировочных данных, так и для тестовых."
   ]
  },
  {
   "cell_type": "code",
   "execution_count": 43,
   "metadata": {},
   "outputs": [],
   "source": [
    "def Accuracy(Y_val, Y_pred):\n",
    "    TP = (Y_val * Y_pred).sum()\n",
    "    TN = np.logical_not(Y_val | Y_pred).sum()\n",
    "    return (TP + TN) / len(Y_val)\n",
    "\n",
    "def Precision(Y_val, Y_pred):\n",
    "    TP = (Y_val * Y_pred).sum()\n",
    "    return TP / Y_pred.sum()\n",
    "\n",
    "def Recall(Y_val, Y_pred):\n",
    "    TP = (Y_val * Y_pred).sum()\n",
    "    return TP / Y_val.sum()\n",
    "\n",
    "def F1(Y_val, Y_pred):\n",
    "    precision = Precision(Y_val, Y_pred)\n",
    "    recall = Recall(Y_val, Y_pred)\n",
    "    return 2.0 * recall * precision / (precision + recall)"
   ]
  },
  {
   "cell_type": "code",
   "execution_count": 44,
   "metadata": {},
   "outputs": [],
   "source": [
    "def print_myscore(clf, x_train, y_train, x_test, y_test, train = True):\n",
    "    if train:\n",
    "        pred = clf.predict(x_train)\n",
    "        print(\"Train Result:\\n================================================\")\n",
    "        print(f\"Accuracy Score: {Accuracy(y_train, pred) * 100:.2f}%\")\n",
    "        print(\"_______________________________________________\")\n",
    "        print(\"Classification Report:\", end='')\n",
    "        print(f\"\\tPrecision Score: {Precision(y_train, pred) * 100:.2f}%\")\n",
    "        print(f\"\\t\\t\\tRecall Score: {Recall(y_train, pred) * 100:.2f}%\")\n",
    "        print(f\"\\t\\t\\tF1 score: {F1(y_train, pred) * 100:.2f}%\")\n",
    "        print(\"_______________________________________________\")\n",
    "        print(f\"Confusion Matrix: \\n {confusion_matrix(y_train, pred)}\\n\")\n",
    "        \n",
    "    elif train == False:\n",
    "        pred = clf.predict(x_test)\n",
    "        print(\"Test Result:\\n================================================\")        \n",
    "        print(f\"Accuracy Score: {Accuracy(y_test, pred) * 100:.2f}%\")\n",
    "        print(\"_______________________________________________\")\n",
    "        print(\"Classification Report:\", end='')\n",
    "        print(f\"\\tPrecision Score: {Precision(y_test, pred) * 100:.2f}%\")\n",
    "        print(f\"\\t\\t\\tRecall Score: {Recall(y_test, pred) * 100:.2f}%\")\n",
    "        print(f\"\\t\\t\\tF1 score: {F1(y_test, pred) * 100:.2f}%\")\n",
    "        print(\"_______________________________________________\")\n",
    "        print(f\"Confusion Matrix: \\n {confusion_matrix(y_test, pred)}\\n\")"
   ]
  },
  {
   "cell_type": "markdown",
   "metadata": {},
   "source": [
    "### Logistic Regression"
   ]
  },
  {
   "cell_type": "code",
   "execution_count": 45,
   "metadata": {},
   "outputs": [],
   "source": [
    "def my_sigmoid(x):\n",
    "    return np.exp(-np.logaddexp(0, -x))\n",
    "\n",
    "def my_logit_loss(wx, y_real):\n",
    "    return np.log(1.0 + np.exp(-wx*y_real)).sum()\n",
    "\n",
    "# gradient over weights vector\n",
    "def my_logit_grad(x, y, w):\n",
    "    koeff = (y * my_sigmoid(-y*x.dot(w)))\n",
    "    koeff = koeff.reshape((koeff.shape[0], 1)) \n",
    "    return -(koeff * x).sum(axis = 0) \n",
    "\n",
    "# Gradients from the norm\n",
    "def my_L2_grad(vector):\n",
    "    return vector\n",
    "\n",
    "def my_L1_grad(vector):\n",
    "    return vector / np.abs(vector)"
   ]
  },
  {
   "cell_type": "code",
   "execution_count": 46,
   "metadata": {},
   "outputs": [],
   "source": [
    "# Gradient Descent Solver\n",
    "\n",
    "class Gradient_Descent:\n",
    "    def __init__(self, speed, gradient_func, regulasator=None, \n",
    "                 C=10.0, eps = 0.001, maxsteps=250):\n",
    "        self.speed = speed\n",
    "        self.function = gradient_func\n",
    "        self.maxsteps = maxsteps\n",
    "        self.eps = eps\n",
    "        if regulasator == \"l1\":\n",
    "            self.regulasator = lambda w:  my_L1_grad(w) / C\n",
    "        elif regulasator == \"l2\":\n",
    "            self.regulasator = lambda w: my_L2_grad(w) / C\n",
    "        else:\n",
    "            self.regulasator = lambda w: 0.0\n",
    "    \n",
    "    def fit(self, X_train, Y_train):\n",
    "        w0 = np.zeros(X_train.shape[1])\n",
    "        w = np.random.random(X_train.shape[1])\n",
    "        k = 1\n",
    "        while np.linalg.norm(w - w0) > self.eps and k <= self.maxsteps:\n",
    "            w0 = w\n",
    "            temp = self.speed * ((1 / k)**0.5)\n",
    "            w = w - temp*(self.function(X_train, Y_train, w) + self.regulasator(w))\n",
    "            k += 1\n",
    "            \n",
    "        return w"
   ]
  },
  {
   "cell_type": "code",
   "execution_count": 47,
   "metadata": {},
   "outputs": [],
   "source": [
    "# logistic regression with 2 classes: 0 and 1.\n",
    "class MyLogisticRegression:\n",
    "    # main parameters\n",
    "    def __init__(self, speed=1.5, reg_type=None, C=2.0, eps=0.001, maxsteps=200):\n",
    "        # init solver\n",
    "        self.solver = Gradient_Descent(speed, my_logit_grad, reg_type, C, eps, maxsteps)\n",
    "        # init weight\n",
    "        self.w = None\n",
    "        \n",
    "    # training\n",
    "    def fit(self, X_train, Y_train):\n",
    "        # convert 0 to -1 for algo\n",
    "        Y = np.array(Y_train)\n",
    "        Y[Y_train == 0] = -1\n",
    "        # add np.ones colomn for w0 weight:\n",
    "        x0 = np.ones((X_train.shape[0], 1))\n",
    "        X = np.hstack((x0, X_train))\n",
    "        # train weight by gradient descent\n",
    "        self.w = self.solver.fit(X, Y)\n",
    "        return self\n",
    "    \n",
    "    # returns predicted classes\n",
    "    def predict(self, X_val, border = 0):\n",
    "        # add np.ones colomn for w0 weight:\n",
    "        x0 = np.ones((X_val.shape[0], 1))\n",
    "        X = np.hstack((x0, X_val))\n",
    "        # <w, x> product for all examples\n",
    "        Xw = X.dot(self.w)\n",
    "        # make predict: 0 - negative, 1 - positive\n",
    "        Y_pred = np.zeros(Xw.shape).astype(np.int8)\n",
    "        # a(x) = [<w,x> > t], t - border\n",
    "        Y_pred[Xw >= border] = 1\n",
    "        return Y_pred\n",
    "    \n",
    "    # probs of positive class\n",
    "    def predict_proba(self, X_val):\n",
    "        # add np.ones colomn for w0 weight:\n",
    "        x0 = np.ones((X_val.shape[0], 1))\n",
    "        X = np.hstack((x0, X_val))\n",
    "        # <w, x> product for all examples\n",
    "        Xw = X.dot(self.w)\n",
    "        # return proba\n",
    "        return sigmoid(Xw)\n",
    "    \n",
    "    # compute metrics\n",
    "    def score(self, X_val, Y_val, metric=Accuracy):\n",
    "        return metric(Y_val, self.predict(X_val))\n",
    "    \n",
    "    def weights(self):\n",
    "        return self.w\n",
    "\n",
    "    def __str__(self):\n",
    "        return \"Logistic Regression model with gradient descent!\"\n",
    "    \n",
    "    def __repr__(self):\n",
    "        return \"Logistic Regression\""
   ]
  },
  {
   "cell_type": "markdown",
   "metadata": {},
   "source": [
    "Построим классификационную модель, используя логистическую регрессию и выведем значения полученных метрик."
   ]
  },
  {
   "cell_type": "code",
   "execution_count": 48,
   "metadata": {},
   "outputs": [
    {
     "name": "stdout",
     "output_type": "stream",
     "text": [
      "Train Result:\n",
      "================================================\n",
      "Accuracy Score: 100.00%\n",
      "_______________________________________________\n",
      "Classification Report:\tPrecision Score: 100.00%\n",
      "\t\t\tRecall Score: 100.00%\n",
      "\t\t\tF1 score: 100.00%\n",
      "_______________________________________________\n",
      "Confusion Matrix: \n",
      " [[121   0]\n",
      " [  0 115]]\n",
      "\n",
      "Test Result:\n",
      "================================================\n",
      "Accuracy Score: 98.33%\n",
      "_______________________________________________\n",
      "Classification Report:\tPrecision Score: 95.45%\n",
      "\t\t\tRecall Score: 100.00%\n",
      "\t\t\tF1 score: 97.67%\n",
      "_______________________________________________\n",
      "Confusion Matrix: \n",
      " [[38  1]\n",
      " [ 0 21]]\n",
      "\n"
     ]
    }
   ],
   "source": [
    "accuracies_own = {}\n",
    "\n",
    "mylr = MyLogisticRegression()\n",
    "\n",
    "mylr.fit(x_train1, y_train1)\n",
    "print_myscore(mylr, x_train1, y_train1, x_test1, y_test1, train = True)\n",
    "print_myscore(mylr, x_train1, y_train1, x_test1, y_test1, train = False)"
   ]
  },
  {
   "cell_type": "markdown",
   "metadata": {},
   "source": [
    "В словаре accuracies_own будут хранится тестовая точность предсказания для каждого алгоритма машинного обучения. myresults_df - таблица, в которой для каждой модели хранится тренировочная точность предсказания и тестовая."
   ]
  },
  {
   "cell_type": "code",
   "execution_count": 49,
   "metadata": {},
   "outputs": [
    {
     "data": {
      "text/html": [
       "<div>\n",
       "<style scoped>\n",
       "    .dataframe tbody tr th:only-of-type {\n",
       "        vertical-align: middle;\n",
       "    }\n",
       "\n",
       "    .dataframe tbody tr th {\n",
       "        vertical-align: top;\n",
       "    }\n",
       "\n",
       "    .dataframe thead th {\n",
       "        text-align: right;\n",
       "    }\n",
       "</style>\n",
       "<table border=\"1\" class=\"dataframe\">\n",
       "  <thead>\n",
       "    <tr style=\"text-align: right;\">\n",
       "      <th></th>\n",
       "      <th>Model</th>\n",
       "      <th>Training Accuracy %</th>\n",
       "      <th>Testing Accuracy %</th>\n",
       "    </tr>\n",
       "  </thead>\n",
       "  <tbody>\n",
       "    <tr>\n",
       "      <th>0</th>\n",
       "      <td>My Logistic Regression</td>\n",
       "      <td>100.0</td>\n",
       "      <td>98.333333</td>\n",
       "    </tr>\n",
       "  </tbody>\n",
       "</table>\n",
       "</div>"
      ],
      "text/plain": [
       "                    Model  Training Accuracy %  Testing Accuracy %\n",
       "0  My Logistic Regression                100.0           98.333333"
      ]
     },
     "execution_count": 49,
     "metadata": {},
     "output_type": "execute_result"
    }
   ],
   "source": [
    "train_score1 = Accuracy(y_train1, mylr.predict(x_train1)) * 100\n",
    "test_score1 = Accuracy(y_test1, mylr.predict(x_test1)) * 100\n",
    "\n",
    "accuracies_own['My Logistic Regression'] = test_score1\n",
    "\n",
    "myresults_df = pd.DataFrame(data=[[\"My Logistic Regression\", train_score1, test_score1]], \n",
    "                          columns=['Model', 'Training Accuracy %', 'Testing Accuracy %'])\n",
    "myresults_df"
   ]
  },
  {
   "cell_type": "markdown",
   "metadata": {},
   "source": [
    "### kNN"
   ]
  },
  {
   "cell_type": "markdown",
   "metadata": {},
   "source": [
    "*Метод k ближайших соседей* не требует настройки параметров по обучающей выборке, а просто запоминает её и делает предсказания на основании классов ближайших соседей предсказываемого объекта. Для измерения близости необходимо задать метрику $\\rho(x, y)$."
   ]
  },
  {
   "cell_type": "code",
   "execution_count": 50,
   "metadata": {},
   "outputs": [],
   "source": [
    "# Possible metrics for the algorithm\n",
    "def solve_minkovski(x1, x2, p = 3):\n",
    "    return (np.abs(x1 - x2) ** p).T.sum(axis = 0)**(1.0 / p)\n",
    "\n",
    "def solve_euclid(x1, x2):\n",
    "    return solve_minkovski(x1, x2, 2)"
   ]
  },
  {
   "cell_type": "code",
   "execution_count": 51,
   "metadata": {},
   "outputs": [],
   "source": [
    "# Implementation of the method\n",
    "# with the ability to take into account distances between neighbors,\n",
    "# but without selecting reference elements and heuristics that accelerate\n",
    "# the search for neighbors:\n",
    "class MyKNN:\n",
    "    def __init__(self, k=5, metric = solve_euclid, parsen_kernel = None):\n",
    "        self.k = k\n",
    "        self.p = metric\n",
    "        # we should remember all data\n",
    "        self.X = None\n",
    "        self.Y = None\n",
    "        if parsen_kernel is None:\n",
    "            # all elements have equal weight\n",
    "            self.Kp = lambda t: 1.0\n",
    "        else:\n",
    "            # parsen method\n",
    "            self.Kp = parsen_kernel\n",
    "\n",
    "    def stolp_filtration(self):\n",
    "        pass\n",
    "    \n",
    "    def fit(self, X_train, Y_train):\n",
    "        self.X = X_train\n",
    "        self.Y = Y_train\n",
    "        self.k = min(self.k, len(self.Y) - 1)\n",
    "        return self\n",
    "\n",
    "    def predict(self, X_val):\n",
    "        Y_pred = np.zeros(len(X_val)).astype(np.int8)\n",
    "        # for each elem in X predict result:\n",
    "        for i in np.arange(len(X_val)):\n",
    "            Y_pred[i] = self.predict_one(X_val[i])\n",
    "        return Y_pred\n",
    "\n",
    "    def predict_one(self, x):\n",
    "        # compute all distances\n",
    "        r_x = self.p(self.X, x)\n",
    "        # take sorted order of dists in indexes\n",
    "        order = np.argsort(r_x)\n",
    "        # width for parsen is distance to k+1 neighbor:\n",
    "        h = r_x[order[self.k]]\n",
    "        # indexes of first k elems neighbor\n",
    "        order = order[:self.k]\n",
    "        # take first k Y:\n",
    "        Y_k = self.Y[order]\n",
    "        # compute parsen function for all neighbor:\n",
    "        K = self.Kp(r_x[order] / h)\n",
    "        \n",
    "        # compute functional for positives elems\n",
    "        pos_w = (K * Y_k).sum()\n",
    "        # compute functional for negatives elems\n",
    "        neg_w = (K * np.logical_not(Y_k)).sum()\n",
    "        \n",
    "        # class with more functional wins\n",
    "        return int(pos_w > neg_w) # 0 or 1\n",
    "\n",
    "\n",
    "    def score(self, X_val, Y_val, metric=Accuracy):\n",
    "        return metric(Y_val, self.predict(X_val))\n",
    "\n",
    "    def __str__(self):\n",
    "        return \"k Nearest Neighbor\"\n",
    "\n",
    "    def __repr__(self):\n",
    "        return \"KNN\""
   ]
  },
  {
   "cell_type": "markdown",
   "metadata": {},
   "source": [
    "Построим классификационную модель, используя алгоритм k-ближайших соседей и выведем значения полученных метрик."
   ]
  },
  {
   "cell_type": "code",
   "execution_count": 52,
   "metadata": {},
   "outputs": [
    {
     "name": "stdout",
     "output_type": "stream",
     "text": [
      "Train Result:\n",
      "================================================\n",
      "Accuracy Score: 91.53%\n",
      "_______________________________________________\n",
      "Classification Report:\tPrecision Score: 92.04%\n",
      "\t\t\tRecall Score: 90.43%\n",
      "\t\t\tF1 score: 91.23%\n",
      "_______________________________________________\n",
      "Confusion Matrix: \n",
      " [[112   9]\n",
      " [ 11 104]]\n",
      "\n",
      "Test Result:\n",
      "================================================\n",
      "Accuracy Score: 88.33%\n",
      "_______________________________________________\n",
      "Classification Report:\tPrecision Score: 76.92%\n",
      "\t\t\tRecall Score: 95.24%\n",
      "\t\t\tF1 score: 85.11%\n",
      "_______________________________________________\n",
      "Confusion Matrix: \n",
      " [[33  6]\n",
      " [ 1 20]]\n",
      "\n"
     ]
    }
   ],
   "source": [
    "myknn = MyKNN()\n",
    "myknn.fit(x_train1, y_train1)\n",
    "\n",
    "print_myscore(myknn, x_train1, y_train1, x_test1, y_test1, train = True)\n",
    "print_myscore(myknn, x_train1, y_train1, x_test1, y_test1, train = False)"
   ]
  },
  {
   "cell_type": "markdown",
   "metadata": {},
   "source": [
    "Добавляем в табличку значения тестовой и тренировочной точности предсказания для kNN модели."
   ]
  },
  {
   "cell_type": "code",
   "execution_count": 53,
   "metadata": {},
   "outputs": [
    {
     "data": {
      "text/html": [
       "<div>\n",
       "<style scoped>\n",
       "    .dataframe tbody tr th:only-of-type {\n",
       "        vertical-align: middle;\n",
       "    }\n",
       "\n",
       "    .dataframe tbody tr th {\n",
       "        vertical-align: top;\n",
       "    }\n",
       "\n",
       "    .dataframe thead th {\n",
       "        text-align: right;\n",
       "    }\n",
       "</style>\n",
       "<table border=\"1\" class=\"dataframe\">\n",
       "  <thead>\n",
       "    <tr style=\"text-align: right;\">\n",
       "      <th></th>\n",
       "      <th>Model</th>\n",
       "      <th>Training Accuracy %</th>\n",
       "      <th>Testing Accuracy %</th>\n",
       "    </tr>\n",
       "  </thead>\n",
       "  <tbody>\n",
       "    <tr>\n",
       "      <th>0</th>\n",
       "      <td>My Logistic Regression</td>\n",
       "      <td>100.000000</td>\n",
       "      <td>98.333333</td>\n",
       "    </tr>\n",
       "    <tr>\n",
       "      <th>1</th>\n",
       "      <td>My kNN</td>\n",
       "      <td>91.525424</td>\n",
       "      <td>88.333333</td>\n",
       "    </tr>\n",
       "  </tbody>\n",
       "</table>\n",
       "</div>"
      ],
      "text/plain": [
       "                    Model  Training Accuracy %  Testing Accuracy %\n",
       "0  My Logistic Regression           100.000000           98.333333\n",
       "1                  My kNN            91.525424           88.333333"
      ]
     },
     "execution_count": 53,
     "metadata": {},
     "output_type": "execute_result"
    }
   ],
   "source": [
    "train_score1 = Accuracy(y_train1, myknn.predict(x_train1)) * 100\n",
    "test_score1 = Accuracy(y_test1, myknn.predict(x_test1)) * 100\n",
    "\n",
    "accuracies_own['My kNN'] = test_score1\n",
    "\n",
    "tmp = pd.DataFrame(data=[[\"My kNN\", train_score1, test_score1]], \n",
    "                          columns=['Model', 'Training Accuracy %', 'Testing Accuracy %'])\n",
    "myresults_df = myresults_df.append(tmp, ignore_index=True)\n",
    "myresults_df"
   ]
  },
  {
   "cell_type": "markdown",
   "metadata": {},
   "source": [
    "### Decision Tree"
   ]
  },
  {
   "cell_type": "code",
   "execution_count": 54,
   "metadata": {},
   "outputs": [],
   "source": [
    "# Implementation of a decision tree\n",
    "# with the possibility of building a tree using the random subspace method,\n",
    "# which is necessary to use the class as a base when building a Random Forest"
   ]
  },
  {
   "cell_type": "code",
   "execution_count": 55,
   "metadata": {},
   "outputs": [],
   "source": [
    "class BinaryNode:\n",
    "    def __init__(self, idxs=None, pos=None, neg=None, c=None):\n",
    "        self.predicat = None\n",
    "        self.left = None\n",
    "        self.right = None\n",
    "        self.positives = pos\n",
    "        self.negatives = neg\n",
    "        self.c = c\n",
    "        self.idxs = idxs\n",
    "\n",
    "    # setters:\n",
    "    def set_left(self, left_node):\n",
    "        self.left = left_node\n",
    "\n",
    "    def set_idxs(self, idxs):\n",
    "        self.idxs = idxs\n",
    "\n",
    "    def set_right(self, right_node):\n",
    "        self.right = right_node\n",
    "\n",
    "    def set_predicat(self, predicat):\n",
    "        self.predicat = predicat\n",
    "\n",
    "    def set_class(self, c):\n",
    "        self.c = c\n",
    "        \n",
    "    def set_positives(self, positives):\n",
    "        self.positives = positives\n",
    "        \n",
    "    def set_negatives(self, negatives):\n",
    "        self.negatives = negatives\n",
    "\n",
    "    #getters:\n",
    "    def get_left(self):\n",
    "        return self.left\n",
    "\n",
    "    def get_right(self):\n",
    "        return self.right\n",
    "\n",
    "    def get_class(self):\n",
    "        return self.c\n",
    "\n",
    "    def get_idxs(self):\n",
    "        return self.idxs\n",
    "    \n",
    "    def get_positives(self):\n",
    "        return self.positives\n",
    "        \n",
    "    def get_negatives(self):\n",
    "        return self.negatives\n",
    "    \n",
    "    def get_len(self):\n",
    "        return self.idxs.shape[0]\n",
    "\n",
    "    #checkers:\n",
    "    def is_leaf(self):\n",
    "        return self.predicat is None\n",
    "\n",
    "    def is_inner(self):\n",
    "        return not self.is_leaf()\n",
    "    \n",
    "    def make_leaf(self):\n",
    "        self.predicat = None\n",
    "        self.left = None\n",
    "        self.right = None"
   ]
  },
  {
   "cell_type": "code",
   "execution_count": 56,
   "metadata": {},
   "outputs": [],
   "source": [
    "def bingini(*args):\n",
    "    # for binary classification: p(-) = 1 - p(+)=>\n",
    "    # Gini = 2 * p(+) * (1 - p(+))\n",
    "    if len(args) == 2:\n",
    "        p = args[0] / (args[1]+args[0])\n",
    "    else:\n",
    "        p = args[0].sum() / args[0].shape[0]\n",
    "    return 2 * p * (1 - p)\n",
    "\n",
    "def binentropy(*args):\n",
    "    # for binary classification: p(-) = 1 - p(+)=>\n",
    "    # Entropy = -p(+)log(p(+)) - (1 - p(+))log(1 - p(+))\n",
    "    if len(args) == 2:\n",
    "        p = args[0] / (args[1]+args[0])\n",
    "    else:\n",
    "        p = args[0].sum() / args[0].shape[0]\n",
    "    return -p*np.log(p) - (1 - p)*np.log(p)"
   ]
  },
  {
   "cell_type": "code",
   "execution_count": 57,
   "metadata": {},
   "outputs": [],
   "source": [
    "class MyDescisionTree:\n",
    "    def __init__(self, criteria=bingini, pruning_cost=None, min_samples_split=2, random_sub_num=None):\n",
    "        self.CATEGORICAL_LEN = 10\n",
    "        self.is_categorical = None\n",
    "        self.categorical_vals = {}\n",
    "        self.H = criteria\n",
    "        self.root = None\n",
    "        self.min_split = min_samples_split\n",
    "        if random_sub_num is None:\n",
    "            self.random_subspace = False\n",
    "        else:\n",
    "            self.random_subspace = True\n",
    "            self.feature_num = random_sub_num\n",
    "        if pruning_cost is None:\n",
    "            self.pruning = False\n",
    "        else:\n",
    "            self.pruning = True\n",
    "            self.alpha = pruning_cost\n",
    "            \n",
    "    def node_classify(self, node):\n",
    "        # set class num node:\n",
    "        positives = node.get_positives()\n",
    "        negatives = node.get_negatives()\n",
    "        if positives >= negatives:\n",
    "            node.set_class(1)\n",
    "        else:\n",
    "            node.set_class(0)\n",
    "            \n",
    "    # create root and recursive building tree\n",
    "    def build_tree(self):\n",
    "        # create root with all nums\n",
    "        self.root = BinaryNode(np.arange(self.Y.shape[0]))\n",
    "        self.root.set_positives(self.Y.sum())\n",
    "        negatives = self.root.get_len() - self.root.get_positives()\n",
    "        self.root.set_negatives(negatives)\n",
    "        # recursive function of creation\n",
    "        self.recursive_creation(self.root)\n",
    "            \n",
    "            \n",
    "    # may be modifed\n",
    "    def stop_criteria(self, node):\n",
    "        # if num of eelems in node less than min required for split => 1\n",
    "        if node.get_len() < self.min_split:\n",
    "            return True\n",
    "        # if all elems in node has only one class => 1\n",
    "        positives = node.get_positives()\n",
    "        negatives = node.get_negatives()\n",
    "        return (negatives==0 or positives==0)\n",
    "    \n",
    "    # union of search_best_split() and split_node()\n",
    "    def search_best_split(self, node):\n",
    "        X_iter = self.X[node.get_idxs()]\n",
    "        Y_iter = self.Y[node.get_idxs()]\n",
    "        # compute node info criteria\n",
    "        positiv = node.get_positives()\n",
    "        negativ = node.get_negatives()\n",
    "        node_info = self.H(positiv, negativ)\n",
    "        # best params\n",
    "        best_gain = 0.0\n",
    "        best_j, best_t = 0, 0.0\n",
    "        # search in all features:\n",
    "        if self.random_subspace:\n",
    "            # get random permutation\n",
    "            features = np.random.permutation(self.X.shape[1])\n",
    "            # stay only feature_num random features\n",
    "            features = features[:self.feature_num]\n",
    "        # else search by all features\n",
    "        else:\n",
    "            features = range(self.X.shape[1])\n",
    "\n",
    "        for j in features:\n",
    "            column = X_iter[:, j]\n",
    "            # fast search if categorical:\n",
    "            if self.is_categorical[j]:\n",
    "                possible_vals = self.categorical_vals[j]\n",
    "                for i in range(1, possible_vals.shape[0]):\n",
    "                    mask = column < possible_vals[i]\n",
    "                    Y_r = Y_iter[mask]\n",
    "                    if Y_r.shape[0] == 0:\n",
    "                        continue\n",
    "                    right_pos = Y_r.sum()\n",
    "                    right_neg = Y_r.shape[0] - right_pos\n",
    "                    right_gini = self.H(right_pos, right_neg)\n",
    "                    left_gini = self.H(positiv - right_pos, negativ - right_neg)\n",
    "                    # Q(Rm, j, t) = H(Rm) - (|Rl|/|Rm|)H(Rl) - (|Rr|/|Rm|)H(Rr)\n",
    "                    gain = node_info\n",
    "                    gain -= (Y_r.shape[0]*right_gini/node.get_len())\n",
    "                    gain -= (1 - Y_r.shape[0]/node.get_len())*left_gini\n",
    "                    if gain > best_gain:\n",
    "                        best_t = possible_vals[i]\n",
    "                        best_j = j\n",
    "                        best_gain = gain  \n",
    "                continue\n",
    "            # else standart search:\n",
    "            sorted_col = np.argsort(column)\n",
    "            right_neg = 0\n",
    "            right_pos = 0\n",
    "            last_t = column[sorted_col[0]]\n",
    "            for i in range(1, column.shape[0]):\n",
    "                if Y_iter[sorted_col[i-1]]:\n",
    "                    right_pos += 1\n",
    "                else:\n",
    "                    right_neg += 1\n",
    "                    \n",
    "                idx = sorted_col[i]\n",
    "                if column[idx] == last_t:\n",
    "                    continue\n",
    "                \n",
    "                last_t = column[idx]\n",
    "                # compute gain:\n",
    "                right_gini = self.H(right_pos, right_neg)\n",
    "                left_gini = self.H(positiv - right_pos, negativ - right_neg)\n",
    "                # Q(Rm, j, t) = H(Rm) - (|Rl|/|Rm|)H(Rl) - (|Rr|/|Rm|)H(Rr)\n",
    "                gain = node_info\n",
    "                gain -= (i*right_gini/node.get_len()) + (1 - i/node.get_len())*left_gini\n",
    "                # needs best gain split\n",
    "                if gain > best_gain:\n",
    "                    best_t = column[idx]\n",
    "                    best_j = j\n",
    "                    best_gain = gain\n",
    "                    \n",
    "        if best_gain > 0.0:\n",
    "            return best_j, best_t\n",
    "    \n",
    "    # create 2 new nodes: left and right\n",
    "    def split_node(self, node, j, t):\n",
    "        # set predicat rule for node\n",
    "        predicat = lambda x: x[j] < t\n",
    "        node.set_predicat(predicat)\n",
    "        # get split mask\n",
    "        column = self.X[node.get_idxs(), j]\n",
    "        mask = column < t\n",
    "        # make idxs for left and right\n",
    "        right_idxs = node.get_idxs()[mask]\n",
    "        left_idxs = node.get_idxs()[np.logical_not(mask)]\n",
    "        #compute positives:\n",
    "        right_pos = self.Y[right_idxs].sum()\n",
    "        left_pos = self.Y[left_idxs].sum()\n",
    "        # compute negatives\n",
    "        right_neg = right_idxs.shape[0] - right_pos\n",
    "        left_neg = left_idxs.shape[0] - left_pos\n",
    "        # create nodes\n",
    "        node.set_left(BinaryNode(left_idxs, left_pos, left_neg))\n",
    "        node.set_right(BinaryNode(right_idxs, right_pos, right_neg))\n",
    "    \n",
    "    # recursive function for nodes:\n",
    "    def recursive_creation(self, node):\n",
    "        # classify another node:\n",
    "        self.node_classify(node)\n",
    "        # stop criteria for building\n",
    "        if self.stop_criteria(node):\n",
    "            return\n",
    "        #else find best split\n",
    "        jt = self.search_best_split(node)\n",
    "        # if we cant find best split - stop\n",
    "        if jt is None:\n",
    "            return\n",
    "\n",
    "        # split node for 2 child:\n",
    "        self.split_node(node, *jt)\n",
    "        # start recursion for left:\n",
    "        self.recursive_creation(node.get_left())\n",
    "        # for right:\n",
    "        self.recursive_creation(node.get_right())\n",
    "    \n",
    "    def tree_pruning(self, node):\n",
    "        # this node R_a(t) computing:\n",
    "        # R = sum([y != c]) / |N|\n",
    "        if node.get_class():\n",
    "            R_a = node.get_negatives() / node.get_len()\n",
    "        else:\n",
    "            R_a = node.get_positives() / node.get_len()\n",
    "        # R_a(t) = R(t) + a\n",
    "        R_a += self.alpha\n",
    "        # at first go while not leaf:\n",
    "        if node.is_leaf():\n",
    "            # return R_a(leaf)\n",
    "            return R_a\n",
    "        # R_a(Tl) and R_a(Tr)\n",
    "        R_al = self.tree_pruning(node.get_left())\n",
    "        R_ar = self.tree_pruning(node.get_right())\n",
    "        # if R_a(t) < R_a(T) => pruning\n",
    "        if R_a <= R_al + R_ar:\n",
    "            node.make_leaf()\n",
    "            return R_a\n",
    "        # else do nothing\n",
    "        return R_al + R_ar\n",
    "    \n",
    "    def search_categorical(self):\n",
    "        self.is_categorical = np.zeros(self.X.shape[1]).astype(np.int8)\n",
    "        for j in range(self.X.shape[1]):\n",
    "            uniq = np.unique(self.X[:, j])\n",
    "            if uniq.shape[0] < self.CATEGORICAL_LEN:\n",
    "                self.categorical_vals[j] = uniq\n",
    "                self.is_categorical[j] = 1\n",
    "            \n",
    "\n",
    "    def fit(self, X_train, Y_train):\n",
    "        # temp sets for comfort\n",
    "        self.X = X_train\n",
    "        self.Y = Y_train\n",
    "        # we will store only idxs while training in nodes =>\n",
    "        # make idxs column for comfort:\n",
    "        self.idxs = np.arange(X_train.shape[0])\n",
    "        # for speed search categorical\n",
    "        self.search_categorical()\n",
    "        # build tree \n",
    "        self.build_tree()\n",
    "        # pruning tree\n",
    "        if self.pruning:\n",
    "            self.tree_pruning(self.root)\n",
    "        #  delete temp sets:\n",
    "        #self.free_memory(root)\n",
    "        del self.X\n",
    "        del self.Y\n",
    "        del self.idxs\n",
    "        return self\n",
    "\n",
    "    def predict(self, X_val):\n",
    "        Y_pred = np.zeros(X_val.shape[0]).astype(np.int8)\n",
    "        # for each elem in X predict result:\n",
    "        for i in np.arange(X_val.shape[0]):\n",
    "            Y_pred[i] = self.predict_one(X_val[i])\n",
    "        return Y_pred\n",
    "\n",
    "    def predict_one(self, x):\n",
    "        node = self.root\n",
    "        while node.is_inner():\n",
    "            if node.predicat(x):\n",
    "                node = node.get_right()\n",
    "            else:\n",
    "                node = node.get_left()\n",
    "        # if in leaf:\n",
    "        return node.get_class()\n",
    "\n",
    "    def score(self, X_val, Y_val, metric=Accuracy):\n",
    "        return metric(Y_val, self.predict(X_val))\n",
    "\n",
    "    def __str__(self):\n",
    "        return \"Decision Tree\"\n",
    "\n",
    "    def __repr__(self):\n",
    "        return \"Tree\""
   ]
  },
  {
   "cell_type": "markdown",
   "metadata": {},
   "source": [
    "Построим классификационную модель, используя дерево решений и выведем значения полученных метрик."
   ]
  },
  {
   "cell_type": "code",
   "execution_count": 58,
   "metadata": {},
   "outputs": [
    {
     "name": "stdout",
     "output_type": "stream",
     "text": [
      "Train Result:\n",
      "================================================\n",
      "Accuracy Score: 100.00%\n",
      "_______________________________________________\n",
      "Classification Report:\tPrecision Score: 100.00%\n",
      "\t\t\tRecall Score: 100.00%\n",
      "\t\t\tF1 score: 100.00%\n",
      "_______________________________________________\n",
      "Confusion Matrix: \n",
      " [[121   0]\n",
      " [  0 115]]\n",
      "\n",
      "Test Result:\n",
      "================================================\n",
      "Accuracy Score: 100.00%\n",
      "_______________________________________________\n",
      "Classification Report:\tPrecision Score: 100.00%\n",
      "\t\t\tRecall Score: 100.00%\n",
      "\t\t\tF1 score: 100.00%\n",
      "_______________________________________________\n",
      "Confusion Matrix: \n",
      " [[39  0]\n",
      " [ 0 21]]\n",
      "\n"
     ]
    }
   ],
   "source": [
    "import warnings\n",
    "warnings.filterwarnings(\"ignore\")\n",
    "\n",
    "mydt = MyDescisionTree()\n",
    "mydt.fit(x_train1, y_train1)\n",
    "\n",
    "print_myscore(mydt, x_train1, y_train1, x_test1, y_test1, train = True)\n",
    "print_myscore(mydt, x_train1, y_train1, x_test1, y_test1, train = False)"
   ]
  },
  {
   "cell_type": "markdown",
   "metadata": {},
   "source": [
    "Добавляем в табличку значения тестовой и тренировочной точности предсказания для Decision Tree модели."
   ]
  },
  {
   "cell_type": "code",
   "execution_count": 59,
   "metadata": {},
   "outputs": [
    {
     "data": {
      "text/html": [
       "<div>\n",
       "<style scoped>\n",
       "    .dataframe tbody tr th:only-of-type {\n",
       "        vertical-align: middle;\n",
       "    }\n",
       "\n",
       "    .dataframe tbody tr th {\n",
       "        vertical-align: top;\n",
       "    }\n",
       "\n",
       "    .dataframe thead th {\n",
       "        text-align: right;\n",
       "    }\n",
       "</style>\n",
       "<table border=\"1\" class=\"dataframe\">\n",
       "  <thead>\n",
       "    <tr style=\"text-align: right;\">\n",
       "      <th></th>\n",
       "      <th>Model</th>\n",
       "      <th>Training Accuracy %</th>\n",
       "      <th>Testing Accuracy %</th>\n",
       "    </tr>\n",
       "  </thead>\n",
       "  <tbody>\n",
       "    <tr>\n",
       "      <th>0</th>\n",
       "      <td>My Logistic Regression</td>\n",
       "      <td>100.000000</td>\n",
       "      <td>98.333333</td>\n",
       "    </tr>\n",
       "    <tr>\n",
       "      <th>1</th>\n",
       "      <td>My kNN</td>\n",
       "      <td>91.525424</td>\n",
       "      <td>88.333333</td>\n",
       "    </tr>\n",
       "    <tr>\n",
       "      <th>2</th>\n",
       "      <td>My My Decision Tree Classifier</td>\n",
       "      <td>100.000000</td>\n",
       "      <td>100.000000</td>\n",
       "    </tr>\n",
       "  </tbody>\n",
       "</table>\n",
       "</div>"
      ],
      "text/plain": [
       "                            Model  Training Accuracy %  Testing Accuracy %\n",
       "0          My Logistic Regression           100.000000           98.333333\n",
       "1                          My kNN            91.525424           88.333333\n",
       "2  My My Decision Tree Classifier           100.000000          100.000000"
      ]
     },
     "execution_count": 59,
     "metadata": {},
     "output_type": "execute_result"
    }
   ],
   "source": [
    "train_score1 = Accuracy(y_train1, mydt.predict(x_train1)) * 100\n",
    "test_score1 = Accuracy(y_test1, mydt.predict(x_test1)) * 100\n",
    "\n",
    "accuracies_own['My My Decision Tree Classifier'] = test_score1\n",
    "\n",
    "tmp = pd.DataFrame(data=[[\"My My Decision Tree Classifier\", train_score1, test_score1]], \n",
    "                          columns=['Model', 'Training Accuracy %', 'Testing Accuracy %'])\n",
    "myresults_df = myresults_df.append(tmp, ignore_index=True)\n",
    "myresults_df"
   ]
  },
  {
   "cell_type": "markdown",
   "metadata": {},
   "source": [
    "### Random Forest"
   ]
  },
  {
   "cell_type": "markdown",
   "metadata": {},
   "source": [
    "Метод построения композиции классификаторов, называемый *Случайный Лес*, призван бороться с главным недостатком решающих деревьев - переобучением.\n",
    "\n",
    "Если дана обучающая выборка $(X, Y)$, алгоритм построения леса из $N$ деревьев выглядит так:\n",
    "\n",
    "Для каждого $k = 1 \\dots N$:\n",
    "\n",
    "1. Генерируем случайную подвыборку с повторениями $(X_k, Y_k)$\n",
    "2. Начинаем строить решающее дерево $b_k$ на выборке $(X_k, Y_k)$:\n",
    "   - На каждом сплите выбираем случайное подмножество признаков $d_l$\n",
    "   - Из этого подмножества $d_l$ берем тот признак, сплит по которому является наилучшим согласно критерию\n",
    "   - Строим дерево до тех пор, пока не достигается максимально указанная глубина _max_depth_ или в листьях не оказывается _n_min_ объектов\n",
    "   \n",
    "Получаем итоговый ансабмль моделей (лес деревьев) в виде голосования моделей:\n",
    "\n",
    "$$\\large a(x) = \\frac{1}{N}\\sum_{k = 1}^N b_k(x)$$"
   ]
  },
  {
   "cell_type": "code",
   "execution_count": 60,
   "metadata": {},
   "outputs": [],
   "source": [
    "class MyRandomForest:\n",
    "    def __init__(self, Ntrees=20, criteria=bingini, random_sub_num=None):\n",
    "        self.N = Ntrees\n",
    "        self.criteria = criteria\n",
    "        self.sub_space_num = random_sub_num\n",
    "        # list for trained models\n",
    "        self.trees = [None for _ in range(self.N)]\n",
    "\n",
    "    # get random sample for tree training\n",
    "    def bootstrap_sample(self, X, Y):\n",
    "        # indexes of X and Y\n",
    "        indexes = np.arange(len(Y))\n",
    "        # rundom indexes with repeats\n",
    "        indexes = np.random.choice(indexes, len(indexes))\n",
    "        # bootstrap sample\n",
    "        return X[indexes], Y[indexes]\n",
    "    \n",
    "    def fit(self, X_train, Y_train):\n",
    "        if self.sub_space_num is None:\n",
    "            self.sub_space_num = int(len(X_train)**(1/2))\n",
    "        # train N trees with \n",
    "        for i in range(self.N):\n",
    "            # create tree(use our class of tree)\n",
    "            self.trees[i] = MyDescisionTree(\n",
    "                self.criteria, # user criteria\n",
    "                None, # trees without prunning\n",
    "                2, # build while it possible \n",
    "                self.sub_space_num) # num of random features in random space method\n",
    "            # and train tree:\n",
    "            self.trees[i].fit(*self.bootstrap_sample(X_train, Y_train))\n",
    "        return self\n",
    "            \n",
    "\n",
    "    def predict(self, X_val):\n",
    "        voices = np.zeros(len(X_val))\n",
    "        # make vote:\n",
    "        for tree in self.trees:\n",
    "            voices += tree.predict(X_val)\n",
    "        # compute winners:\n",
    "        Y_pred = voices >= (self.N + 1) // 2\n",
    "        return Y_pred.astype(np.int8)\n",
    "\n",
    "    \n",
    "    def score(self, X_val, Y_val, metric=Accuracy):\n",
    "        return metric(Y_val, self.predict(X_val))\n",
    "\n",
    "    def __str__(self):\n",
    "        return \"Random Forest\"\n",
    "\n",
    "    def __repr__(self):\n",
    "        return \"RF\""
   ]
  },
  {
   "cell_type": "markdown",
   "metadata": {},
   "source": [
    "Построим классификационную модель, используя случайный лес и выведем значения полученных метрик."
   ]
  },
  {
   "cell_type": "code",
   "execution_count": 61,
   "metadata": {},
   "outputs": [
    {
     "name": "stdout",
     "output_type": "stream",
     "text": [
      "Train Result:\n",
      "================================================\n",
      "Accuracy Score: 100.00%\n",
      "_______________________________________________\n",
      "Classification Report:\tPrecision Score: 100.00%\n",
      "\t\t\tRecall Score: 100.00%\n",
      "\t\t\tF1 score: 100.00%\n",
      "_______________________________________________\n",
      "Confusion Matrix: \n",
      " [[121   0]\n",
      " [  0 115]]\n",
      "\n",
      "Test Result:\n",
      "================================================\n",
      "Accuracy Score: 100.00%\n",
      "_______________________________________________\n",
      "Classification Report:\tPrecision Score: 100.00%\n",
      "\t\t\tRecall Score: 100.00%\n",
      "\t\t\tF1 score: 100.00%\n",
      "_______________________________________________\n",
      "Confusion Matrix: \n",
      " [[39  0]\n",
      " [ 0 21]]\n",
      "\n"
     ]
    }
   ],
   "source": [
    "myrf = MyRandomForest(Ntrees = 80)\n",
    "myrf.fit(x_train1, y_train1)\n",
    "\n",
    "print_myscore(myrf, x_train1, y_train1, x_test1, y_test1, train = True)\n",
    "print_myscore(myrf, x_train1, y_train1, x_test1, y_test1, train = False)"
   ]
  },
  {
   "cell_type": "markdown",
   "metadata": {},
   "source": [
    "Добавляем в табличку значения тестовой и тренировочной точности предсказания для Random Forest модели."
   ]
  },
  {
   "cell_type": "code",
   "execution_count": 62,
   "metadata": {},
   "outputs": [
    {
     "data": {
      "text/html": [
       "<div>\n",
       "<style scoped>\n",
       "    .dataframe tbody tr th:only-of-type {\n",
       "        vertical-align: middle;\n",
       "    }\n",
       "\n",
       "    .dataframe tbody tr th {\n",
       "        vertical-align: top;\n",
       "    }\n",
       "\n",
       "    .dataframe thead th {\n",
       "        text-align: right;\n",
       "    }\n",
       "</style>\n",
       "<table border=\"1\" class=\"dataframe\">\n",
       "  <thead>\n",
       "    <tr style=\"text-align: right;\">\n",
       "      <th></th>\n",
       "      <th>Model</th>\n",
       "      <th>Training Accuracy %</th>\n",
       "      <th>Testing Accuracy %</th>\n",
       "    </tr>\n",
       "  </thead>\n",
       "  <tbody>\n",
       "    <tr>\n",
       "      <th>0</th>\n",
       "      <td>My Logistic Regression</td>\n",
       "      <td>100.000000</td>\n",
       "      <td>98.333333</td>\n",
       "    </tr>\n",
       "    <tr>\n",
       "      <th>1</th>\n",
       "      <td>My kNN</td>\n",
       "      <td>91.525424</td>\n",
       "      <td>88.333333</td>\n",
       "    </tr>\n",
       "    <tr>\n",
       "      <th>2</th>\n",
       "      <td>My My Decision Tree Classifier</td>\n",
       "      <td>100.000000</td>\n",
       "      <td>100.000000</td>\n",
       "    </tr>\n",
       "    <tr>\n",
       "      <th>3</th>\n",
       "      <td>My Random Forest</td>\n",
       "      <td>100.000000</td>\n",
       "      <td>100.000000</td>\n",
       "    </tr>\n",
       "  </tbody>\n",
       "</table>\n",
       "</div>"
      ],
      "text/plain": [
       "                            Model  Training Accuracy %  Testing Accuracy %\n",
       "0          My Logistic Regression           100.000000           98.333333\n",
       "1                          My kNN            91.525424           88.333333\n",
       "2  My My Decision Tree Classifier           100.000000          100.000000\n",
       "3                My Random Forest           100.000000          100.000000"
      ]
     },
     "execution_count": 62,
     "metadata": {},
     "output_type": "execute_result"
    }
   ],
   "source": [
    "train_score1 = Accuracy(y_train1, myrf.predict(x_train1)) * 100\n",
    "test_score1 = Accuracy(y_test1, myrf.predict(x_test1)) * 100\n",
    "\n",
    "accuracies_own['My Random Forest'] = test_score1\n",
    "\n",
    "tmp = pd.DataFrame(data=[[\"My Random Forest\", train_score1, test_score1]], \n",
    "                          columns=['Model', 'Training Accuracy %', 'Testing Accuracy %'])\n",
    "myresults_df = myresults_df.append(tmp, ignore_index=True)\n",
    "myresults_df"
   ]
  },
  {
   "cell_type": "markdown",
   "metadata": {},
   "source": [
    "Построим график, показывающий тестовые точности всех моделей."
   ]
  },
  {
   "cell_type": "code",
   "execution_count": 63,
   "metadata": {},
   "outputs": [
    {
     "data": {
      "image/png": "[encoded data removed]",
      "text/plain": [
       "<Figure size 1152x360 with 1 Axes>"
      ]
     },
     "metadata": {},
     "output_type": "display_data"
    }
   ],
   "source": [
    "colors = [\"purple\", \"green\", \"orange\", \"magenta\",\"#CFC60E\",\"#0FBBAE\"]\n",
    "\n",
    "sns.set_style(\"whitegrid\")\n",
    "plt.figure(figsize = (16, 5))\n",
    "plt.yticks(np.arange(0, 100, 10))\n",
    "plt.ylabel(\"Accuracy %\")\n",
    "plt.xlabel(\"Algorithms\")\n",
    "sns.barplot(x = list(accuracies_own.keys()), y = list(accuracies_own.values()), palette = colors)\n",
    "plt.show()"
   ]
  },
  {
   "cell_type": "markdown",
   "metadata": {},
   "source": [
    "#### Вывод\n",
    "Лучший результат наблюдается у алгоритмов дерева решений и случайный лес, предсказание на тестовых данных дает 100% точность. Худшие показатели у алгоритма kNN 88% на тестовых данных."
   ]
  },
  {
   "cell_type": "markdown",
   "metadata": {},
   "source": [
    "### Второй датасет"
   ]
  },
  {
   "cell_type": "markdown",
   "metadata": {},
   "source": [
    "Вторым датасетом я выбрала простой и понятный датасет качества красного вина. Этот набор данных должен отлично подойти для регрессионного или классификационного моделирования."
   ]
  },
  {
   "cell_type": "markdown",
   "metadata": {},
   "source": [
    "Импортируем необходимые библиотеки."
   ]
  },
  {
   "cell_type": "code",
   "execution_count": 64,
   "metadata": {},
   "outputs": [],
   "source": [
    "import numpy as np\n",
    "import pandas as pd\n",
    "import matplotlib.pyplot as plt\n",
    "import seaborn as sns\n",
    "import matplotlib.gridspec as gridspec\n",
    "\n",
    "\n",
    "from sklearn.metrics import accuracy_score\n",
    "from sklearn.metrics import mean_squared_error\n",
    "from sklearn.model_selection import cross_val_score"
   ]
  },
  {
   "cell_type": "markdown",
   "metadata": {},
   "source": [
    "Считаем надбор данных и выведем первые 5 строк."
   ]
  },
  {
   "cell_type": "code",
   "execution_count": 65,
   "metadata": {},
   "outputs": [
    {
     "data": {
      "text/html": [
       "<div>\n",
       "<style scoped>\n",
       "    .dataframe tbody tr th:only-of-type {\n",
       "        vertical-align: middle;\n",
       "    }\n",
       "\n",
       "    .dataframe tbody tr th {\n",
       "        vertical-align: top;\n",
       "    }\n",
       "\n",
       "    .dataframe thead th {\n",
       "        text-align: right;\n",
       "    }\n",
       "</style>\n",
       "<table border=\"1\" class=\"dataframe\">\n",
       "  <thead>\n",
       "    <tr style=\"text-align: right;\">\n",
       "      <th></th>\n",
       "      <th>fixed acidity</th>\n",
       "      <th>volatile acidity</th>\n",
       "      <th>citric acid</th>\n",
       "      <th>residual sugar</th>\n",
       "      <th>chlorides</th>\n",
       "      <th>free sulfur dioxide</th>\n",
       "      <th>total sulfur dioxide</th>\n",
       "      <th>density</th>\n",
       "      <th>pH</th>\n",
       "      <th>sulphates</th>\n",
       "      <th>alcohol</th>\n",
       "      <th>quality</th>\n",
       "    </tr>\n",
       "  </thead>\n",
       "  <tbody>\n",
       "    <tr>\n",
       "      <th>0</th>\n",
       "      <td>7.4</td>\n",
       "      <td>0.70</td>\n",
       "      <td>0.00</td>\n",
       "      <td>1.9</td>\n",
       "      <td>0.076</td>\n",
       "      <td>11.0</td>\n",
       "      <td>34.0</td>\n",
       "      <td>0.9978</td>\n",
       "      <td>3.51</td>\n",
       "      <td>0.56</td>\n",
       "      <td>9.4</td>\n",
       "      <td>5</td>\n",
       "    </tr>\n",
       "    <tr>\n",
       "      <th>1</th>\n",
       "      <td>7.8</td>\n",
       "      <td>0.88</td>\n",
       "      <td>0.00</td>\n",
       "      <td>2.6</td>\n",
       "      <td>0.098</td>\n",
       "      <td>25.0</td>\n",
       "      <td>67.0</td>\n",
       "      <td>0.9968</td>\n",
       "      <td>3.20</td>\n",
       "      <td>0.68</td>\n",
       "      <td>9.8</td>\n",
       "      <td>5</td>\n",
       "    </tr>\n",
       "    <tr>\n",
       "      <th>2</th>\n",
       "      <td>7.8</td>\n",
       "      <td>0.76</td>\n",
       "      <td>0.04</td>\n",
       "      <td>2.3</td>\n",
       "      <td>0.092</td>\n",
       "      <td>15.0</td>\n",
       "      <td>54.0</td>\n",
       "      <td>0.9970</td>\n",
       "      <td>3.26</td>\n",
       "      <td>0.65</td>\n",
       "      <td>9.8</td>\n",
       "      <td>5</td>\n",
       "    </tr>\n",
       "    <tr>\n",
       "      <th>3</th>\n",
       "      <td>11.2</td>\n",
       "      <td>0.28</td>\n",
       "      <td>0.56</td>\n",
       "      <td>1.9</td>\n",
       "      <td>0.075</td>\n",
       "      <td>17.0</td>\n",
       "      <td>60.0</td>\n",
       "      <td>0.9980</td>\n",
       "      <td>3.16</td>\n",
       "      <td>0.58</td>\n",
       "      <td>9.8</td>\n",
       "      <td>6</td>\n",
       "    </tr>\n",
       "    <tr>\n",
       "      <th>4</th>\n",
       "      <td>7.4</td>\n",
       "      <td>0.70</td>\n",
       "      <td>0.00</td>\n",
       "      <td>1.9</td>\n",
       "      <td>0.076</td>\n",
       "      <td>11.0</td>\n",
       "      <td>34.0</td>\n",
       "      <td>0.9978</td>\n",
       "      <td>3.51</td>\n",
       "      <td>0.56</td>\n",
       "      <td>9.4</td>\n",
       "      <td>5</td>\n",
       "    </tr>\n",
       "  </tbody>\n",
       "</table>\n",
       "</div>"
      ],
      "text/plain": [
       "   fixed acidity  volatile acidity  citric acid  residual sugar  chlorides  \\\n",
       "0            7.4              0.70         0.00             1.9      0.076   \n",
       "1            7.8              0.88         0.00             2.6      0.098   \n",
       "2            7.8              0.76         0.04             2.3      0.092   \n",
       "3           11.2              0.28         0.56             1.9      0.075   \n",
       "4            7.4              0.70         0.00             1.9      0.076   \n",
       "\n",
       "   free sulfur dioxide  total sulfur dioxide  density    pH  sulphates  \\\n",
       "0                 11.0                  34.0   0.9978  3.51       0.56   \n",
       "1                 25.0                  67.0   0.9968  3.20       0.68   \n",
       "2                 15.0                  54.0   0.9970  3.26       0.65   \n",
       "3                 17.0                  60.0   0.9980  3.16       0.58   \n",
       "4                 11.0                  34.0   0.9978  3.51       0.56   \n",
       "\n",
       "   alcohol  quality  \n",
       "0      9.4        5  \n",
       "1      9.8        5  \n",
       "2      9.8        5  \n",
       "3      9.8        6  \n",
       "4      9.4        5  "
      ]
     },
     "execution_count": 65,
     "metadata": {},
     "output_type": "execute_result"
    }
   ],
   "source": [
    "ds2 = pd.read_csv('/Users/linuxoid/Desktop/VUZICH/ML/input_data/winequality-red.csv')\n",
    "ds2.head()"
   ]
  },
  {
   "cell_type": "markdown",
   "metadata": {},
   "source": [
    "Проверка на наличие пропущенных данных."
   ]
  },
  {
   "cell_type": "code",
   "execution_count": 66,
   "metadata": {},
   "outputs": [
    {
     "data": {
      "text/plain": [
       "fixed acidity           0\n",
       "volatile acidity        0\n",
       "citric acid             0\n",
       "residual sugar          0\n",
       "chlorides               0\n",
       "free sulfur dioxide     0\n",
       "total sulfur dioxide    0\n",
       "density                 0\n",
       "pH                      0\n",
       "sulphates               0\n",
       "alcohol                 0\n",
       "quality                 0\n",
       "dtype: int64"
      ]
     },
     "execution_count": 66,
     "metadata": {},
     "output_type": "execute_result"
    }
   ],
   "source": [
    "ds2.isnull().sum()"
   ]
  },
  {
   "cell_type": "code",
   "execution_count": 67,
   "metadata": {},
   "outputs": [
    {
     "data": {
      "text/plain": [
       "<matplotlib.axes._subplots.AxesSubplot at 0x7ff8711f90b8>"
      ]
     },
     "execution_count": 67,
     "metadata": {},
     "output_type": "execute_result"
    },
    {
     "data": {
      "image/png": "[encoded data removed]",
      "text/plain": [
       "<Figure size 432x288 with 1 Axes>"
      ]
     },
     "metadata": {},
     "output_type": "display_data"
    }
   ],
   "source": [
    "sns.heatmap(ds2.isnull(), cbar = False, cmap='coolwarm')"
   ]
  },
  {
   "cell_type": "markdown",
   "metadata": {},
   "source": [
    "Повезло, пропущенных данных нет. Насколько мне известно, такое случается редко!"
   ]
  },
  {
   "cell_type": "code",
   "execution_count": 68,
   "metadata": {},
   "outputs": [
    {
     "data": {
      "text/html": [
       "<div>\n",
       "<style scoped>\n",
       "    .dataframe tbody tr th:only-of-type {\n",
       "        vertical-align: middle;\n",
       "    }\n",
       "\n",
       "    .dataframe tbody tr th {\n",
       "        vertical-align: top;\n",
       "    }\n",
       "\n",
       "    .dataframe thead th {\n",
       "        text-align: right;\n",
       "    }\n",
       "</style>\n",
       "<table border=\"1\" class=\"dataframe\">\n",
       "  <thead>\n",
       "    <tr style=\"text-align: right;\">\n",
       "      <th></th>\n",
       "      <th>fixed acidity</th>\n",
       "      <th>volatile acidity</th>\n",
       "      <th>citric acid</th>\n",
       "      <th>residual sugar</th>\n",
       "      <th>chlorides</th>\n",
       "      <th>free sulfur dioxide</th>\n",
       "      <th>total sulfur dioxide</th>\n",
       "      <th>density</th>\n",
       "      <th>pH</th>\n",
       "      <th>sulphates</th>\n",
       "      <th>alcohol</th>\n",
       "      <th>quality</th>\n",
       "    </tr>\n",
       "  </thead>\n",
       "  <tbody>\n",
       "    <tr>\n",
       "      <th>count</th>\n",
       "      <td>1599.000000</td>\n",
       "      <td>1599.000000</td>\n",
       "      <td>1599.000000</td>\n",
       "      <td>1599.000000</td>\n",
       "      <td>1599.000000</td>\n",
       "      <td>1599.000000</td>\n",
       "      <td>1599.000000</td>\n",
       "      <td>1599.000000</td>\n",
       "      <td>1599.000000</td>\n",
       "      <td>1599.000000</td>\n",
       "      <td>1599.000000</td>\n",
       "      <td>1599.000000</td>\n",
       "    </tr>\n",
       "    <tr>\n",
       "      <th>mean</th>\n",
       "      <td>8.319637</td>\n",
       "      <td>0.527821</td>\n",
       "      <td>0.270976</td>\n",
       "      <td>2.538806</td>\n",
       "      <td>0.087467</td>\n",
       "      <td>15.874922</td>\n",
       "      <td>46.467792</td>\n",
       "      <td>0.996747</td>\n",
       "      <td>3.311113</td>\n",
       "      <td>0.658149</td>\n",
       "      <td>10.422983</td>\n",
       "      <td>5.636023</td>\n",
       "    </tr>\n",
       "    <tr>\n",
       "      <th>std</th>\n",
       "      <td>1.741096</td>\n",
       "      <td>0.179060</td>\n",
       "      <td>0.194801</td>\n",
       "      <td>1.409928</td>\n",
       "      <td>0.047065</td>\n",
       "      <td>10.460157</td>\n",
       "      <td>32.895324</td>\n",
       "      <td>0.001887</td>\n",
       "      <td>0.154386</td>\n",
       "      <td>0.169507</td>\n",
       "      <td>1.065668</td>\n",
       "      <td>0.807569</td>\n",
       "    </tr>\n",
       "    <tr>\n",
       "      <th>min</th>\n",
       "      <td>4.600000</td>\n",
       "      <td>0.120000</td>\n",
       "      <td>0.000000</td>\n",
       "      <td>0.900000</td>\n",
       "      <td>0.012000</td>\n",
       "      <td>1.000000</td>\n",
       "      <td>6.000000</td>\n",
       "      <td>0.990070</td>\n",
       "      <td>2.740000</td>\n",
       "      <td>0.330000</td>\n",
       "      <td>8.400000</td>\n",
       "      <td>3.000000</td>\n",
       "    </tr>\n",
       "    <tr>\n",
       "      <th>25%</th>\n",
       "      <td>7.100000</td>\n",
       "      <td>0.390000</td>\n",
       "      <td>0.090000</td>\n",
       "      <td>1.900000</td>\n",
       "      <td>0.070000</td>\n",
       "      <td>7.000000</td>\n",
       "      <td>22.000000</td>\n",
       "      <td>0.995600</td>\n",
       "      <td>3.210000</td>\n",
       "      <td>0.550000</td>\n",
       "      <td>9.500000</td>\n",
       "      <td>5.000000</td>\n",
       "    </tr>\n",
       "    <tr>\n",
       "      <th>50%</th>\n",
       "      <td>7.900000</td>\n",
       "      <td>0.520000</td>\n",
       "      <td>0.260000</td>\n",
       "      <td>2.200000</td>\n",
       "      <td>0.079000</td>\n",
       "      <td>14.000000</td>\n",
       "      <td>38.000000</td>\n",
       "      <td>0.996750</td>\n",
       "      <td>3.310000</td>\n",
       "      <td>0.620000</td>\n",
       "      <td>10.200000</td>\n",
       "      <td>6.000000</td>\n",
       "    </tr>\n",
       "    <tr>\n",
       "      <th>75%</th>\n",
       "      <td>9.200000</td>\n",
       "      <td>0.640000</td>\n",
       "      <td>0.420000</td>\n",
       "      <td>2.600000</td>\n",
       "      <td>0.090000</td>\n",
       "      <td>21.000000</td>\n",
       "      <td>62.000000</td>\n",
       "      <td>0.997835</td>\n",
       "      <td>3.400000</td>\n",
       "      <td>0.730000</td>\n",
       "      <td>11.100000</td>\n",
       "      <td>6.000000</td>\n",
       "    </tr>\n",
       "    <tr>\n",
       "      <th>max</th>\n",
       "      <td>15.900000</td>\n",
       "      <td>1.580000</td>\n",
       "      <td>1.000000</td>\n",
       "      <td>15.500000</td>\n",
       "      <td>0.611000</td>\n",
       "      <td>72.000000</td>\n",
       "      <td>289.000000</td>\n",
       "      <td>1.003690</td>\n",
       "      <td>4.010000</td>\n",
       "      <td>2.000000</td>\n",
       "      <td>14.900000</td>\n",
       "      <td>8.000000</td>\n",
       "    </tr>\n",
       "  </tbody>\n",
       "</table>\n",
       "</div>"
      ],
      "text/plain": [
       "       fixed acidity  volatile acidity  citric acid  residual sugar  \\\n",
       "count    1599.000000       1599.000000  1599.000000     1599.000000   \n",
       "mean        8.319637          0.527821     0.270976        2.538806   \n",
       "std         1.741096          0.179060     0.194801        1.409928   \n",
       "min         4.600000          0.120000     0.000000        0.900000   \n",
       "25%         7.100000          0.390000     0.090000        1.900000   \n",
       "50%         7.900000          0.520000     0.260000        2.200000   \n",
       "75%         9.200000          0.640000     0.420000        2.600000   \n",
       "max        15.900000          1.580000     1.000000       15.500000   \n",
       "\n",
       "         chlorides  free sulfur dioxide  total sulfur dioxide      density  \\\n",
       "count  1599.000000          1599.000000           1599.000000  1599.000000   \n",
       "mean      0.087467            15.874922             46.467792     0.996747   \n",
       "std       0.047065            10.460157             32.895324     0.001887   \n",
       "min       0.012000             1.000000              6.000000     0.990070   \n",
       "25%       0.070000             7.000000             22.000000     0.995600   \n",
       "50%       0.079000            14.000000             38.000000     0.996750   \n",
       "75%       0.090000            21.000000             62.000000     0.997835   \n",
       "max       0.611000            72.000000            289.000000     1.003690   \n",
       "\n",
       "                pH    sulphates      alcohol      quality  \n",
       "count  1599.000000  1599.000000  1599.000000  1599.000000  \n",
       "mean      3.311113     0.658149    10.422983     5.636023  \n",
       "std       0.154386     0.169507     1.065668     0.807569  \n",
       "min       2.740000     0.330000     8.400000     3.000000  \n",
       "25%       3.210000     0.550000     9.500000     5.000000  \n",
       "50%       3.310000     0.620000    10.200000     6.000000  \n",
       "75%       3.400000     0.730000    11.100000     6.000000  \n",
       "max       4.010000     2.000000    14.900000     8.000000  "
      ]
     },
     "execution_count": 68,
     "metadata": {},
     "output_type": "execute_result"
    }
   ],
   "source": [
    "#Input variables (based on physicochemical tests):\n",
    "#    1 - fixed acidity        - фиксированная кислотность\n",
    "#    2 - volatile acidity     - летучая кислотность\n",
    "#    3 - citric acid          - лимонная кислота\n",
    "#    4 - residual sugar       - остаточный сахар\n",
    "#    5 - chlorides            - хлориды\n",
    "#    6 - free sulfur dioxide  - свободный диоксид серы\n",
    "#    7 - total sulfur dioxide - общий диоксид серы\n",
    "#    8 - density              - плотность\n",
    "#    9 - pH                   - водородный показатель(кислотность среды pH)\n",
    "#    10 - sulphates           - сульфаты\n",
    "#    11 - alcohol             - алкоголь\n",
    "#Output variable:\n",
    "#    12 - quality (score between 0 and 10) - качество (0 - 10)\n",
    "\n",
    "ds2.describe()\n"
   ]
  },
  {
   "cell_type": "markdown",
   "metadata": {},
   "source": [
    "Создадим бинарную классификацию качества вина. Плохое вино, если качество < 6.5 и хорошее соответственно > 6.5.\n",
    "\n",
    "bad: quality < 6.5\n",
    "good: quality > 6.5"
   ]
  },
  {
   "cell_type": "code",
   "execution_count": 69,
   "metadata": {},
   "outputs": [],
   "source": [
    "ds2['bin_quality'] = pd.cut(ds2['quality'], bins = [0, 6.5, 10], labels = ['bad', 'good'])"
   ]
  },
  {
   "cell_type": "markdown",
   "metadata": {},
   "source": [
    "Удалим колонки, которые не влияют на качество вина."
   ]
  },
  {
   "cell_type": "code",
   "execution_count": 70,
   "metadata": {},
   "outputs": [],
   "source": [
    "ds2.drop(['fixed acidity', 'residual sugar', 'chlorides', 'free sulfur dioxide', 'total sulfur dioxide', 'quality'], axis = 1, inplace = True)"
   ]
  },
  {
   "cell_type": "markdown",
   "metadata": {},
   "source": [
    "Нормализуем данные."
   ]
  },
  {
   "cell_type": "code",
   "execution_count": 71,
   "metadata": {},
   "outputs": [
    {
     "name": "stdout",
     "output_type": "stream",
     "text": [
      "0       bad\n",
      "1       bad\n",
      "2       bad\n",
      "3       bad\n",
      "4       bad\n",
      "       ... \n",
      "1594    bad\n",
      "1595    bad\n",
      "1596    bad\n",
      "1597    bad\n",
      "1598    bad\n",
      "Name: bin_quality, Length: 1599, dtype: category\n",
      "Categories (2, object): [bad < good]\n",
      "0       0\n",
      "1       0\n",
      "2       0\n",
      "3       0\n",
      "4       0\n",
      "       ..\n",
      "1594    0\n",
      "1595    0\n",
      "1596    0\n",
      "1597    0\n",
      "1598    0\n",
      "Name: bin_quality, Length: 1599, dtype: int64\n"
     ]
    }
   ],
   "source": [
    "from sklearn.preprocessing import LabelEncoder\n",
    "\n",
    "le = LabelEncoder()\n",
    "print(ds2['bin_quality'])\n",
    "ds2['bin_quality'] = le.fit_transform(ds2['bin_quality'])\n",
    "print(ds2['bin_quality'])"
   ]
  },
  {
   "cell_type": "code",
   "execution_count": 72,
   "metadata": {},
   "outputs": [],
   "source": [
    "y2 = ds2['bin_quality']\n",
    "\n",
    "ds2.drop(['bin_quality'], axis = 1, inplace = True)\n",
    "\n",
    "x2 = ds2"
   ]
  },
  {
   "cell_type": "markdown",
   "metadata": {},
   "source": [
    "Разделим данные на тренировочные и тестировочные."
   ]
  },
  {
   "cell_type": "code",
   "execution_count": 73,
   "metadata": {},
   "outputs": [
    {
     "name": "stdout",
     "output_type": "stream",
     "text": [
      "Train set:   (1279, 6) (1279,)\n",
      "Test set:    (320, 6) (320,)\n"
     ]
    }
   ],
   "source": [
    "from sklearn.model_selection import train_test_split, cross_val_score\n",
    "from sklearn.metrics import accuracy_score, confusion_matrix, precision_score, recall_score, f1_score\n",
    "import math\n",
    "from sklearn.svm import LinearSVC\n",
    "from sklearn.preprocessing import StandardScaler\n",
    "from sklearn.linear_model import LogisticRegression\n",
    "from sklearn.neighbors import KNeighborsClassifier\n",
    "from sklearn.tree import DecisionTreeClassifier\n",
    "from sklearn.ensemble import RandomForestClassifier\n",
    "from sklearn.model_selection import RandomizedSearchCV\n",
    "\n",
    "\n",
    "x2_train, x2_test, y2_train, y2_test = train_test_split(x2, y2, test_size = 0.2)\n",
    "print('Train set:  ', x2_train.shape,  y2_train.shape)\n",
    "print('Test set:   ', x2_test.shape,  y2_test.shape)"
   ]
  },
  {
   "cell_type": "markdown",
   "metadata": {},
   "source": [
    "Нормализуем данные."
   ]
  },
  {
   "cell_type": "code",
   "execution_count": 74,
   "metadata": {},
   "outputs": [],
   "source": [
    "sc = StandardScaler()\n",
    "x2_train = sc.fit_transform(x2_train)\n",
    "x2_test = sc.transform(x2_test)"
   ]
  },
  {
   "cell_type": "markdown",
   "metadata": {},
   "source": [
    "Определим функцию печати, где вычисляется точность и матрица ошибок как для тренировочных данных, так и для тестовых."
   ]
  },
  {
   "cell_type": "code",
   "execution_count": 75,
   "metadata": {},
   "outputs": [],
   "source": [
    "def print_score(clf, x_train, y_train, x_test, y_test, train = True):\n",
    "    if train:\n",
    "        pred = clf.predict(x_train)\n",
    "        print(\"Train Result:\\n================================================\")\n",
    "        print(f\"Accuracy Score: {accuracy_score(y_train, pred) * 100:.2f}%\")\n",
    "        print(\"_______________________________________________\")\n",
    "        print(\"Classification Report:\", end='')\n",
    "        print(f\"\\tPrecision Score: {precision_score(y_train, pred, pos_label=0) * 100:.2f}%\")\n",
    "        print(f\"\\t\\t\\tRecall Score: {recall_score(y_train, pred, pos_label=0) * 100:.2f}%\")\n",
    "        print(f\"\\t\\t\\tF1 score: {f1_score(y_train, pred, pos_label=0) * 100:.2f}%\")\n",
    "        print(\"_______________________________________________\")\n",
    "        print(f\"Confusion Matrix: \\n {confusion_matrix(y_train, pred)}\\n\")\n",
    "        \n",
    "    elif train == False:\n",
    "        pred = clf.predict(x_test)\n",
    "        print(\"Test Result:\\n================================================\")        \n",
    "        print(f\"Accuracy Score: {accuracy_score(y_test, pred) * 100:.2f}%\")\n",
    "        print(\"_______________________________________________\")\n",
    "        print(\"Classification Report:\", end='')\n",
    "        print(f\"\\tPrecision Score: {precision_score(y_test, pred, pos_label=0) * 100:.2f}%\")\n",
    "        print(f\"\\t\\t\\tRecall Score: {recall_score(y_test, pred, pos_label=0) * 100:.2f}%\")\n",
    "        print(f\"\\t\\t\\tF1 score: {f1_score(y_test, pred, pos_label=0) * 100:.2f}%\")\n",
    "        print(\"_______________________________________________\")\n",
    "        print(f\"Confusion Matrix: \\n {confusion_matrix(y_test, pred)}\\n\")"
   ]
  },
  {
   "cell_type": "markdown",
   "metadata": {},
   "source": [
    "### 1. Logistic Regression"
   ]
  },
  {
   "cell_type": "markdown",
   "metadata": {},
   "source": [
    "Построим классификационную модель, используя логистическую регрессию."
   ]
  },
  {
   "cell_type": "code",
   "execution_count": 76,
   "metadata": {},
   "outputs": [
    {
     "name": "stdout",
     "output_type": "stream",
     "text": [
      "Train Result:\n",
      "================================================\n",
      "Accuracy Score: 78.58%\n",
      "_______________________________________________\n",
      "Classification Report:\tPrecision Score: 97.04%\n",
      "\t\t\tRecall Score: 77.43%\n",
      "\t\t\tF1 score: 86.13%\n",
      "_______________________________________________\n",
      "Confusion Matrix: \n",
      " [[851 248]\n",
      " [ 26 154]]\n",
      "\n",
      "Test Result:\n",
      "================================================\n",
      "Accuracy Score: 76.88%\n",
      "_______________________________________________\n",
      "Classification Report:\tPrecision Score: 97.29%\n",
      "\t\t\tRecall Score: 75.97%\n",
      "\t\t\tF1 score: 85.32%\n",
      "_______________________________________________\n",
      "Confusion Matrix: \n",
      " [[215  68]\n",
      " [  6  31]]\n",
      "\n"
     ]
    }
   ],
   "source": [
    "accuracies = {}\n",
    "\n",
    "lr2 = LogisticRegression(class_weight = 'balanced', tol = 1e-10)\n",
    "\n",
    "lr2.fit(x2_train, y2_train)\n",
    "print_score(lr2, x2_train, y2_train, x2_test, y2_test, train = True)\n",
    "print_score(lr2, x2_train, y2_train, x2_test, y2_test, train = False)"
   ]
  },
  {
   "cell_type": "markdown",
   "metadata": {},
   "source": [
    "Добавляем в табличку значения тренировочной точности и тестовой для модели обученной по алгоритму логистической регрессии."
   ]
  },
  {
   "cell_type": "code",
   "execution_count": 77,
   "metadata": {
    "scrolled": true
   },
   "outputs": [
    {
     "data": {
      "text/html": [
       "<div>\n",
       "<style scoped>\n",
       "    .dataframe tbody tr th:only-of-type {\n",
       "        vertical-align: middle;\n",
       "    }\n",
       "\n",
       "    .dataframe tbody tr th {\n",
       "        vertical-align: top;\n",
       "    }\n",
       "\n",
       "    .dataframe thead th {\n",
       "        text-align: right;\n",
       "    }\n",
       "</style>\n",
       "<table border=\"1\" class=\"dataframe\">\n",
       "  <thead>\n",
       "    <tr style=\"text-align: right;\">\n",
       "      <th></th>\n",
       "      <th>Model</th>\n",
       "      <th>Training Accuracy %</th>\n",
       "      <th>Testing Accuracy %</th>\n",
       "    </tr>\n",
       "  </thead>\n",
       "  <tbody>\n",
       "    <tr>\n",
       "      <th>0</th>\n",
       "      <td>Logistic Regression</td>\n",
       "      <td>78.577013</td>\n",
       "      <td>76.875</td>\n",
       "    </tr>\n",
       "  </tbody>\n",
       "</table>\n",
       "</div>"
      ],
      "text/plain": [
       "                 Model  Training Accuracy %  Testing Accuracy %\n",
       "0  Logistic Regression            78.577013              76.875"
      ]
     },
     "execution_count": 77,
     "metadata": {},
     "output_type": "execute_result"
    }
   ],
   "source": [
    "train_score = accuracy_score(y2_train, lr2.predict(x2_train)) * 100\n",
    "test_score = accuracy_score(y2_test, lr2.predict(x2_test)) * 100\n",
    "\n",
    "accuracies['Logistic Regression'] = test_score\n",
    "\n",
    "results_df = pd.DataFrame(data=[[\"Logistic Regression\", train_score, test_score]], \n",
    "                          columns=['Model', 'Training Accuracy %', 'Testing Accuracy %'])\n",
    "results_df"
   ]
  },
  {
   "cell_type": "markdown",
   "metadata": {},
   "source": [
    "### 2. kNN"
   ]
  },
  {
   "cell_type": "markdown",
   "metadata": {},
   "source": [
    "Построим классификационную модель, используя kNN алгоритм."
   ]
  },
  {
   "cell_type": "code",
   "execution_count": 78,
   "metadata": {},
   "outputs": [
    {
     "name": "stdout",
     "output_type": "stream",
     "text": [
      "Train Result:\n",
      "================================================\n",
      "Accuracy Score: 90.93%\n",
      "_______________________________________________\n",
      "Classification Report:\tPrecision Score: 93.15%\n",
      "\t\t\tRecall Score: 96.54%\n",
      "\t\t\tF1 score: 94.82%\n",
      "_______________________________________________\n",
      "Confusion Matrix: \n",
      " [[1061   38]\n",
      " [  78  102]]\n",
      "\n",
      "Test Result:\n",
      "================================================\n",
      "Accuracy Score: 90.00%\n",
      "_______________________________________________\n",
      "Classification Report:\tPrecision Score: 94.04%\n",
      "\t\t\tRecall Score: 94.70%\n",
      "\t\t\tF1 score: 94.37%\n",
      "_______________________________________________\n",
      "Confusion Matrix: \n",
      " [[268  15]\n",
      " [ 17  20]]\n",
      "\n"
     ]
    }
   ],
   "source": [
    "knn2 = KNeighborsClassifier() \n",
    "knn2.fit(x2_train, y2_train)\n",
    "\n",
    "print_score(knn2, x2_train, y2_train, x2_test, y2_test, train=True)\n",
    "print_score(knn2, x2_train, y2_train, x2_test, y2_test, train=False)"
   ]
  },
  {
   "cell_type": "code",
   "execution_count": 79,
   "metadata": {},
   "outputs": [
    {
     "data": {
      "text/html": [
       "<div>\n",
       "<style scoped>\n",
       "    .dataframe tbody tr th:only-of-type {\n",
       "        vertical-align: middle;\n",
       "    }\n",
       "\n",
       "    .dataframe tbody tr th {\n",
       "        vertical-align: top;\n",
       "    }\n",
       "\n",
       "    .dataframe thead th {\n",
       "        text-align: right;\n",
       "    }\n",
       "</style>\n",
       "<table border=\"1\" class=\"dataframe\">\n",
       "  <thead>\n",
       "    <tr style=\"text-align: right;\">\n",
       "      <th></th>\n",
       "      <th>Model</th>\n",
       "      <th>Training Accuracy %</th>\n",
       "      <th>Testing Accuracy %</th>\n",
       "    </tr>\n",
       "  </thead>\n",
       "  <tbody>\n",
       "    <tr>\n",
       "      <th>0</th>\n",
       "      <td>Logistic Regression</td>\n",
       "      <td>78.577013</td>\n",
       "      <td>76.875</td>\n",
       "    </tr>\n",
       "    <tr>\n",
       "      <th>1</th>\n",
       "      <td>KNN</td>\n",
       "      <td>90.930414</td>\n",
       "      <td>90.000</td>\n",
       "    </tr>\n",
       "  </tbody>\n",
       "</table>\n",
       "</div>"
      ],
      "text/plain": [
       "                 Model  Training Accuracy %  Testing Accuracy %\n",
       "0  Logistic Regression            78.577013              76.875\n",
       "1                  KNN            90.930414              90.000"
      ]
     },
     "execution_count": 79,
     "metadata": {},
     "output_type": "execute_result"
    }
   ],
   "source": [
    "test_score = accuracy_score(y2_test, knn2.predict(x2_test)) * 100\n",
    "train_score = accuracy_score(y2_train, knn2.predict(x2_train)) * 100\n",
    "\n",
    "accuracies['KNN'] = test_score\n",
    "\n",
    "\n",
    "tmp = pd.DataFrame(data=[[\"KNN\", train_score, test_score]], \n",
    "                          columns=['Model', 'Training Accuracy %', 'Testing Accuracy %'])\n",
    "results_df = results_df.append(tmp, ignore_index=True)\n",
    "results_df"
   ]
  },
  {
   "cell_type": "markdown",
   "metadata": {},
   "source": [
    "### 3. Decision Tree"
   ]
  },
  {
   "cell_type": "markdown",
   "metadata": {},
   "source": [
    "Построим классификационную модель, используя Decision Tree алгоритм."
   ]
  },
  {
   "cell_type": "code",
   "execution_count": 80,
   "metadata": {},
   "outputs": [
    {
     "name": "stdout",
     "output_type": "stream",
     "text": [
      "Train Result:\n",
      "================================================\n",
      "Accuracy Score: 100.00%\n",
      "_______________________________________________\n",
      "Classification Report:\tPrecision Score: 100.00%\n",
      "\t\t\tRecall Score: 100.00%\n",
      "\t\t\tF1 score: 100.00%\n",
      "_______________________________________________\n",
      "Confusion Matrix: \n",
      " [[1099    0]\n",
      " [   0  180]]\n",
      "\n",
      "Test Result:\n",
      "================================================\n",
      "Accuracy Score: 88.75%\n",
      "_______________________________________________\n",
      "Classification Report:\tPrecision Score: 96.60%\n",
      "\t\t\tRecall Score: 90.46%\n",
      "\t\t\tF1 score: 93.43%\n",
      "_______________________________________________\n",
      "Confusion Matrix: \n",
      " [[256  27]\n",
      " [  9  28]]\n",
      "\n"
     ]
    }
   ],
   "source": [
    "dt2 = DecisionTreeClassifier(random_state = 42)\n",
    "\n",
    "dt2.fit(x2_train, y2_train)\n",
    "\n",
    "print_score(dt2, x2_train, y2_train, x2_test, y2_test, train = True)\n",
    "print_score(dt2, x2_train, y2_train, x2_test, y2_test, train = False)"
   ]
  },
  {
   "cell_type": "markdown",
   "metadata": {},
   "source": [
    "Добавляем в табличку значения тестовой и тренировочной точности предсказания для модели, обученной с помощью алгоритма дерева решений."
   ]
  },
  {
   "cell_type": "code",
   "execution_count": 81,
   "metadata": {},
   "outputs": [
    {
     "data": {
      "text/html": [
       "<div>\n",
       "<style scoped>\n",
       "    .dataframe tbody tr th:only-of-type {\n",
       "        vertical-align: middle;\n",
       "    }\n",
       "\n",
       "    .dataframe tbody tr th {\n",
       "        vertical-align: top;\n",
       "    }\n",
       "\n",
       "    .dataframe thead th {\n",
       "        text-align: right;\n",
       "    }\n",
       "</style>\n",
       "<table border=\"1\" class=\"dataframe\">\n",
       "  <thead>\n",
       "    <tr style=\"text-align: right;\">\n",
       "      <th></th>\n",
       "      <th>Model</th>\n",
       "      <th>Training Accuracy %</th>\n",
       "      <th>Testing Accuracy %</th>\n",
       "    </tr>\n",
       "  </thead>\n",
       "  <tbody>\n",
       "    <tr>\n",
       "      <th>0</th>\n",
       "      <td>Logistic Regression</td>\n",
       "      <td>78.577013</td>\n",
       "      <td>76.875</td>\n",
       "    </tr>\n",
       "    <tr>\n",
       "      <th>1</th>\n",
       "      <td>KNN</td>\n",
       "      <td>90.930414</td>\n",
       "      <td>90.000</td>\n",
       "    </tr>\n",
       "    <tr>\n",
       "      <th>2</th>\n",
       "      <td>Decision Tree Classifier</td>\n",
       "      <td>100.000000</td>\n",
       "      <td>88.750</td>\n",
       "    </tr>\n",
       "  </tbody>\n",
       "</table>\n",
       "</div>"
      ],
      "text/plain": [
       "                      Model  Training Accuracy %  Testing Accuracy %\n",
       "0       Logistic Regression            78.577013              76.875\n",
       "1                       KNN            90.930414              90.000\n",
       "2  Decision Tree Classifier           100.000000              88.750"
      ]
     },
     "execution_count": 81,
     "metadata": {},
     "output_type": "execute_result"
    }
   ],
   "source": [
    "test_score = accuracy_score(y2_test, dt2.predict(x2_test)) * 100\n",
    "train_score = accuracy_score(y2_train, dt2.predict(x2_train)) * 100\n",
    "\n",
    "accuracies['Decision Tree Classifier'] = test_score\n",
    "\n",
    "tmp = pd.DataFrame(data=[[\"Decision Tree Classifier\", train_score, test_score]], \n",
    "                          columns=['Model', 'Training Accuracy %', 'Testing Accuracy %'])\n",
    "results_df = results_df.append(tmp, ignore_index=True)\n",
    "results_df"
   ]
  },
  {
   "cell_type": "markdown",
   "metadata": {},
   "source": [
    "### 4. Random Forest"
   ]
  },
  {
   "cell_type": "markdown",
   "metadata": {},
   "source": [
    "Построим классификационную модель, используя Random Forest алгоритм."
   ]
  },
  {
   "cell_type": "code",
   "execution_count": 82,
   "metadata": {},
   "outputs": [
    {
     "name": "stdout",
     "output_type": "stream",
     "text": [
      "Train Result:\n",
      "================================================\n",
      "Accuracy Score: 100.00%\n",
      "_______________________________________________\n",
      "Classification Report:\tPrecision Score: 100.00%\n",
      "\t\t\tRecall Score: 100.00%\n",
      "\t\t\tF1 score: 100.00%\n",
      "_______________________________________________\n",
      "Confusion Matrix: \n",
      " [[1099    0]\n",
      " [   0  180]]\n",
      "\n",
      "Test Result:\n",
      "================================================\n",
      "Accuracy Score: 91.25%\n",
      "_______________________________________________\n",
      "Classification Report:\tPrecision Score: 95.37%\n",
      "\t\t\tRecall Score: 94.70%\n",
      "\t\t\tF1 score: 95.04%\n",
      "_______________________________________________\n",
      "Confusion Matrix: \n",
      " [[268  15]\n",
      " [ 13  24]]\n",
      "\n"
     ]
    }
   ],
   "source": [
    "rf2 = RandomForestClassifier(n_estimators = 1000, random_state = 42)\n",
    "\n",
    "rf2.fit(x2_train, y2_train)\n",
    "\n",
    "print_score(rf2, x2_train, y2_train, x2_test, y2_test, train = True)\n",
    "print_score(rf2, x2_train, y2_train, x2_test, y2_test, train = False)"
   ]
  },
  {
   "cell_type": "markdown",
   "metadata": {},
   "source": [
    "Добавляем в табличку значения тестовой и тренировочной точности предсказания для модели, обученной с помощью алгоритма случайного леса."
   ]
  },
  {
   "cell_type": "code",
   "execution_count": 83,
   "metadata": {},
   "outputs": [],
   "source": [
    "test_score = accuracy_score(y2_test, rf2.predict(x2_test)) * 100\n",
    "train_score = accuracy_score(y2_train, rf2.predict(x2_train)) * 100\n",
    "\n",
    "accuracies['Random Forest'] = test_score\n",
    "\n",
    "tmp = pd.DataFrame(data=[[\"Random Forest Classifier\", train_score, test_score]], \n",
    "                          columns=['Model', 'Training Accuracy %', 'Testing Accuracy %'])\n",
    "results_df = results_df.append(tmp, ignore_index=True)"
   ]
  },
  {
   "cell_type": "markdown",
   "metadata": {},
   "source": [
    "Построим график, показывающий тестовые точности всех моделей."
   ]
  },
  {
   "cell_type": "code",
   "execution_count": 84,
   "metadata": {},
   "outputs": [
    {
     "data": {
      "image/png": "[encoded data removed]",
      "text/plain": [
       "<Figure size 1152x360 with 1 Axes>"
      ]
     },
     "metadata": {},
     "output_type": "display_data"
    }
   ],
   "source": [
    "colors = [\"purple\", \"green\", \"orange\", \"magenta\", \"#CFC60E\", \"#0FBBAE\"]\n",
    "\n",
    "sns.set_style(\"whitegrid\")\n",
    "plt.figure(figsize = (16, 5))\n",
    "plt.yticks(np.arange(0, 100, 10))\n",
    "plt.ylabel(\"Accuracy %\")\n",
    "plt.xlabel(\"Algorithms\")\n",
    "sns.barplot(x = list(accuracies.keys()), y = list(accuracies.values()), palette = colors)\n",
    "plt.show()"
   ]
  },
  {
   "cell_type": "code",
   "execution_count": 85,
   "metadata": {},
   "outputs": [
    {
     "data": {
      "text/html": [
       "<div>\n",
       "<style scoped>\n",
       "    .dataframe tbody tr th:only-of-type {\n",
       "        vertical-align: middle;\n",
       "    }\n",
       "\n",
       "    .dataframe tbody tr th {\n",
       "        vertical-align: top;\n",
       "    }\n",
       "\n",
       "    .dataframe thead th {\n",
       "        text-align: right;\n",
       "    }\n",
       "</style>\n",
       "<table border=\"1\" class=\"dataframe\">\n",
       "  <thead>\n",
       "    <tr style=\"text-align: right;\">\n",
       "      <th></th>\n",
       "      <th>Model</th>\n",
       "      <th>Training Accuracy %</th>\n",
       "      <th>Testing Accuracy %</th>\n",
       "    </tr>\n",
       "  </thead>\n",
       "  <tbody>\n",
       "    <tr>\n",
       "      <th>0</th>\n",
       "      <td>Logistic Regression</td>\n",
       "      <td>78.577013</td>\n",
       "      <td>76.875</td>\n",
       "    </tr>\n",
       "    <tr>\n",
       "      <th>1</th>\n",
       "      <td>KNN</td>\n",
       "      <td>90.930414</td>\n",
       "      <td>90.000</td>\n",
       "    </tr>\n",
       "    <tr>\n",
       "      <th>2</th>\n",
       "      <td>Decision Tree Classifier</td>\n",
       "      <td>100.000000</td>\n",
       "      <td>88.750</td>\n",
       "    </tr>\n",
       "    <tr>\n",
       "      <th>3</th>\n",
       "      <td>Random Forest Classifier</td>\n",
       "      <td>100.000000</td>\n",
       "      <td>91.250</td>\n",
       "    </tr>\n",
       "  </tbody>\n",
       "</table>\n",
       "</div>"
      ],
      "text/plain": [
       "                      Model  Training Accuracy %  Testing Accuracy %\n",
       "0       Logistic Regression            78.577013              76.875\n",
       "1                       KNN            90.930414              90.000\n",
       "2  Decision Tree Classifier           100.000000              88.750\n",
       "3  Random Forest Classifier           100.000000              91.250"
      ]
     },
     "execution_count": 85,
     "metadata": {},
     "output_type": "execute_result"
    }
   ],
   "source": [
    "results_df"
   ]
  },
  {
   "cell_type": "markdown",
   "metadata": {},
   "source": [
    "###### Вывод:\n",
    "Анализируя график и полученную табличку, видно, что наилучший результат показывает модель, обученная на алгоритме Random Forest. На втором месте идет kNN модель, затем Decision Tree. Ну и самые худшие показатели у логистической регрессии в 77% на тестовых данных."
   ]
  },
  {
   "cell_type": "markdown",
   "metadata": {},
   "source": [
    "## Применение алгоритмов машинного обучения с использованием тюнинга гиперпараметров"
   ]
  },
  {
   "cell_type": "markdown",
   "metadata": {},
   "source": [
    "### 1. Logistic Regression Hyperparameter Tuning"
   ]
  },
  {
   "cell_type": "code",
   "execution_count": 86,
   "metadata": {},
   "outputs": [
    {
     "name": "stdout",
     "output_type": "stream",
     "text": [
      "Fitting 5 folds for each of 20 candidates, totalling 100 fits\n"
     ]
    },
    {
     "name": "stderr",
     "output_type": "stream",
     "text": [
      "[Parallel(n_jobs=-1)]: Using backend LokyBackend with 4 concurrent workers.\n",
      "[Parallel(n_jobs=-1)]: Done  74 tasks      | elapsed:    1.3s\n",
      "[Parallel(n_jobs=-1)]: Done 100 out of 100 | elapsed:    1.3s finished\n"
     ]
    },
    {
     "data": {
      "text/plain": [
       "GridSearchCV(cv=5, error_score=nan,\n",
       "             estimator=LogisticRegression(C=1.0, class_weight=None, dual=False,\n",
       "                                          fit_intercept=True,\n",
       "                                          intercept_scaling=1, l1_ratio=None,\n",
       "                                          max_iter=100, multi_class='auto',\n",
       "                                          n_jobs=None, penalty='l2',\n",
       "                                          random_state=None, solver='lbfgs',\n",
       "                                          tol=0.0001, verbose=0,\n",
       "                                          warm_start=False),\n",
       "             iid=True, n_jobs=-1,\n",
       "             param_grid={'C': array([1.00000000e-04, 2.63665090e-0...\n",
       "       4.83293024e-03, 1.27427499e-02, 3.35981829e-02, 8.85866790e-02,\n",
       "       2.33572147e-01, 6.15848211e-01, 1.62377674e+00, 4.28133240e+00,\n",
       "       1.12883789e+01, 2.97635144e+01, 7.84759970e+01, 2.06913808e+02,\n",
       "       5.45559478e+02, 1.43844989e+03, 3.79269019e+03, 1.00000000e+04]),\n",
       "                         'solver': ['liblinear']},\n",
       "             pre_dispatch='2*n_jobs', refit=True, return_train_score=False,\n",
       "             scoring='accuracy', verbose=1)"
      ]
     },
     "execution_count": 86,
     "metadata": {},
     "output_type": "execute_result"
    }
   ],
   "source": [
    "from sklearn.model_selection import GridSearchCV\n",
    "\n",
    "params = {\"C\": np.logspace(-4, 4, 20),\n",
    "          \"solver\": [\"liblinear\"]}\n",
    "\n",
    "log_reg2 = LogisticRegression()\n",
    "\n",
    "grid_search_cv2 = GridSearchCV(log_reg2, params, scoring = \"accuracy\",\n",
    "                              n_jobs=-1, verbose=1, cv=5, iid = True)\n",
    "grid_search_cv2.fit(x2_train, y2_train)"
   ]
  },
  {
   "cell_type": "markdown",
   "metadata": {},
   "source": [
    "Получаем набор гиперпараметров, которые лучше всего работали во время обучения, чтобы проверить нашу модель."
   ]
  },
  {
   "cell_type": "code",
   "execution_count": 87,
   "metadata": {},
   "outputs": [
    {
     "data": {
      "text/plain": [
       "LogisticRegression(C=0.23357214690901212, class_weight=None, dual=False,\n",
       "                   fit_intercept=True, intercept_scaling=1, l1_ratio=None,\n",
       "                   max_iter=100, multi_class='auto', n_jobs=None, penalty='l2',\n",
       "                   random_state=None, solver='liblinear', tol=0.0001, verbose=0,\n",
       "                   warm_start=False)"
      ]
     },
     "execution_count": 87,
     "metadata": {},
     "output_type": "execute_result"
    }
   ],
   "source": [
    "grid_search_cv2.best_estimator_"
   ]
  },
  {
   "cell_type": "code",
   "execution_count": 88,
   "metadata": {},
   "outputs": [
    {
     "name": "stdout",
     "output_type": "stream",
     "text": [
      "Train Result:\n",
      "================================================\n",
      "Accuracy Score: 86.63%\n",
      "_______________________________________________\n",
      "Classification Report:\tPrecision Score: 88.93%\n",
      "\t\t\tRecall Score: 96.45%\n",
      "\t\t\tF1 score: 92.54%\n",
      "_______________________________________________\n",
      "Confusion Matrix: \n",
      " [[1060   39]\n",
      " [ 132   48]]\n",
      "\n",
      "Test Result:\n",
      "================================================\n",
      "Accuracy Score: 90.94%\n",
      "_______________________________________________\n",
      "Classification Report:\tPrecision Score: 92.62%\n",
      "\t\t\tRecall Score: 97.53%\n",
      "\t\t\tF1 score: 95.01%\n",
      "_______________________________________________\n",
      "Confusion Matrix: \n",
      " [[276   7]\n",
      " [ 22  15]]\n",
      "\n"
     ]
    }
   ],
   "source": [
    "log_reg2 = LogisticRegression(C=0.23357214690901212, class_weight=None, dual=False,\n",
    "                   fit_intercept=True, intercept_scaling=1, l1_ratio=None,\n",
    "                   max_iter=100, multi_class='auto', n_jobs=None, penalty='l2',\n",
    "                   random_state=None, solver='liblinear', tol=0.0001, verbose=0,\n",
    "                   warm_start=False)\n",
    "\n",
    "log_reg2.fit(x2_train, y2_train)\n",
    "\n",
    "print_score(log_reg2, x2_train, y2_train, x2_test, y2_test, train = True)\n",
    "print_score(log_reg2, x2_train, y2_train, x2_test, y2_test, train = False)"
   ]
  },
  {
   "cell_type": "markdown",
   "metadata": {},
   "source": [
    "Получаем приемлемую точность в 86.63% на тренировочных и 90.94% на тестовых."
   ]
  },
  {
   "cell_type": "markdown",
   "metadata": {},
   "source": [
    "Добавляем в табличку значения тестовой и тренировочной точности предсказания для модели, обученной с помощью логистической регрессии."
   ]
  },
  {
   "cell_type": "code",
   "execution_count": 89,
   "metadata": {},
   "outputs": [
    {
     "data": {
      "text/html": [
       "<div>\n",
       "<style scoped>\n",
       "    .dataframe tbody tr th:only-of-type {\n",
       "        vertical-align: middle;\n",
       "    }\n",
       "\n",
       "    .dataframe tbody tr th {\n",
       "        vertical-align: top;\n",
       "    }\n",
       "\n",
       "    .dataframe thead th {\n",
       "        text-align: right;\n",
       "    }\n",
       "</style>\n",
       "<table border=\"1\" class=\"dataframe\">\n",
       "  <thead>\n",
       "    <tr style=\"text-align: right;\">\n",
       "      <th></th>\n",
       "      <th>Model</th>\n",
       "      <th>Training Accuracy %</th>\n",
       "      <th>Testing Accuracy %</th>\n",
       "    </tr>\n",
       "  </thead>\n",
       "  <tbody>\n",
       "    <tr>\n",
       "      <th>0</th>\n",
       "      <td>Tuned Logistic Regression</td>\n",
       "      <td>86.63018</td>\n",
       "      <td>90.9375</td>\n",
       "    </tr>\n",
       "  </tbody>\n",
       "</table>\n",
       "</div>"
      ],
      "text/plain": [
       "                       Model  Training Accuracy %  Testing Accuracy %\n",
       "0  Tuned Logistic Regression             86.63018             90.9375"
      ]
     },
     "execution_count": 89,
     "metadata": {},
     "output_type": "execute_result"
    }
   ],
   "source": [
    "test_score = accuracy_score(y2_test, log_reg2.predict(x2_test)) * 100\n",
    "train_score = accuracy_score(y2_train, log_reg2.predict(x2_train)) * 100\n",
    "\n",
    "tuning_results_df = pd.DataFrame(data=[[\"Tuned Logistic Regression\", train_score, test_score]], \n",
    "                          columns=['Model', 'Training Accuracy %', 'Testing Accuracy %'])\n",
    "tuning_results_df"
   ]
  },
  {
   "cell_type": "markdown",
   "metadata": {},
   "source": [
    "### 2. kNN Hyperparameter Tuning"
   ]
  },
  {
   "cell_type": "markdown",
   "metadata": {},
   "source": [
    "Обучим модель kNN на различных значениях neighbors."
   ]
  },
  {
   "cell_type": "code",
   "execution_count": 90,
   "metadata": {},
   "outputs": [],
   "source": [
    "train_score = []\n",
    "test_score = []\n",
    "neighbors = range(2, 21)\n",
    "\n",
    "for k in neighbors:\n",
    "    model2 = KNeighborsClassifier(n_neighbors = k)\n",
    "    model2.fit(x2_train, y2_train)\n",
    "    train_score.append(accuracy_score(y2_train, model2.predict(x2_train)))\n",
    "    test_score.append(accuracy_score(y2_test, model2.predict(x2_test)))"
   ]
  },
  {
   "cell_type": "markdown",
   "metadata": {},
   "source": [
    "Строим график, на котором найдем максимальную оценку на тестовых данных и определим соответствующее количество neighbors. Это и будет лучшим параметром для kNN."
   ]
  },
  {
   "cell_type": "code",
   "execution_count": 91,
   "metadata": {},
   "outputs": [
    {
     "name": "stdout",
     "output_type": "stream",
     "text": [
      "Maximum KNN score on the test data: 91.25%\n"
     ]
    },
    {
     "data": {
      "image/png": "[encoded data removed]",
      "text/plain": [
       "<Figure size 864x576 with 1 Axes>"
      ]
     },
     "metadata": {},
     "output_type": "display_data"
    }
   ],
   "source": [
    "plt.figure(figsize=(12, 8))\n",
    "\n",
    "plt.plot(neighbors, train_score, label = \"Train score\")\n",
    "plt.plot(neighbors, test_score, label = \"Test score\")\n",
    "plt.xticks(np.arange(1, 21, 1))\n",
    "plt.xlabel(\"Number of neighbors\")\n",
    "plt.ylabel(\"Model score\")\n",
    "plt.legend()\n",
    "\n",
    "print(f\"Maximum KNN score on the test data: {max(test_score) * 100:.2f}%\")"
   ]
  },
  {
   "cell_type": "markdown",
   "metadata": {},
   "source": [
    "Наибольшее значение при 4 neighbors."
   ]
  },
  {
   "cell_type": "markdown",
   "metadata": {},
   "source": [
    "Обучаем модель на только что полученных лучших гиперпараметрах и выводим метрики."
   ]
  },
  {
   "cell_type": "code",
   "execution_count": 92,
   "metadata": {},
   "outputs": [
    {
     "name": "stdout",
     "output_type": "stream",
     "text": [
      "Train Result:\n",
      "================================================\n",
      "Accuracy Score: 90.30%\n",
      "_______________________________________________\n",
      "Classification Report:\tPrecision Score: 91.35%\n",
      "\t\t\tRecall Score: 98.00%\n",
      "\t\t\tF1 score: 94.56%\n",
      "_______________________________________________\n",
      "Confusion Matrix: \n",
      " [[1077   22]\n",
      " [ 102   78]]\n",
      "\n",
      "Test Result:\n",
      "================================================\n",
      "Accuracy Score: 90.94%\n",
      "_______________________________________________\n",
      "Classification Report:\tPrecision Score: 92.91%\n",
      "\t\t\tRecall Score: 97.17%\n",
      "\t\t\tF1 score: 94.99%\n",
      "_______________________________________________\n",
      "Confusion Matrix: \n",
      " [[275   8]\n",
      " [ 21  16]]\n",
      "\n"
     ]
    }
   ],
   "source": [
    "knn_classifier2 = KNeighborsClassifier(n_neighbors = 4)\n",
    "knn_classifier2.fit(x2_train, y2_train)\n",
    "\n",
    "print_score(knn_classifier2, x2_train, y2_train, x2_test, y2_test, train = True)\n",
    "print_score(knn_classifier2, x2_train, y2_train, x2_test, y2_test, train = False)"
   ]
  },
  {
   "cell_type": "markdown",
   "metadata": {},
   "source": [
    "Добавляем в табличку значения тестовой и тренировочной точности предсказания для модели, обученной с помощью kNN."
   ]
  },
  {
   "cell_type": "code",
   "execution_count": 93,
   "metadata": {},
   "outputs": [
    {
     "data": {
      "text/html": [
       "<div>\n",
       "<style scoped>\n",
       "    .dataframe tbody tr th:only-of-type {\n",
       "        vertical-align: middle;\n",
       "    }\n",
       "\n",
       "    .dataframe tbody tr th {\n",
       "        vertical-align: top;\n",
       "    }\n",
       "\n",
       "    .dataframe thead th {\n",
       "        text-align: right;\n",
       "    }\n",
       "</style>\n",
       "<table border=\"1\" class=\"dataframe\">\n",
       "  <thead>\n",
       "    <tr style=\"text-align: right;\">\n",
       "      <th></th>\n",
       "      <th>Model</th>\n",
       "      <th>Training Accuracy %</th>\n",
       "      <th>Testing Accuracy %</th>\n",
       "    </tr>\n",
       "  </thead>\n",
       "  <tbody>\n",
       "    <tr>\n",
       "      <th>0</th>\n",
       "      <td>Tuned Logistic Regression</td>\n",
       "      <td>86.630180</td>\n",
       "      <td>90.9375</td>\n",
       "    </tr>\n",
       "    <tr>\n",
       "      <th>1</th>\n",
       "      <td>Tuned K-nearest neighbors</td>\n",
       "      <td>90.304926</td>\n",
       "      <td>90.9375</td>\n",
       "    </tr>\n",
       "  </tbody>\n",
       "</table>\n",
       "</div>"
      ],
      "text/plain": [
       "                       Model  Training Accuracy %  Testing Accuracy %\n",
       "0  Tuned Logistic Regression            86.630180             90.9375\n",
       "1  Tuned K-nearest neighbors            90.304926             90.9375"
      ]
     },
     "execution_count": 93,
     "metadata": {},
     "output_type": "execute_result"
    }
   ],
   "source": [
    "test_score = accuracy_score(y2_test, knn_classifier2.predict(x2_test)) * 100\n",
    "train_score = accuracy_score(y2_train, knn_classifier2.predict(x2_train)) * 100\n",
    "\n",
    "tmp = pd.DataFrame(data = [[\"Tuned K-nearest neighbors\", train_score, test_score]], \n",
    "                          columns = ['Model', 'Training Accuracy %', 'Testing Accuracy %'])\n",
    "tuning_results_df = tuning_results_df.append(tmp, ignore_index = True)\n",
    "tuning_results_df"
   ]
  },
  {
   "cell_type": "markdown",
   "metadata": {},
   "source": [
    "Среди двух моделей выигрышной является kNN \tс точностью на тренировочных данных 89.523065, тестовых данных 86.8750."
   ]
  },
  {
   "cell_type": "markdown",
   "metadata": {},
   "source": [
    "### 3. Decision Tree Classifier Hyperparameter Tuning"
   ]
  },
  {
   "cell_type": "code",
   "execution_count": 94,
   "metadata": {},
   "outputs": [
    {
     "name": "stdout",
     "output_type": "stream",
     "text": [
      "Fitting 3 folds for each of 4332 candidates, totalling 12996 fits\n"
     ]
    },
    {
     "name": "stderr",
     "output_type": "stream",
     "text": [
      "[Parallel(n_jobs=-1)]: Using backend LokyBackend with 4 concurrent workers.\n",
      "[Parallel(n_jobs=-1)]: Done 312 tasks      | elapsed:    0.5s\n",
      "[Parallel(n_jobs=-1)]: Done 9720 tasks      | elapsed:   10.3s\n",
      "[Parallel(n_jobs=-1)]: Done 12996 out of 12996 | elapsed:   14.7s finished\n"
     ]
    },
    {
     "data": {
      "text/plain": [
       "GridSearchCV(cv=3, error_score=nan,\n",
       "             estimator=DecisionTreeClassifier(ccp_alpha=0.0, class_weight=None,\n",
       "                                              criterion='gini', max_depth=None,\n",
       "                                              max_features=None,\n",
       "                                              max_leaf_nodes=None,\n",
       "                                              min_impurity_decrease=0.0,\n",
       "                                              min_impurity_split=None,\n",
       "                                              min_samples_leaf=1,\n",
       "                                              min_samples_split=2,\n",
       "                                              min_weight_fraction_leaf=0.0,\n",
       "                                              presort='deprecated',\n",
       "                                              random_state=42,\n",
       "                                              splitter='best'),\n",
       "             iid=True, n_jobs=-1,\n",
       "             param_grid={'criterion': ('gini', 'entropy'),\n",
       "                         'max_depth': [1, 2, 3, 4, 5, 6, 7, 8, 9, 10, 11, 12,\n",
       "                                       13, 14, 15, 16, 17, 18, 19],\n",
       "                         'min_samples_leaf': [1, 2, 3, 4, 5, 6, 7, 8, 9, 10, 11,\n",
       "                                              12, 13, 14, 15, 16, 17, 18, 19],\n",
       "                         'min_samples_split': [2, 3, 4],\n",
       "                         'splitter': ('best', 'random')},\n",
       "             pre_dispatch='2*n_jobs', refit=True, return_train_score=False,\n",
       "             scoring='accuracy', verbose=1)"
      ]
     },
     "execution_count": 94,
     "metadata": {},
     "output_type": "execute_result"
    }
   ],
   "source": [
    "params = {\"criterion\":(\"gini\", \"entropy\"), \n",
    "          \"splitter\":(\"best\", \"random\"), \n",
    "          \"max_depth\":(list(range(1, 20))), \n",
    "          \"min_samples_split\":[2, 3, 4], \n",
    "          \"min_samples_leaf\":list(range(1, 20))\n",
    "          }\n",
    "\n",
    "tree2 = DecisionTreeClassifier(random_state = 42)\n",
    "grid_search_cv2 = GridSearchCV(tree2, params, scoring = \"accuracy\",\n",
    "                              n_jobs = -1, verbose = 1, cv = 3, iid = True)\n",
    "grid_search_cv2.fit(x2_train, y2_train)"
   ]
  },
  {
   "cell_type": "markdown",
   "metadata": {},
   "source": [
    "Получаем набор гиперпараметров, которые лучше всего работали во время обучения, чтобы проверить нашу модель."
   ]
  },
  {
   "cell_type": "code",
   "execution_count": 95,
   "metadata": {},
   "outputs": [
    {
     "data": {
      "text/plain": [
       "DecisionTreeClassifier(ccp_alpha=0.0, class_weight=None, criterion='entropy',\n",
       "                       max_depth=8, max_features=None, max_leaf_nodes=None,\n",
       "                       min_impurity_decrease=0.0, min_impurity_split=None,\n",
       "                       min_samples_leaf=17, min_samples_split=2,\n",
       "                       min_weight_fraction_leaf=0.0, presort='deprecated',\n",
       "                       random_state=42, splitter='random')"
      ]
     },
     "execution_count": 95,
     "metadata": {},
     "output_type": "execute_result"
    }
   ],
   "source": [
    "grid_search_cv2.best_estimator_"
   ]
  },
  {
   "cell_type": "markdown",
   "metadata": {},
   "source": [
    "Обучаем модель на только что полученных лучших гиперпараметрах и выводим метрики."
   ]
  },
  {
   "cell_type": "code",
   "execution_count": 96,
   "metadata": {},
   "outputs": [
    {
     "name": "stdout",
     "output_type": "stream",
     "text": [
      "Train Result:\n",
      "================================================\n",
      "Accuracy Score: 87.88%\n",
      "_______________________________________________\n",
      "Classification Report:\tPrecision Score: 89.27%\n",
      "\t\t\tRecall Score: 97.63%\n",
      "\t\t\tF1 score: 93.26%\n",
      "_______________________________________________\n",
      "Confusion Matrix: \n",
      " [[1073   26]\n",
      " [ 129   51]]\n",
      "\n",
      "Test Result:\n",
      "================================================\n",
      "Accuracy Score: 85.62%\n",
      "_______________________________________________\n",
      "Classification Report:\tPrecision Score: 90.17%\n",
      "\t\t\tRecall Score: 93.99%\n",
      "\t\t\tF1 score: 92.04%\n",
      "_______________________________________________\n",
      "Confusion Matrix: \n",
      " [[266  17]\n",
      " [ 29   8]]\n",
      "\n"
     ]
    }
   ],
   "source": [
    "tree2 = DecisionTreeClassifier(ccp_alpha=0.0, class_weight=None, criterion='entropy',\n",
    "                       max_depth=8, max_features=None, max_leaf_nodes=None,\n",
    "                       min_impurity_decrease=0.0, min_impurity_split=None,\n",
    "                       min_samples_leaf=17, min_samples_split=2,\n",
    "                       min_weight_fraction_leaf=0.0, presort='deprecated',\n",
    "                       random_state=42, splitter='random')\n",
    "tree2.fit(x2_train, y2_train)\n",
    "\n",
    "print_score(tree2, x2_train, y2_train, x2_test, y2_test, train = True)\n",
    "print_score(tree2, x2_train, y2_train, x2_test, y2_test, train = False)"
   ]
  },
  {
   "cell_type": "markdown",
   "metadata": {},
   "source": [
    "Добавляем в табличку значения тестовой и тренировочной точности предсказания для модели, обученной с помощью Decision Tree."
   ]
  },
  {
   "cell_type": "code",
   "execution_count": 97,
   "metadata": {},
   "outputs": [
    {
     "data": {
      "text/html": [
       "<div>\n",
       "<style scoped>\n",
       "    .dataframe tbody tr th:only-of-type {\n",
       "        vertical-align: middle;\n",
       "    }\n",
       "\n",
       "    .dataframe tbody tr th {\n",
       "        vertical-align: top;\n",
       "    }\n",
       "\n",
       "    .dataframe thead th {\n",
       "        text-align: right;\n",
       "    }\n",
       "</style>\n",
       "<table border=\"1\" class=\"dataframe\">\n",
       "  <thead>\n",
       "    <tr style=\"text-align: right;\">\n",
       "      <th></th>\n",
       "      <th>Model</th>\n",
       "      <th>Training Accuracy %</th>\n",
       "      <th>Testing Accuracy %</th>\n",
       "    </tr>\n",
       "  </thead>\n",
       "  <tbody>\n",
       "    <tr>\n",
       "      <th>0</th>\n",
       "      <td>Tuned Logistic Regression</td>\n",
       "      <td>86.630180</td>\n",
       "      <td>90.9375</td>\n",
       "    </tr>\n",
       "    <tr>\n",
       "      <th>1</th>\n",
       "      <td>Tuned K-nearest neighbors</td>\n",
       "      <td>90.304926</td>\n",
       "      <td>90.9375</td>\n",
       "    </tr>\n",
       "    <tr>\n",
       "      <th>2</th>\n",
       "      <td>Tuned Decision Tree Classifier</td>\n",
       "      <td>87.881157</td>\n",
       "      <td>85.6250</td>\n",
       "    </tr>\n",
       "  </tbody>\n",
       "</table>\n",
       "</div>"
      ],
      "text/plain": [
       "                            Model  Training Accuracy %  Testing Accuracy %\n",
       "0       Tuned Logistic Regression            86.630180             90.9375\n",
       "1       Tuned K-nearest neighbors            90.304926             90.9375\n",
       "2  Tuned Decision Tree Classifier            87.881157             85.6250"
      ]
     },
     "execution_count": 97,
     "metadata": {},
     "output_type": "execute_result"
    }
   ],
   "source": [
    "test_score = accuracy_score(y2_test, tree2.predict(x2_test)) * 100\n",
    "train_score = accuracy_score(y2_train, tree2.predict(x2_train)) * 100\n",
    "\n",
    "tmp = pd.DataFrame(data = [[\"Tuned Decision Tree Classifier\", train_score, test_score]], \n",
    "                          columns = ['Model', 'Training Accuracy %', 'Testing Accuracy %'])\n",
    "tuning_results_df = tuning_results_df.append(tmp, ignore_index = True)\n",
    "tuning_results_df"
   ]
  },
  {
   "cell_type": "markdown",
   "metadata": {},
   "source": [
    "Среди трех моделей наилучшие показатели наблюдаются у алгоритма kNN с тюнинговыми гиперпараметрами."
   ]
  },
  {
   "cell_type": "markdown",
   "metadata": {},
   "source": [
    "### 4. Random Forest Classifier Hyperparameter Tuning"
   ]
  },
  {
   "cell_type": "markdown",
   "metadata": {},
   "source": [
    "Для алгоритма Random Forest применим случайный поиск. В случайном поиске мы создаем сетку гиперпараметров и обучаем / тестируем нашу модель только на некоторой случайной комбинации этих гиперпараметров. "
   ]
  },
  {
   "cell_type": "code",
   "execution_count": 99,
   "metadata": {},
   "outputs": [
    {
     "name": "stdout",
     "output_type": "stream",
     "text": [
      "Fitting 3 folds for each of 100 candidates, totalling 300 fits\n"
     ]
    },
    {
     "name": "stderr",
     "output_type": "stream",
     "text": [
      "[Parallel(n_jobs=-1)]: Using backend LokyBackend with 4 concurrent workers.\n",
      "[Parallel(n_jobs=-1)]: Done  33 tasks      | elapsed:   27.8s\n",
      "[Parallel(n_jobs=-1)]: Done 154 tasks      | elapsed:  2.2min\n",
      "[Parallel(n_jobs=-1)]: Done 300 out of 300 | elapsed:  4.2min finished\n"
     ]
    },
    {
     "data": {
      "text/plain": [
       "RandomizedSearchCV(cv=3, error_score=nan,\n",
       "                   estimator=RandomForestClassifier(bootstrap=True,\n",
       "                                                    ccp_alpha=0.0,\n",
       "                                                    class_weight=None,\n",
       "                                                    criterion='gini',\n",
       "                                                    max_depth=None,\n",
       "                                                    max_features='auto',\n",
       "                                                    max_leaf_nodes=None,\n",
       "                                                    max_samples=None,\n",
       "                                                    min_impurity_decrease=0.0,\n",
       "                                                    min_impurity_split=None,\n",
       "                                                    min_samples_leaf=1,\n",
       "                                                    min_samples_split=2,\n",
       "                                                    min_weight_fraction_leaf=0.0,\n",
       "                                                    n_estimators=100,\n",
       "                                                    n_jobs...\n",
       "                   param_distributions={'bootstrap': [True, False],\n",
       "                                        'max_depth': [10, 20, 30, 40, 50, 60,\n",
       "                                                      70, 80, 90, 100, 110,\n",
       "                                                      None],\n",
       "                                        'max_features': ['auto', 'sqrt'],\n",
       "                                        'min_samples_leaf': [1, 2, 4],\n",
       "                                        'min_samples_split': [2, 5, 10],\n",
       "                                        'n_estimators': [200, 400, 600, 800,\n",
       "                                                         1000, 1200, 1400, 1600,\n",
       "                                                         1800, 2000]},\n",
       "                   pre_dispatch='2*n_jobs', random_state=42, refit=True,\n",
       "                   return_train_score=False, scoring=None, verbose=2)"
      ]
     },
     "execution_count": 99,
     "metadata": {},
     "output_type": "execute_result"
    }
   ],
   "source": [
    "from sklearn.model_selection import RandomizedSearchCV\n",
    "\n",
    "n_estimators = [int(x) for x in np.linspace(start=200, stop=2000, num=10)]\n",
    "max_features = ['auto', 'sqrt']\n",
    "max_depth = [int(x) for x in np.linspace(10, 110, num=11)]\n",
    "max_depth.append(None)\n",
    "min_samples_split = [2, 5, 10]\n",
    "min_samples_leaf = [1, 2, 4]\n",
    "bootstrap = [True, False]\n",
    "\n",
    "random_grid = {'n_estimators': n_estimators, 'max_features': max_features,\n",
    "               'max_depth': max_depth, 'min_samples_split': min_samples_split,\n",
    "               'min_samples_leaf': min_samples_leaf, 'bootstrap': bootstrap}\n",
    "\n",
    "rand_forest2 = RandomForestClassifier(random_state=42)\n",
    "\n",
    "rf_random2 = RandomizedSearchCV(estimator=rand_forest2, param_distributions=random_grid,\n",
    "                                n_iter=100, cv=3, verbose=2, random_state=42, n_jobs=-1)\n",
    "\n",
    "\n",
    "rf_random2.fit(x2_train, y2_train)"
   ]
  },
  {
   "cell_type": "markdown",
   "metadata": {},
   "source": [
    "Получаем набор гиперпараметров, которые лучше всего работали во время обучения, чтобы проверить нашу модель."
   ]
  },
  {
   "cell_type": "code",
   "execution_count": 100,
   "metadata": {},
   "outputs": [
    {
     "data": {
      "text/plain": [
       "RandomForestClassifier(bootstrap=False, ccp_alpha=0.0, class_weight=None,\n",
       "                       criterion='gini', max_depth=None, max_features='sqrt',\n",
       "                       max_leaf_nodes=None, max_samples=None,\n",
       "                       min_impurity_decrease=0.0, min_impurity_split=None,\n",
       "                       min_samples_leaf=1, min_samples_split=2,\n",
       "                       min_weight_fraction_leaf=0.0, n_estimators=400,\n",
       "                       n_jobs=None, oob_score=False, random_state=42, verbose=0,\n",
       "                       warm_start=False)"
      ]
     },
     "execution_count": 100,
     "metadata": {},
     "output_type": "execute_result"
    }
   ],
   "source": [
    "rf_random2.best_estimator_"
   ]
  },
  {
   "cell_type": "markdown",
   "metadata": {},
   "source": [
    "Обучаем модель на самых лучших гиперпараметрах."
   ]
  },
  {
   "cell_type": "code",
   "execution_count": 101,
   "metadata": {},
   "outputs": [
    {
     "data": {
      "text/plain": [
       "RandomForestClassifier(bootstrap=True, ccp_alpha=0.0, class_weight=None,\n",
       "                       criterion='gini', max_depth=None, max_features='auto',\n",
       "                       max_leaf_nodes=None, max_samples=None,\n",
       "                       min_impurity_decrease=0.0, min_impurity_split=None,\n",
       "                       min_samples_leaf=1, min_samples_split=2,\n",
       "                       min_weight_fraction_leaf=0.0, n_estimators=100,\n",
       "                       n_jobs=None, oob_score=False, random_state=42, verbose=0,\n",
       "                       warm_start=False)"
      ]
     },
     "execution_count": 101,
     "metadata": {},
     "output_type": "execute_result"
    }
   ],
   "source": [
    "RandomForestClassifier(bootstrap=False, ccp_alpha=0.0, class_weight=None,\n",
    "                       criterion='gini', max_depth=None, max_features='sqrt',\n",
    "                       max_leaf_nodes=None, max_samples=None,\n",
    "                       min_impurity_decrease=0.0, min_impurity_split=None,\n",
    "                       min_samples_leaf=1, min_samples_split=2,\n",
    "                       min_weight_fraction_leaf=0.0, n_estimators=400,\n",
    "                       n_jobs=None, oob_score=False, random_state=42, verbose=0,\n",
    "                       warm_start=False)\n",
    "rand_forest2.fit(x2_train, y2_train)"
   ]
  },
  {
   "cell_type": "markdown",
   "metadata": {},
   "source": [
    "Печатаем полученные метрики."
   ]
  },
  {
   "cell_type": "code",
   "execution_count": 102,
   "metadata": {},
   "outputs": [
    {
     "name": "stdout",
     "output_type": "stream",
     "text": [
      "Train Result:\n",
      "================================================\n",
      "Accuracy Score: 100.00%\n",
      "_______________________________________________\n",
      "Classification Report:\tPrecision Score: 100.00%\n",
      "\t\t\tRecall Score: 100.00%\n",
      "\t\t\tF1 score: 100.00%\n",
      "_______________________________________________\n",
      "Confusion Matrix: \n",
      " [[1099    0]\n",
      " [   0  180]]\n",
      "\n",
      "Test Result:\n",
      "================================================\n",
      "Accuracy Score: 90.62%\n",
      "_______________________________________________\n",
      "Classification Report:\tPrecision Score: 95.34%\n",
      "\t\t\tRecall Score: 93.99%\n",
      "\t\t\tF1 score: 94.66%\n",
      "_______________________________________________\n",
      "Confusion Matrix: \n",
      " [[266  17]\n",
      " [ 13  24]]\n",
      "\n"
     ]
    }
   ],
   "source": [
    "print_score(rand_forest2, x2_train, y2_train, x2_test, y2_test, train=True)\n",
    "print_score(rand_forest2, x2_train, y2_train, x2_test, y2_test, train=False)"
   ]
  },
  {
   "cell_type": "markdown",
   "metadata": {},
   "source": [
    "Получили хорошие значения точности как на тестовых, так и на тренировочных данных."
   ]
  },
  {
   "cell_type": "markdown",
   "metadata": {},
   "source": [
    "Добавляем в табличку значения тестовой и тренировочной точности предсказания для модели, обученной с помощью Random Forest."
   ]
  },
  {
   "cell_type": "code",
   "execution_count": 103,
   "metadata": {},
   "outputs": [
    {
     "data": {
      "text/html": [
       "<div>\n",
       "<style scoped>\n",
       "    .dataframe tbody tr th:only-of-type {\n",
       "        vertical-align: middle;\n",
       "    }\n",
       "\n",
       "    .dataframe tbody tr th {\n",
       "        vertical-align: top;\n",
       "    }\n",
       "\n",
       "    .dataframe thead th {\n",
       "        text-align: right;\n",
       "    }\n",
       "</style>\n",
       "<table border=\"1\" class=\"dataframe\">\n",
       "  <thead>\n",
       "    <tr style=\"text-align: right;\">\n",
       "      <th></th>\n",
       "      <th>Model</th>\n",
       "      <th>Training Accuracy %</th>\n",
       "      <th>Testing Accuracy %</th>\n",
       "    </tr>\n",
       "  </thead>\n",
       "  <tbody>\n",
       "    <tr>\n",
       "      <th>0</th>\n",
       "      <td>Tuned Logistic Regression</td>\n",
       "      <td>86.630180</td>\n",
       "      <td>90.9375</td>\n",
       "    </tr>\n",
       "    <tr>\n",
       "      <th>1</th>\n",
       "      <td>Tuned K-nearest neighbors</td>\n",
       "      <td>90.304926</td>\n",
       "      <td>90.9375</td>\n",
       "    </tr>\n",
       "    <tr>\n",
       "      <th>2</th>\n",
       "      <td>Tuned Decision Tree Classifier</td>\n",
       "      <td>87.881157</td>\n",
       "      <td>85.6250</td>\n",
       "    </tr>\n",
       "    <tr>\n",
       "      <th>3</th>\n",
       "      <td>Tuned Random Forest Classifier</td>\n",
       "      <td>100.000000</td>\n",
       "      <td>90.6250</td>\n",
       "    </tr>\n",
       "  </tbody>\n",
       "</table>\n",
       "</div>"
      ],
      "text/plain": [
       "                            Model  Training Accuracy %  Testing Accuracy %\n",
       "0       Tuned Logistic Regression            86.630180             90.9375\n",
       "1       Tuned K-nearest neighbors            90.304926             90.9375\n",
       "2  Tuned Decision Tree Classifier            87.881157             85.6250\n",
       "3  Tuned Random Forest Classifier           100.000000             90.6250"
      ]
     },
     "execution_count": 103,
     "metadata": {},
     "output_type": "execute_result"
    }
   ],
   "source": [
    "test_score = accuracy_score(y2_test, rand_forest2.predict(x2_test)) * 100\n",
    "train_score = accuracy_score(y2_train, rand_forest2.predict(x2_train)) * 100\n",
    "\n",
    "results_df_2 = pd.DataFrame(data = [[\"Tuned Random Forest Classifier\", train_score, test_score]], \n",
    "                          columns = ['Model', 'Training Accuracy %', 'Testing Accuracy %'])\n",
    "tuning_results_df = tuning_results_df.append(results_df_2, ignore_index = True)\n",
    "tuning_results_df"
   ]
  },
  {
   "cell_type": "markdown",
   "metadata": {},
   "source": [
    "Их всех четырех алгоритмов наилучший результат показал случайный лес на тренировочных данных, а на тестовых данных хорошо себя проявили логистическая регрессия и алгоритм kNN."
   ]
  },
  {
   "cell_type": "markdown",
   "metadata": {},
   "source": [
    "### Вывод\n",
    "\n",
    "Выполнив данную лабораторную работу, я научилась реализовывать популярные алгоритмы машинного обучения, провела анализ полученных моделей, вычислила метрики классификатора. Также я сделала тюнинг гиперпараметров, что является оптимизацией алгоритмов. Хотелось бы отметить преимущества и недостатки каждого из рассмотренных алгоритмов.\n",
    "\n",
    "\n",
    "#### 1. Logistic Regression\n",
    "\n",
    "Преимущества.\n",
    "\n",
    "Это широко используемый метод, потому что он очень эффективен, не требует слишком большого количества вычислительных ресурсов. Его легко понять и объяснить. Легко упорядочить и выводит хорошо откалиброванные предсказанные вероятности. Логистическая регрессия работает лучше, когда вы удаляете атрибуты, которые не связаны с выходной переменной, а также атрибуты, которые очень похожи (коррелированы) друг на друга.\n",
    "\n",
    "Недостатки.\n",
    "\n",
    "Недостатком этого метода является то, что мы не можем решать нелинейные задачи с помощью логистической регрессии, поскольку ее поверхность принятия решений является линейной.\n",
    "Логистическая регрессия также не является одним из самых мощных алгоритмов и может быть легко превзойдена более сложными. Это также алгоритм, который известен своей уязвимостью к переобучению.\n",
    "\n",
    "#### 2. kNN\n",
    "\n",
    "Преимущества.\n",
    "\n",
    "Алгоритм устойчив к аномальным выбросам, так как вероятность попадания такой записи в число k-ближайших соседей мала. Если же это произошло, то влияние на голосование (особенно взвешенное) (при k>2) также, скорее всего, будет незначительным, и, следовательно, малым будет и влияние на итог классификации.\n",
    "Программная реализация алгоритма относительно проста.\n",
    "Результат работы алгоритма легко поддаётся интерпретации. \n",
    "Возможность модификации алгоритма, путём использования наиболее подходящих функций сочетания и метрик позволяет подстроить алгоритм под конкретную задачу.\n",
    "\n",
    "Недостатки. \n",
    "\n",
    "Набор данных, используемый для алгоритма, должен быть репрезентативным. Модель нельзя \"отделить\" от данных: для классификации нового примера нужно использовать все примеры. Эта особенность сильно ограничивает использование алгоритма.\n",
    "\n",
    "\n",
    "#### 3. Decision Tree\n",
    "\n",
    "Преимущества.\n",
    "\n",
    "Этот алгоритм простой для понимания, интерпретации, визуализации.\n",
    "Деревья решений неявно выполняют скрининг переменных или выбор функций.\n",
    "Может обрабатывать как числовые, так и категориальные данные. Может также обрабатывать проблемы с несколькими выходами.\n",
    "Деревья решений требуют относительно небольших усилий от пользователей для подготовки данных.\n",
    "Нелинейные отношения между параметрами не влияют на производительность дерева.\n",
    "\n",
    "Недостатки.\n",
    "\n",
    "Новички, использующие дерево решений, могут создавать слишком сложные деревья, которые плохо обобщают данные. Это называется переобучением.\n",
    "Деревья решений могут быть нестабильными, поскольку небольшие изменения в данных могут привести к созданию совершенно другого дерева. Это называется дисперсией (variance), которая должна быть снижена такими методами, как bagging и boosting.\n",
    "Жадные алгоритмы не могут гарантировать возвращение глобально оптимального дерева решений. Это может быть смягчено путем обучения нескольких деревьев, где элементы и образцы выбираются случайным образом с заменой.\n",
    "\n",
    "\n",
    "#### 4. Random Forest\n",
    "\n",
    "Преимущества.\n",
    "\n",
    "Случайные леса рассматриваются как высокоточный и надежный метод из-за количества деревьев решений, участвующих в процессе. Также, этот алгоритм не склонен к переобучению. Он преодолевает эту проблему путем усреднения или объединения результатов различных деревьев решений. Алгоритм может использоваться как в задачах классификации, так и в регрессии. Случайные леса хорошо работают с большим количеством элементов данных, чем одно дерево решений. Случайный лес имеет меньшую дисперсию, чем одно дерево решений. Случайные леса очень гибки и обладают очень высокой точностью. Случайные леса также могут обрабатывать пропущенные значения. \n",
    "\n",
    "Недостатки.\n",
    "\n",
    "Сложность является основным недостатком алгоритмов случайного леса.\n",
    "Построение случайных лесов намного сложнее и отнимает больше времени, чем деревья решений. Случайные леса медленно генерируют прогнозы, потому что у них есть несколько деревьев решений. Всякий раз, когда делается прогноз, все деревья в лесу должны сделать прогноз для одного и того же заданного ввода, а затем выполнить голосование по нему. Весь этот процесс занимает много времени. Модель трудно интерпретировать по сравнению с деревом решений, где вы можете легко принять решение, следуя пути в дереве.\n"
   ]
  }
 ],
 "metadata": {
  "kernelspec": {
   "display_name": "Python 3",
   "language": "python",
   "name": "python3"
  },
  "language_info": {
   "codemirror_mode": {
    "name": "ipython",
    "version": 3
   },
   "file_extension": ".py",
   "mimetype": "text/x-python",
   "name": "python",
   "nbconvert_exporter": "python",
   "pygments_lexer": "ipython3",
   "version": "3.7.2"
  }
 },
 "nbformat": 4,
 "nbformat_minor": 2
}
